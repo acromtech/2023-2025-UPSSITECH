{
 "cells": [
  {
   "cell_type": "markdown",
   "metadata": {},
   "source": [
    "\n",
    "#            Calcul numérique du MGI d'un RRR par PNL avec contraintes #\n",
    "\n"
   ]
  },
  {
   "cell_type": "markdown",
   "metadata": {},
   "source": [
    "|![alternative text](robot-rrr3-sol.png)|\n",
    "|:--:| \n",
    "| *  Robot RRR  * |"
   ]
  },
  {
   "cell_type": "markdown",
   "metadata": {},
   "source": [
    "## Objectif\n",
    "On se propose de calculer de manière numérique un modèle géométrique inverse (MGI) d'un robot RRR en utilisant les fonctions de $scipy$ $optimize$ et en considérant des contraintes.\n",
    "\n",
    "* La configuration du robot est défini par le vecteur $q = (q_1, q_2, q_3)^t$.\n",
    "* La situation de l'outil est défini par le vecteur $X = (x, y, \\theta)^t$ .\n"
   ]
  },
  {
   "cell_type": "markdown",
   "metadata": {},
   "source": [
    "## Calcul du MGD\n",
    "La fonction suivante calcule le modèle géométrique direct:\n"
   ]
  },
  {
   "cell_type": "code",
   "execution_count": 21,
   "metadata": {},
   "outputs": [],
   "source": [
    "import numpy as np\n",
    "\n",
    "'''\n",
    "Cartesian displacement calculator (MGD - Direct Geometric Model) for an RRR robot (3 degrees of freedom with rotary joints).\n",
    "The MGD takes input joint configuration in degrees and returns the Cartesian coordinates (x, y, z) of the robot's end-effector in space.\n",
    "# INPUT: q = configuration vector (deg, deg, deg)\n",
    "# OUTPUT: Xc = pose vector = (x, y, z)\n",
    "'''\n",
    "def mgd(qdeg):\n",
    "    # Parameters of the robot\n",
    "    a, b, c = 1, 1, 1                   # Lengths of the robot arms\n",
    "    qrad = np.deg2rad(qdeg)             # Convert input joint angles from degrees to radians\n",
    "    c1 = np.cos(qrad[0])                # Cosine of the first joint angle\n",
    "    s1 = np.sin(qrad[0])                # Sine of the first joint angle\n",
    "    c23 = np.cos(qrad[2] + qrad[1])     # Cosine of the sum of second and third joint angles\n",
    "    s23 = np.sin(qrad[2] + qrad[1])     # Sine of the sum of second and third joint angles\n",
    "    c2 = np.cos(qrad[1])                # Cosine of the second joint angle\n",
    "    s2 = np.sin(qrad[1])                # Sine of the second joint angle\n",
    "\n",
    "    # Calculate the Cartesian coordinates (x, y, z) of the robot's end-effector\n",
    "    x = a * c1 * c2 + b * c1 * c23\n",
    "    y = a * s1 * c2 + b * s1 * c23\n",
    "    z = a * s2 + b * s23 + c\n",
    "\n",
    "    # Create a NumPy array to store the Cartesian coordinates\n",
    "    Xd = np.asarray([x, y, z])\n",
    "\n",
    "    # Return the Cartesian coordinates of the end-effector\n",
    "    return Xd"
   ]
  },
  {
   "cell_type": "code",
   "execution_count": 22,
   "metadata": {},
   "outputs": [],
   "source": [
    "import numpy as np\n",
    "\n",
    "''' \n",
    "Calculates the analytical Jacobian matrix J(q) for an RRR robot, which relates the end-effector's \n",
    "linear and angular velocities to the joint velocities. It takes input joint angles in degrees, \n",
    "converts them to radians, and then computes the Jacobian matrix based on the robot's parameters and the joint angles. \n",
    "The result is returned as a NumPy array representing the analytical Jacobian matrix.\n",
    "'''\n",
    "def jacobian(qdeg):\n",
    "    # Parameters of the robot\n",
    "    a, b = 1, 1                         # Lengths of the robot arms\n",
    "    qrad = np.deg2rad(qdeg)             # Convert input joint angles from degrees to radians\n",
    "    c1 = np.cos(qrad[0])                # Cosine of the first joint angle\n",
    "    s1 = np.sin(qrad[0])                # Sine of the first joint angle\n",
    "    c23 = np.cos(qrad[2] + qrad[1])     # Cosine of the sum of second and third joint angles\n",
    "    s23 = np.sin(qrad[2] + qrad[1])     # Sine of the sum of second and third joint angles\n",
    "    c2 = np.cos(qrad[1])                # Cosine of the second joint angle\n",
    "    s2 = np.sin(qrad[1])                # Sine of the second joint angle\n",
    "\n",
    "    # Calculate the analytical Jacobian matrix J(q) for the RRR robot\n",
    "    Ja = np.array([[-a * s1 * c2 - b * s1 * c23, -a * c1 * s2 - b * c1 * s23, -b * c1 * s23],\n",
    "                   [a * c1 * c2 + b * c1 * c23, -a * s1 * s2 - b * s1 * s23, -b * s1 * s23],\n",
    "                   [0, a * c2 + b * c23, b * c23]])\n",
    "\n",
    "    # Return the analytical Jacobian matrix J(q)\n",
    "    return Ja"
   ]
  },
  {
   "cell_type": "markdown",
   "metadata": {},
   "source": [
    "## 1 - Calcul du MGI sans contraintes\n",
    "\n",
    "Trouver et utiliser les fonctions de $optimize$ permettant de calculer le MGI $(root, broyden, minimize,...)$.  \n",
    "Comparer les résultats avec votre implémentation\n"
   ]
  },
  {
   "cell_type": "code",
   "execution_count": 23,
   "metadata": {},
   "outputs": [
    {
     "name": "stdout",
     "output_type": "stream",
     "text": [
      "Coordinates q_solution_mini: [-4.50000000e+01 -2.08840734e-08  4.50000000e+01]\n",
      "Coordinates X_solution_mini: [ 1.20710678 -1.20710678  1.70710678]\n",
      "False\n",
      "\n",
      "Coordinates q_solution_root: [-4.50000000e+01  1.44802271e-09  4.50000000e+01]\n",
      "Coordinates X_solution_root: [ 1.20710678 -1.20710678  1.70710678]\n",
      "True\n",
      "\n",
      "Coordinates q_solution_broy: [315.00000021  45.00000151 314.99999366]\n",
      "Coordinates X_solution_broy: [ 1.20710677 -1.20710676  1.70710672]\n",
      "True\n",
      "\n",
      "X desired = 1.2071067811865477 Y desired = -1.2071067811865477 Z desired = 1.7071067811865475\n"
     ]
    }
   ],
   "source": [
    "import numpy as np\n",
    "from scipy.optimize import minimize, root\n",
    "\n",
    "'''\n",
    "Performs optimization and root-finding to find the joint angles that achieve a desired end-effector position (Xdesired) for the RRR robot. \n",
    "It uses the provided cost functions to formulate and solve the optimization and root-finding problems, respectively. \n",
    "Finally, it prints the results, including the joint angles and the corresponding end-effector positions.\n",
    "'''\n",
    "\n",
    "# Define a cost function for the root-finding method\n",
    "def cost_root(q):\n",
    "    return mgd(q) - Xdesired\n",
    "\n",
    "# Define a cost function for the optimization method\n",
    "def cost_function(q, Xdesired):\n",
    "    Xcurrent = mgd(q)\n",
    "    return np.linalg.norm(Xcurrent - Xdesired)\n",
    "\n",
    "qinit = np.asarray([5.0, 0, 4.0])       # Initial guess for joint angles\n",
    "qbut = np.asarray([-45.0, 0, 45.0])     # Target joint angles\n",
    "Xdesired = mgd(qbut)                    # Calculate the desired end-effector position based on the target joint angles\n",
    "\n",
    "# Use the optimization method (BFGS) to find the joint angles that minimize the distance to the target\n",
    "result = minimize(cost_function, qinit, args=(Xdesired,), method='BFGS')\n",
    "q_solution_mini = result.x              # Extract the optimized joint angles\n",
    "X_solution_mini = mgd(q_solution_mini)  # Calculate the end-effector position for the optimized joint angles\n",
    "\n",
    "# Use the root-finding method (hybr) to find joint angles that satisfy the root cost function\n",
    "sol = root(cost_root, qinit, jac=jacobian, method=\"hybr\")\n",
    "q_solution_root = sol.x                 # Extract the root-finding result joint angles\n",
    "X_solution_root = mgd(q_solution_root)  # Calculate the end-effector position for the root-finding result joint angles\n",
    "\n",
    "# Use the root-finding method (broyden1) to find joint angles that satisfy the root cost function\n",
    "sol1 = root(cost_root, qinit, method=\"broyden1\")\n",
    "q_solution_broy = sol1.x                # Extract the root-finding result joint angles\n",
    "X_solution_broy = mgd(q_solution_broy)  # Calculate the end-effector position for the root-finding result joint angles\n",
    "\n",
    "# Print the results\n",
    "print(\"Coordinates q_solution_mini:\", q_solution_mini)\n",
    "print(\"Coordinates X_solution_mini:\", X_solution_mini)\n",
    "print(result.success)\n",
    "print(\"\\r\")\n",
    "print(\"Coordinates q_solution_root:\", q_solution_root)\n",
    "print(\"Coordinates X_solution_root:\", X_solution_root)\n",
    "print(sol.success)\n",
    "print(\"\\r\")\n",
    "print(\"Coordinates q_solution_broy:\", q_solution_broy % 360)  # Ensure joint angles are within [0, 360) degrees\n",
    "print(\"Coordinates X_solution_broy:\", X_solution_broy)\n",
    "print(sol1.success)\n",
    "print(\"\\r\")\n",
    "print(\"X desired =\", Xdesired[0], \"Y desired =\", Xdesired[1], \"Z desired =\", Xdesired[2])"
   ]
  },
  {
   "cell_type": "markdown",
   "metadata": {},
   "source": [
    "**Conclusion**  \n",
    "Comme on peut le voir en utilisant les diverses méthodes on obtient des degrès de précision différent.  \n",
    "*minimize* et *root* ont la même précision sur X_solution cependant root semble plus précis sur les mouvements de q.  \n",
    "En comparaison Broyden est moins précis sur X_solution et surtout ,sans contraintes, présentent des valeurs de q trop élevé.\n",
    "\n",
    "**Note** : Le success renvoie le résultat false pour minimize car nous évoluons de R3 vers R3 et non pas de Rn vers R"
   ]
  },
  {
   "cell_type": "markdown",
   "metadata": {},
   "source": [
    "## 2 - Calcul du MGI avec  contraintes\n",
    "\n",
    "Définir et utiliser une fonction $fun$ permettant de calculer la solution du MGI la plus proche de la configuration initiale $qinit$ donnée à la fonction $minimize$.\n",
    "\n",
    "$res = minimize(fun, qinit, ....)$\n",
    "\n",
    "\n"
   ]
  },
  {
   "cell_type": "code",
   "execution_count": 24,
   "metadata": {},
   "outputs": [
    {
     "name": "stdout",
     "output_type": "stream",
     "text": [
      "Xbut = 1.2071067811865477 Ybut = -1.2071067811865477 Zbut = 1.7071067811865475\n",
      "Xinit = 0.6544609021692981 Yinit = 1.1335595341245885 Zinit = 2.5057422912338403\n",
      "[ -45.         -720.00000001 1485.00000002]\n",
      "[ 1.20710678 -1.20710678  1.70710678]\n",
      "True\n"
     ]
    }
   ],
   "source": [
    "import numpy as np\n",
    "from scipy.optimize import minimize\n",
    "\n",
    "'''\n",
    "Finds the joint angles that minimize the distance between the initial joint angles (qinit) and the target joint angles (qbut) \n",
    "while ensuring that the end-effector reaches the desired position (Xbut, Ybut, Zbut). \n",
    "It uses an objective function that calculates the Euclidean distance between joint angle vectors. \n",
    "The code sets up equality constraints to enforce the desired end-effector position. \n",
    "Finally, it uses the 'slsqp' optimization method to find the optimized joint angles and prints the results.\n",
    "'''\n",
    "\n",
    "# Define an objective function that calculates the distance between qdeg and qinit\n",
    "def objective_distance(qdeg):\n",
    "    return np.linalg.norm(qdeg - qinit)\n",
    "\n",
    "qbut = np.asarray([-45.0, 0, 45.0])     # Target joint angles\n",
    "Xbut = mgd(qbut)                        # Calculate the desired end-effector position based on the target joint angles\n",
    "print(\"Xbut =\", Xbut[0], \"Ybut =\", Xbut[1], \"Zbut =\", Xbut[2])\n",
    "\n",
    "qinit = np.asarray([60.0, 45, 8.0])     # Initial guess for joint angles\n",
    "Xinit = mgd(qinit)                      # Calculate the initial end-effector position based on the initial joint angles\n",
    "print(\"Xinit =\", Xinit[0], \"Yinit =\", Xinit[1], \"Zinit =\", Xinit[2])\n",
    "\n",
    "# Define equality constraints to ensure that the end-effector reaches the desired position (Xbut, Ybut, Zbut)\n",
    "constraints = ({'type': 'eq', 'fun': lambda qdeg: Xbut[0] - mgd(qdeg)[0]},\n",
    "               {'type': 'eq', 'fun': lambda qdeg: Xbut[1] - mgd(qdeg)[1]},\n",
    "               {'type': 'eq', 'fun': lambda qdeg: Xbut[2] - mgd(qdeg)[2]})\n",
    "\n",
    "# Use the optimization method (slsqp) to find the joint angles that minimize the objective function\n",
    "solMinimize = minimize(objective_distance, qinit, constraints=constraints, method='slsqp')\n",
    "print(solMinimize.x)                    # Extract the optimized joint angles\n",
    "print(mgd(solMinimize.x))               # Calculate the end-effector position for the optimized joint angles\n",
    "print(solMinimize.success)              # Print the optimization success status"
   ]
  },
  {
   "cell_type": "markdown",
   "metadata": {},
   "source": [
    "**Conclusion**  \n",
    "Ici on ajoute une contrainte d'égalité pour obtenir le mouvement minimum et trouver le point le plus proche, on a donc utilisé la méthode minimize en ajoutant un paramètre contraints qu'on a défini avec notre contrainte d'égalité."
   ]
  },
  {
   "cell_type": "markdown",
   "metadata": {},
   "source": [
    "## 3 - Calcul du MGI avec  contraintes\n",
    "\n",
    "Définir et utiliser une fonction permettant de calculer la solution du MGI en prenant en compte les butées du robot.\n",
    "\n",
    "$q_1 \\in [-120, 120]$\n",
    "\n",
    "$q_2 \\in [-45, 120]$\n",
    "\n",
    "$q_3 \\in [-120, 120]$\n"
   ]
  },
  {
   "cell_type": "code",
   "execution_count": 25,
   "metadata": {},
   "outputs": [
    {
     "name": "stdout",
     "output_type": "stream",
     "text": [
      "MGI Solution: q1 = 10.000000005299269 q2 = -2.2444141436898157e-09 q3 = -2.24440172938732e-09\n"
     ]
    }
   ],
   "source": [
    "import numpy as np\n",
    "from scipy.optimize import minimize\n",
    "\n",
    "'''\n",
    "Performs inverse kinematics (MGI) for the 3-DOF robot. \n",
    "It finds the joint angles (q1, q2, q3) that achieve a specified target position (x, y, z) while respecting joint limits. \n",
    "The code defines the direct kinematics, objective function, and uses the minimize function from SciPy to find the joint angles. \n",
    "Finally, it prints the results or indicates if convergence failed.\n",
    "'''\n",
    "\n",
    "# Define joint limits\n",
    "q1_min, q1_max = -120, 120\n",
    "q2_min, q2_max = -45, 120\n",
    "q3_min, q3_max = -120, 120\n",
    "\n",
    "# Define the direct kinematics function for the robot\n",
    "def direct_kinematics(q):\n",
    "    q1, q2, q3 = q\n",
    "    x = q1 + q2 + q3\n",
    "    y = q1 - q2 + q3\n",
    "    z = q1 + q2 - q3\n",
    "    return np.array([x, y, z])\n",
    "\n",
    "# Define the objective function to minimize the distance between the current position and the target position\n",
    "def objective_function(q, target_position):\n",
    "    current_position = direct_kinematics(q)\n",
    "    return np.linalg.norm(target_position - current_position)\n",
    "\n",
    "# Define a function to solve the inverse kinematics problem (MGI) and find joint angles for a target position\n",
    "def solve_mgi(target_position):\n",
    "    initial_guess = [0, 0, 0]\n",
    "    bounds = [(q1_min, q1_max), (q2_min, q2_max), (q3_min, q3_max)]\n",
    "    \n",
    "    # Check if the target position is within joint limits\n",
    "    if any(x < q_min or x > q_max for x, (q_min, q_max) in zip(target_position, bounds)):\n",
    "        return None\n",
    "    \n",
    "    # Use the optimization method to find joint angles that minimize the objective function\n",
    "    result = minimize(objective_function, initial_guess, args=(target_position,), bounds=bounds)\n",
    "    \n",
    "    # Check if optimization was successful\n",
    "    if result.success:\n",
    "        q1, q2, q3 = result.x\n",
    "        return q1, q2, q3\n",
    "    else:\n",
    "        return None\n",
    "\n",
    "# Specify a target position in Cartesian coordinates\n",
    "target_position = np.array([10, 10, 10])\n",
    "\n",
    "# Use the solve_mgi function to find the joint angles that achieve the target position\n",
    "result = solve_mgi(target_position)\n",
    "\n",
    "# Check if a solution was found\n",
    "if result is not None:\n",
    "    q1, q2, q3 = result\n",
    "    print(\"MGI Solution: q1 =\", q1, \"q2 =\", q2, \"q3 =\", q3)\n",
    "else:\n",
    "    print(\"Convergence failure.\")"
   ]
  },
  {
   "cell_type": "markdown",
   "metadata": {},
   "source": [
    "**Conclusion**  \n",
    "Ici on utilise la fonction minimize pour calculer le MGI en lui ajoutant des contraintes de limites sur q afin de limiter ses mouvements et ainsi correspondre aux restrictions sur les butées du robot.  \n",
    "En conlusion il a de nombreuses possiblités d'ajout de contraintes pour correspondre au mieux à notre problème.  \n",
    "Ici on défini :\n",
    "* un **qmin** et un **qmax** pour définir les butées du robot\n",
    "* une fonction **direct_kinematics** pour définir les mouvements sur x, y et z définissant la position du robot.  \n",
    "* la méthode **minimize** pour récupérer les valeurs et on vérifie sur la convergence est possible ou non."
   ]
  }
 ],
 "metadata": {
  "kernelspec": {
   "display_name": "Python 3 (ipykernel)",
   "language": "python",
   "name": "python3"
  },
  "language_info": {
   "codemirror_mode": {
    "name": "ipython",
    "version": 3
   },
   "file_extension": ".py",
   "mimetype": "text/x-python",
   "name": "python",
   "nbconvert_exporter": "python",
   "pygments_lexer": "ipython3",
   "version": "3.7.9"
  }
 },
 "nbformat": 4,
 "nbformat_minor": 2
}
