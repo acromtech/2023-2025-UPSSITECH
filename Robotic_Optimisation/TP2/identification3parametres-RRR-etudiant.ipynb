{
 "cells": [
  {
   "cell_type": "markdown",
   "metadata": {},
   "source": [
    "\n",
    "#            TP Identification de paramètres d'un robot RRR par techniques des moindres carrées #\n",
    "\n"
   ]
  },
  {
   "cell_type": "markdown",
   "metadata": {},
   "source": [
    "Soit le robot RRR correspondant à la figure suivante:"
   ]
  },
  {
   "cell_type": "markdown",
   "metadata": {},
   "source": [
    "![alternative text](robot-rrr3-sol.png)"
   ]
  },
  {
   "cell_type": "markdown",
   "metadata": {},
   "source": [
    "- La configuration du robot est défini par le vecteur $q = (q_1, q_2, q_3)^t$.\n",
    "\n",
    "- La situation de l'outil est défini par le vecteur $X = (x, y, z)^t$ ."
   ]
  },
  {
   "cell_type": "markdown",
   "metadata": {},
   "source": [
    "## Objectif\n",
    "L'objectif est d'identifier certains paramètres géométriques du robot plan RRR.\n",
    "\n",
    "A l'aide d'une caméra, on a mesuré le vecteur $X$ pour un ensemble de configurations $q$. On considère que toutes les mesures sont exactes (pas d'erreurs liées au système de mesure).\n",
    "\n",
    "Les résultats se trouvent dans les fichier *mesuresX.dat*. Chaque ligne comporte une mesure avec la convention suivante pour les 6 valeurs:\n",
    "\n",
    "$q_1$, $q_2$, $q_3$, x, y, z sur chaque ligne (format %12.6f pour chaque valeur). Les longueurs sont exprimés en mètre.\n",
    "\n",
    "- A: Dans un premier temps on veut identifier les longueurs des liaisons $a$, $b$, $c$ du robot RRR en considérant que les valeurs des angles $q_i$ sont exactes.\n",
    "\n",
    "Fichier de mesure: *mesures1.dat*\n",
    "\n",
    "\n",
    "## Travail\n",
    "\n",
    "Modéliser le problème comme un problème d'optimisation\n",
    "\n",
    "Implémenter votre problème et le résoudre \n"
   ]
  },
  {
   "cell_type": "code",
   "execution_count": 2,
   "metadata": {},
   "outputs": [],
   "source": [
    "#################################################   \n",
    "# Import \n",
    "from matplotlib import cm\n",
    "import matplotlib.pyplot as plt\n",
    "import numpy as np\n",
    "import scipy\n",
    "import time\n",
    "from random import *\n",
    "from numpy.linalg import inv,cond\n",
    "from scipy.optimize import root\n",
    "from scipy.optimize import least_squares"
   ]
  },
  {
   "cell_type": "code",
   "execution_count": 3,
   "metadata": {},
   "outputs": [],
   "source": [
    "#################################################   \n",
    "# Calcul du MGD du robot RRR\n",
    "# INPUT:  q = vecteur de configuration (deg, deg, deg)\n",
    "# OUTPUT: Xc = vecteur de situation = position3D = (x,y,z) \n",
    "def mgd(qdeg,a,b,c):\n",
    "    qrad=np.deg2rad(qdeg)\n",
    "    # introduction d'un eerreur su run qi\n",
    "    # erreur= 5 (en degré)\n",
    "    # erg = np.deg2rad(erreur)\n",
    "    # qrad[i] = qi + erg\n",
    "    c1= np.cos(qrad[0])\n",
    "    s1=np.sin(qrad[0])\n",
    "    c23= np.cos(qrad[2]+qrad[1])\n",
    "    s23= np.sin(qrad[2]+qrad[1])\n",
    "    c2=np.cos(qrad[1])\n",
    "    s2=np.sin(qrad[1])\n",
    "    x= a*c1*c2 + b*c1*c23 \n",
    "    y= a*s1*c2 + b*s1*c23 \n",
    "    z= a*s2 + b*s23 + c \n",
    "    Xd=[x,y,z]\n",
    "    return Xd\n",
    "\n",
    "#"
   ]
  },
  {
   "cell_type": "code",
   "execution_count": 4,
   "metadata": {},
   "outputs": [],
   "source": [
    "# Lecture mesures de fichier\n",
    "\n",
    "with open(\"mesures1.dat\", \"r\") as f:\n",
    "    line= list()\n",
    "\n",
    "    donnees= list()\n",
    "    xdata= list()\n",
    "    qdata= list()\n",
    "    q1data= list()\n",
    "    q2data= list()\n",
    "    q3data= list()\n",
    "    for line in f:\n",
    "        if \"#\" in line:\n",
    "            # on saute la ligne\n",
    "            continue\n",
    "        data = line.split()\n",
    "        donnees.append((float(data[0]), float(data[1]),float(data[2]), float(data[3]), float(data[4]),float(data[5])))\n",
    "        xdata.append([float(data[3]), float(data[4]),float(data[5])])\n",
    "        qdata.append([float(data[0]), float(data[1]),float(data[2])])\n",
    "        q1data.append(float(data[0]))\n",
    "        q2data.append(float(data[1]))\n",
    "        q3data.append(float(data[2]))\n",
    "#donnees\n",
    "#xdata\n"
   ]
  },
  {
   "cell_type": "code",
   "execution_count": 5,
   "metadata": {},
   "outputs": [
    {
     "name": "stdout",
     "output_type": "stream",
     "text": [
      "Valeurs optimales de a, b et c :\n",
      "a_optimal = 2.1756272001307\n",
      "b_optimal = 2.145270178607535\n",
      "c_optimal = 1.350996400334573\n"
     ]
    }
   ],
   "source": [
    "import numpy as np\n",
    "\n",
    "# Fonction pour calculer les résidus\n",
    "def residuals(params, *args):\n",
    "    a, b, c = params\n",
    "    xdata, qdata = args\n",
    "    residuals = []\n",
    "    for i in range(len(xdata)):\n",
    "        X_predicted = np.array(mgd(qdata[i], a, b, c))  # Convertir en tableau NumPy\n",
    "        X_actual = np.array(xdata[i])  # Convertir en tableau NumPy\n",
    "        residuals.extend(X_predicted - X_actual)\n",
    "    return residuals\n",
    "\n",
    "# Construction de la matrice A\n",
    "def build_A(qdata):\n",
    "    A = []\n",
    "    for q in qdata:\n",
    "        A_i = [mgd(q, 1.0, 0.0, 0.0), mgd(q, 0.0, 1.0, 0.0), mgd(q, 0.0, 0.0, 1.0)]\n",
    "        A.extend(A_i)\n",
    "    return np.array(A)\n",
    "\n",
    "# Initialisation des paramètres a, b, et c\n",
    "initial_guess = np.array([1.0, 1.0, 1.0])\n",
    "\n",
    "# Construction de la matrice A\n",
    "A = build_A(qdata)\n",
    "\n",
    "# Construction du vecteur b\n",
    "b = np.array([item for sublist in xdata for item in sublist])\n",
    "\n",
    "# Calcul des paramètres optimaux à l'aide de la formule des moindres carrés\n",
    "params_optimal = np.linalg.inv(np.transpose(A).dot(A)).dot(np.transpose(A)).dot(b)\n",
    "\n",
    "# Les valeurs optimales de a, b, et c sont dans params_optimal\n",
    "a_optimal, b_optimal, c_optimal = params_optimal\n",
    "\n",
    "# Affichage des résultats\n",
    "print(\"Valeurs optimales de a, b et c :\")\n",
    "print(\"a_optimal =\", a_optimal)\n",
    "print(\"b_optimal =\", b_optimal)\n",
    "print(\"c_optimal =\", c_optimal)\n"
   ]
  },
  {
   "cell_type": "markdown",
   "metadata": {},
   "source": [
    "### Test du MGD après identification\n",
    "\n",
    "Vérifier que votre identification des longueurs $a$, $b$ et $c$ est correcte."
   ]
  },
  {
   "cell_type": "code",
   "execution_count": 6,
   "metadata": {},
   "outputs": [
    {
     "ename": "NameError",
     "evalue": "name 'result' is not defined",
     "output_type": "error",
     "traceback": [
      "\u001b[0;31m---------------------------------------------------------------------------\u001b[0m",
      "\u001b[0;31mNameError\u001b[0m                                 Traceback (most recent call last)",
      "\u001b[1;32m/home/alexis/UPSSITECH_Robotic_Optimisations_Project/TP2/identification3parametres-RRR-etudiant.ipynb Cell 11\u001b[0m line \u001b[0;36m2\n\u001b[1;32m      <a href='vscode-notebook-cell:/home/alexis/UPSSITECH_Robotic_Optimisations_Project/TP2/identification3parametres-RRR-etudiant.ipynb#X13sZmlsZQ%3D%3D?line=0'>1</a>\u001b[0m \u001b[39m# Utiliser les valeurs optimales de a, b et c identifiées précédemment\u001b[39;00m\n\u001b[0;32m----> <a href='vscode-notebook-cell:/home/alexis/UPSSITECH_Robotic_Optimisations_Project/TP2/identification3parametres-RRR-etudiant.ipynb#X13sZmlsZQ%3D%3D?line=1'>2</a>\u001b[0m a_optimal, b_optimal, c_optimal \u001b[39m=\u001b[39m result\u001b[39m.\u001b[39mx\n\u001b[1;32m      <a href='vscode-notebook-cell:/home/alexis/UPSSITECH_Robotic_Optimisations_Project/TP2/identification3parametres-RRR-etudiant.ipynb#X13sZmlsZQ%3D%3D?line=3'>4</a>\u001b[0m \u001b[39m# Générer des configurations q pour la simulation (par exemple, aléatoirement)\u001b[39;00m\n\u001b[1;32m      <a href='vscode-notebook-cell:/home/alexis/UPSSITECH_Robotic_Optimisations_Project/TP2/identification3parametres-RRR-etudiant.ipynb#X13sZmlsZQ%3D%3D?line=4'>5</a>\u001b[0m num_samples \u001b[39m=\u001b[39m \u001b[39mlen\u001b[39m(xdata)  \u001b[39m# Utiliser le nombre de mesures réelles comme nombre d'échantillons\u001b[39;00m\n",
      "\u001b[0;31mNameError\u001b[0m: name 'result' is not defined"
     ]
    }
   ],
   "source": [
    "# Utiliser les valeurs optimales de a, b et c identifiées précédemment\n",
    "a_optimal, b_optimal, c_optimal = result.x\n",
    "\n",
    "# Générer des configurations q pour la simulation (par exemple, aléatoirement)\n",
    "num_samples = len(xdata)  # Utiliser le nombre de mesures réelles comme nombre d'échantillons\n",
    "\n",
    "# Simuler les mesures avec les paramètres identifiés\n",
    "x_simulated = [mgd(q, a_optimal, b_optimal, c_optimal) for q in qdata[:num_samples]]\n",
    "\n",
    "# Comparaison des mesures simulées et du sous-ensemble des mesures réelles\n",
    "x_reel = xdata[:num_samples]  # Utiliser un sous-ensemble de mesures réelles\n",
    "\n",
    "# Calcul de l'erreur RMSE\n",
    "rmse = np.sqrt(np.mean((np.array(x_simulated) - np.array(x_reel))**2))\n",
    "\n",
    "# Visualisation (facultatif)\n",
    "from mpl_toolkits.mplot3d import Axes3D\n",
    "import matplotlib.pyplot as plt\n",
    "\n",
    "fig = plt.figure()\n",
    "ax = fig.add_subplot(111, projection='3d')\n",
    "ax.scatter(*zip(*x_simulated), label='Mesures simulées', c='r', marker='o')\n",
    "ax.scatter(*zip(*x_reel), label='Mesures réelles', c='b', marker='^')\n",
    "plt.legend()\n",
    "plt.title(f'RMSE = {rmse:.4f}')\n",
    "plt.show()\n",
    "\n",
    "# Affichage du RMSE\n",
    "print(f\"RMSE entre les mesures simulées et réelles : {rmse:.4f}\")\n"
   ]
  },
  {
   "cell_type": "markdown",
   "metadata": {},
   "source": [
    "## Utilisation de scipy optimize\n",
    "\n",
    "Retrouver vos résultats en utilisant directement les fonctions de scipy optimize"
   ]
  },
  {
   "cell_type": "code",
   "execution_count": 7,
   "metadata": {},
   "outputs": [
    {
     "name": "stdout",
     "output_type": "stream",
     "text": [
      "Valeurs optimales de a, b et c :\n",
      "a_optimal = 3.9970453232848104\n",
      "b_optimal = 2.4995117574435537\n",
      "c_optimal = 3.2966481231049403\n"
     ]
    }
   ],
   "source": [
    "from scipy.optimize import least_squares\n",
    "\n",
    "# Fonction objectif à minimiser\n",
    "def objective(params, *args):\n",
    "    a, b, c = params\n",
    "    xdata, qdata = args\n",
    "    error = []\n",
    "    for i in range(len(xdata)):\n",
    "        X_predicted = np.array(mgd(qdata[i], a, b, c))  # Convertir en tableau NumPy\n",
    "        X_actual = np.array(xdata[i])  # Convertir en tableau NumPy\n",
    "        error.extend(X_predicted - X_actual)\n",
    "    return error\n",
    "\n",
    "\n",
    "# Initialisation des paramètres a, b, et c\n",
    "initial_guess = [1.0, 1.0, 1.0]\n",
    "\n",
    "# Appel de la fonction least_squares pour résoudre le problème d'optimisation\n",
    "result = least_squares(objective, initial_guess, args=(xdata, qdata))\n",
    "\n",
    "# Les valeurs optimales de a, b, et c sont dans result.x\n",
    "a_optimal, b_optimal, c_optimal = result.x\n",
    "\n",
    "# Affichage des résultats\n",
    "print(\"Valeurs optimales de a, b et c :\")\n",
    "print(\"a_optimal =\", a_optimal)\n",
    "print(\"b_optimal =\", b_optimal)\n",
    "print(\"c_optimal =\", c_optimal)\n",
    "\n",
    "\n"
   ]
  }
 ],
 "metadata": {
  "kernelspec": {
   "display_name": "Python 3 (ipykernel)",
   "language": "python",
   "name": "python3"
  },
  "language_info": {
   "codemirror_mode": {
    "name": "ipython",
    "version": 3
   },
   "file_extension": ".py",
   "mimetype": "text/x-python",
   "name": "python",
   "nbconvert_exporter": "python",
   "pygments_lexer": "ipython3",
   "version": "3.10.12"
  }
 },
 "nbformat": 4,
 "nbformat_minor": 2
}
