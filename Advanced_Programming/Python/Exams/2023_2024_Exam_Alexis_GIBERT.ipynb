{
 "cells": [
  {
   "cell_type": "markdown",
   "id": "c3b27c9d",
   "metadata": {},
   "source": [
    "# Examen Python SRI 2023-2024\n",
    "\n",
    "**Nom : GIBERT**  \n",
    "**Prénom : Alexis**\n",
    "\n",
    "**Durée 1h30, Documents et machines autorisées, barême indicatif**\n",
    "\n",
    "Les parties sont indépendantes\n",
    "\n",
    "A l'intérieur d'une partie, vous pouvez utiliser les fonctions définies précédemment, même si vous ne les avez pas codées (mais bien sur, ce sera plus dur à tester dans le notebook)."
   ]
  },
  {
   "cell_type": "markdown",
   "id": "27aa5023",
   "metadata": {},
   "source": [
    "## Partie 1\n",
    "\n",
    "On va considérer des étudiants qui ont des notes à des matières, et chaque matière a un coefficient dans la moyenne finale. \n",
    "Par exemple: (en listant les coeffs et les noms des matières dans le même ordre que les notes) "
   ]
  },
  {
   "cell_type": "code",
   "execution_count": 3,
   "id": "5aada198",
   "metadata": {},
   "outputs": [],
   "source": [
    "all_etudiants = ['superdupont', 'asterix', 'tyrion']\n",
    "coeffs = [5,2,2]\n",
    "notes_par_matière = [[15, 2, 5], [8, 5, 20], [19, 15, 13]]\n",
    "matières = [\"poterie\",\"anglais\",\"c++\"]"
   ]
  },
  {
   "cell_type": "markdown",
   "id": "8aa96b7f",
   "metadata": {},
   "source": [
    "#### 1.1 \n",
    "\n",
    "Ecrire une fonction  `notes_par_etud` qui prend en entrée les notes par matières et renvoie une liste des listes de notes par étudiant.  \n",
    "Sur l'exemple on doit avoir: \n",
    "```python\n",
    "notes_par_etud(notes_par_matière)\n",
    "[[15, 8, 19], [2, 5, 15], [5, 20, 13]]\n",
    "```"
   ]
  },
  {
   "cell_type": "code",
   "execution_count": 4,
   "id": "617c6fa1",
   "metadata": {},
   "outputs": [
    {
     "name": "stdout",
     "output_type": "stream",
     "text": [
      "[[15, 8, 19], [2, 5, 15], [5, 20, 13]]\n"
     ]
    }
   ],
   "source": [
    "def notes_par_etud(notes_par_matiere):\n",
    "    notes_par_etudiant = list(map(list, zip(*notes_par_matiere))) # J'ai préféré utiliser la méthode \"zip\" pour creer des tuples et ainsi transposer la matrice des notes par matière en matrice des notes par étudiant\n",
    "    return notes_par_etudiant\n",
    "\n",
    "print(notes_par_etud(notes_par_matière))"
   ]
  },
  {
   "cell_type": "markdown",
   "id": "c9b058b8",
   "metadata": {},
   "source": [
    "#### 1.2\n",
    "\n",
    "Ecrire une fonction `make_dict` qui fait un dictionnaire des notes par étudiants avec leur nom, à partir de la liste d'étudiants et des notes par matière. \n",
    "Sur l'exemple, elle renverrait\n",
    "```python\n",
    "{'superdupont': [15, 8, 19], 'asterix': [2, 5, 15], 'tyrion': [5, 20, 13]}\n",
    "```"
   ]
  },
  {
   "cell_type": "code",
   "execution_count": 5,
   "id": "7b1d44f4",
   "metadata": {},
   "outputs": [
    {
     "name": "stdout",
     "output_type": "stream",
     "text": [
      "{'superdupont': [15, 8, 19], 'asterix': [2, 5, 15], 'tyrion': [5, 20, 13]}\n"
     ]
    }
   ],
   "source": [
    "def make_dict(etudiants, notes_par_matière):\n",
    "    notes_par_etudiant = notes_par_etud(notes_par_matière)\n",
    "    notes_dict = {}\n",
    "    for i in range(len(etudiants)):\n",
    "        notes_dict[etudiants[i]] = notes_par_etudiant[i]\n",
    "    return notes_dict\n",
    "\n",
    "print(make_dict(all_etudiants, notes_par_matière))"
   ]
  },
  {
   "cell_type": "markdown",
   "id": "82c06d45",
   "metadata": {},
   "source": [
    "#### 1.3 \n",
    "* Ecrire une fonction `moyenne_1` qui fait la moyenne d'une liste de notes (pour 1 etudiant seulement) pondérée par une liste de coefficients\n",
    "* Ecrire une fonction `moyenne` qui prend en entreé un dictionnaire comme la sortie de la fonction `make_dict `\n",
    "et calcule un dictionnaire des moyennes par étudiant. \n",
    "* Ecrire une fonction `ajout_moyenne` qui prend en entrée aussi un dictionnaire de notes par étudiants et ajoute la moyenne comme dernière valeur. \n",
    "\n",
    "```python\n",
    "# sur l'exemple: \n",
    "{'superdupont': [15, 8, 19, 14.333333333333334],\n",
    " 'asterix': [2, 5, 15, 5.555555555555555],\n",
    " 'tyrion': [5, 20, 13, 10.11111111111111]}\n",
    "```"
   ]
  },
  {
   "cell_type": "code",
   "execution_count": 6,
   "id": "7709dbef",
   "metadata": {},
   "outputs": [
    {
     "name": "stdout",
     "output_type": "stream",
     "text": [
      "{'superdupont': [15, 8, 19, 14.333333333333334], 'asterix': [2, 5, 15, 5.555555555555555], 'tyrion': [5, 20, 13, 10.11111111111111]}\n"
     ]
    }
   ],
   "source": [
    "def moyenne_1(notes, coefficients):\n",
    "    total = sum([note * coeff for note, coeff in zip(notes, coefficients)])\n",
    "    total_coefficients = sum(coefficients)\n",
    "    moyenne = total / total_coefficients if total_coefficients != 0 else 0\n",
    "    return moyenne\n",
    "\n",
    "def moyenne(notes_dict, coefficients):\n",
    "    moyennes_dict = {}\n",
    "    for nom, notes in notes_dict.items():\n",
    "        moyenne_etudiant = moyenne_1(notes, coefficients)\n",
    "        moyennes_dict[nom] = moyenne_etudiant\n",
    "    return moyennes_dict\n",
    "\n",
    "def ajout_moyenne(notes_dict, coefficients):\n",
    "    moyennes_dict = moyenne(notes_dict, coefficients)\n",
    "    for nom, moyenne_etudiant in moyennes_dict.items():\n",
    "        notes_dict[nom].append(moyenne_etudiant)\n",
    "    return notes_dict\n",
    "\n",
    "notes_dict = make_dict(all_etudiants, notes_par_matière)\n",
    "ajout_moyenne(notes_dict, coeffs)\n",
    "print(notes_dict)"
   ]
  },
  {
   "cell_type": "markdown",
   "id": "c71651b1",
   "metadata": {},
   "source": [
    "#### 1.4\n",
    "\n",
    "Ecrire une fonction `valide` qui prend en entrée un dictionnaire de notes + moyennes comme au 1.3, et renvoie la liste des étudiants qui remplissent les conditions suivantes: \n",
    "  - au moins 6 à chaque matière\n",
    "  - la moyenne supérieure ou égale à 10\n",
    "  \n",
    "Sur l'exemple, seul superdupont remplit les conditions"
   ]
  },
  {
   "cell_type": "code",
   "execution_count": 7,
   "id": "a962baca",
   "metadata": {},
   "outputs": [
    {
     "name": "stdout",
     "output_type": "stream",
     "text": [
      "['superdupont']\n"
     ]
    }
   ],
   "source": [
    "def valide(notes_dict):\n",
    "    etudiants_valides = []\n",
    "    for nom, notes in notes_dict.items():\n",
    "        if all(note >= 6 for note in notes[:-1]) and notes[-1] >= 10:\n",
    "            etudiants_valides.append(nom)\n",
    "    return etudiants_valides\n",
    "\n",
    "notes_dict = make_dict(all_etudiants, notes_par_matière)\n",
    "ajout_moyenne(notes_dict, coeffs)\n",
    "print(valide(notes_dict))"
   ]
  },
  {
   "cell_type": "markdown",
   "id": "9e2240e2",
   "metadata": {},
   "source": [
    "#### 1.5 \n",
    "\n",
    "Généraliser la fonction précédente en une fonction `passe_custom` pour qu'elle prenne en argument en plus une liste de fonctions, chacune des fonctions testant une condition différente sur la liste des notes d'un étudiant seul.  \n",
    "Recalculer le résultat précédent avec cette fonction "
   ]
  },
  {
   "cell_type": "code",
   "execution_count": 8,
   "id": "6b9682c8",
   "metadata": {},
   "outputs": [
    {
     "name": "stdout",
     "output_type": "stream",
     "text": [
      "['superdupont']\n"
     ]
    }
   ],
   "source": [
    "def passe_custom(notes_dict, condition_functions):\n",
    "    etudiants_valides = []\n",
    "    for nom, notes in notes_dict.items():\n",
    "        if all(condition(notes) for condition in condition_functions):\n",
    "            etudiants_valides.append(nom)\n",
    "    return etudiants_valides\n",
    "\n",
    "def condition_matiere_superieure_ou_egale_a_six(notes):\n",
    "    return all(note >= 6 for note in notes[:-1])\n",
    "\n",
    "def condition_moyenne_superieure_ou_egale_a_dix(notes):\n",
    "    return notes[-1] >= 10\n",
    "\n",
    "notes_dict = make_dict(all_etudiants, notes_par_matière)\n",
    "ajout_moyenne(notes_dict, coeffs)\n",
    "condition_functions = [condition_matiere_superieure_ou_egale_a_six, condition_moyenne_superieure_ou_egale_a_dix]\n",
    "print(passe_custom(notes_dict, condition_functions))"
   ]
  },
  {
   "cell_type": "markdown",
   "id": "5889e532",
   "metadata": {},
   "source": [
    "## Partie 2\n",
    "\n",
    "#### 2.1\n",
    "Définir une classe `Jury` qui est initialisé à partir d'une liste de noms d'étudiants, de noms de matières, et de coefficients par matière. \n",
    "\n",
    "#### 2.2\n",
    "Définir les méthodes suivantes (ici vous pouvez utiliser les fonctions de la partie 1 à l'intérieur de ces méthodes: \n",
    "  - une méthode `add_notes` qui prend en paramètre une liste de notes par matière et va stocker dans l'objet un dictionnaire de notes similaires au résultat de la partie 1\n",
    "  - une méthode `add_moyenne` qui va ajouter la moyenne dans la liste des notes de chaque étudiant\n",
    "  - une méthode `qui_passe`, qui renvoie la liste des étudiants acceptés (comme partie 1)"
   ]
  },
  {
   "cell_type": "code",
   "execution_count": 9,
   "id": "635af36e",
   "metadata": {},
   "outputs": [
    {
     "ename": "NameError",
     "evalue": "name 'Jury' is not defined",
     "output_type": "error",
     "traceback": [
      "\u001b[1;31m---------------------------------------------------------------------------\u001b[0m",
      "\u001b[1;31mNameError\u001b[0m                                 Traceback (most recent call last)",
      "\u001b[1;32m~\\AppData\\Local\\Temp\\ipykernel_20248\\461182146.py\u001b[0m in \u001b[0;36m<module>\u001b[1;34m\u001b[0m\n\u001b[1;32m----> 1\u001b[1;33m \u001b[0mj\u001b[0m \u001b[1;33m=\u001b[0m \u001b[0mJury\u001b[0m\u001b[1;33m(\u001b[0m\u001b[0mall_etudiants\u001b[0m\u001b[1;33m,\u001b[0m\u001b[0mcoeffs\u001b[0m\u001b[1;33m,\u001b[0m\u001b[0mmatières\u001b[0m\u001b[1;33m)\u001b[0m\u001b[1;33m\u001b[0m\u001b[1;33m\u001b[0m\u001b[0m\n\u001b[0m\u001b[0;32m      2\u001b[0m \u001b[0mj\u001b[0m\u001b[1;33m.\u001b[0m\u001b[0madd_notes\u001b[0m\u001b[1;33m(\u001b[0m\u001b[0mnotes_par_matière\u001b[0m\u001b[1;33m)\u001b[0m\u001b[1;33m\u001b[0m\u001b[1;33m\u001b[0m\u001b[0m\n\u001b[0;32m      3\u001b[0m \u001b[0mprint\u001b[0m\u001b[1;33m(\u001b[0m\u001b[0mj\u001b[0m\u001b[1;33m.\u001b[0m\u001b[0mnote_dict\u001b[0m\u001b[1;33m)\u001b[0m\u001b[1;33m\u001b[0m\u001b[1;33m\u001b[0m\u001b[0m\n\u001b[0;32m      4\u001b[0m \u001b[0mj\u001b[0m\u001b[1;33m.\u001b[0m\u001b[0madd_moyenne\u001b[0m\u001b[1;33m(\u001b[0m\u001b[1;33m)\u001b[0m\u001b[1;33m\u001b[0m\u001b[1;33m\u001b[0m\u001b[0m\n\u001b[0;32m      5\u001b[0m \u001b[0mprint\u001b[0m\u001b[1;33m(\u001b[0m\u001b[0mj\u001b[0m\u001b[1;33m.\u001b[0m\u001b[0mqui_passe\u001b[0m\u001b[1;33m(\u001b[0m\u001b[1;33m)\u001b[0m\u001b[1;33m)\u001b[0m\u001b[1;33m\u001b[0m\u001b[1;33m\u001b[0m\u001b[0m\n",
      "\u001b[1;31mNameError\u001b[0m: name 'Jury' is not defined"
     ]
    }
   ],
   "source": [
    "j = Jury(all_etudiants,coeffs,matières)\n",
    "j.add_notes(notes_par_matière)\n",
    "print(j.note_dict)\n",
    "j.add_moyenne()\n",
    "print(j.qui_passe())\n",
    "print(j.note_dict)"
   ]
  },
  {
   "cell_type": "code",
   "execution_count": 10,
   "id": "04deb557",
   "metadata": {},
   "outputs": [
    {
     "name": "stdout",
     "output_type": "stream",
     "text": [
      "{'superdupont': [15, 8, 19], 'asterix': [2, 5, 15], 'tyrion': [5, 20, 13]}\n",
      "['superdupont']\n",
      "{'superdupont': [15, 8, 19, 14.333333333333334], 'asterix': [2, 5, 15, 5.555555555555555], 'tyrion': [5, 20, 13, 10.11111111111111]}\n"
     ]
    }
   ],
   "source": [
    "class Jury:\n",
    "    def __init__(self, etudiants, coefficients, matières):\n",
    "        self.etudiants = etudiants\n",
    "        self.coefficients = coefficients\n",
    "        self.matieres = matières\n",
    "        self.note_dict = {}\n",
    "    \n",
    "    def add_notes(self, notes_par_matière):\n",
    "        self.note_dict = make_dict(self.etudiants, notes_par_matière)\n",
    "    \n",
    "    def add_moyenne(self):\n",
    "        for etudiant in self.note_dict:\n",
    "            moy = moyenne_1(self.note_dict[etudiant], self.coefficients)\n",
    "            self.note_dict[etudiant].append(moy)\n",
    "    \n",
    "    def qui_passe(self, condition_functions):\n",
    "        return passe_custom(self.note_dict, condition_functions)\n",
    "\n",
    "j = Jury(all_etudiants, coeffs, matières)\n",
    "j.add_notes(notes_par_matière)\n",
    "print(j.note_dict)\n",
    "j.add_moyenne()\n",
    "print(j.qui_passe(condition_functions))\n",
    "print(j.note_dict)\n"
   ]
  },
  {
   "cell_type": "markdown",
   "id": "120cbad0",
   "metadata": {},
   "source": [
    "## Partie 3\n",
    "On va faire en partie la même chose que la partie 1 en partant de zéro avec numpy.  \n",
    "**Attention: on ne peut pas réutiliser les fonctions des parties précédentes, et il ne doit y avoir aucune boucle, sinon les questions valent 0**  \n",
    "Vous pouvez par contre utiliser des fonctions de la partie 3 pour faire des fonctions qui viennent après dans la partie. \n",
    "\n",
    "Rappel de quelques méthodes numpy, sur un vecteur a, dont certaines peuvent servir ici : \n",
    " - `a.mean()` fait la moyenne de toutes les valeurs; `a.mean(axis=0)` fait la moyenne selon l'axe 0\n",
    " - idem pour `sum`, `min`, `max`\n",
    " - `a.T` est la transposée de a\n",
    " - `list(a)` transforme a en une liste selon la première dimension de a\n",
    " - `a.reshape(new_shape)`: permet de redéfinir une matrice avec de nouvelles dimensions (si le nb d'éléments correspond), eg un vecteur de 20 valeurs peut etre \"reshaped\" en une matrice de 5x4 valeurs\n",
    " - `np.concatenate(liste_de_matrices)`: met bout a bout en ligne des vecteurs/matrices de même nb de colonnes \n",
    "\n",
    "Pour l'exemple on peut juste convertir l'exemple à base de liste en `array`\n",
    "```python\n",
    "par_matière = np.array(notes_par_matière)\n",
    "coeffs = np.array(coeffs)\n",
    "```\n",
    "#### 3.1\n",
    "Comment peut-on avoir la matrice avec les notes de chaque étudiant par ligne ? "
   ]
  },
  {
   "cell_type": "code",
   "execution_count": 11,
   "id": "5e3ef52c",
   "metadata": {},
   "outputs": [
    {
     "name": "stdout",
     "output_type": "stream",
     "text": [
      "[[15  8 19]\n",
      " [ 2  5 15]\n",
      " [ 5 20 13]]\n"
     ]
    }
   ],
   "source": [
    "import numpy as np\n",
    "\n",
    "par_matière = np.array(notes_par_matière)\n",
    "notes_par_etudiant = par_matière.T\n",
    "print(notes_par_etudiant)"
   ]
  },
  {
   "cell_type": "markdown",
   "id": "41019db8",
   "metadata": {},
   "source": [
    "#### 3.2\n",
    "\n",
    "La fonction suivante va servir à créer une matrice en dupliquant coeffs avec autant de lignes qu'il y a d'étudiants\n",
    "```python\n",
    "def coeffs_mat(coeffs,nb_etud):\n",
    "    return np.array(list(coeffs)*nb_etud).reshape(...,...)\n",
    "```\n",
    "Quels sont les paramètres que l'on doit donner à reshape pour que cela remplisse l'objectif ? \n",
    "\n",
    "Sur l'exemple: \n",
    "```python\n",
    "array([[5, 2, 2],\n",
    "       [5, 2, 2],\n",
    "       [5, 2, 2]])\n",
    "```"
   ]
  },
  {
   "cell_type": "code",
   "execution_count": 12,
   "id": "c8012fb1",
   "metadata": {},
   "outputs": [
    {
     "name": "stdout",
     "output_type": "stream",
     "text": [
      "[[5 2 2]\n",
      " [5 2 2]\n",
      " [5 2 2]]\n"
     ]
    }
   ],
   "source": [
    "def coeffs_mat(coeffs, nb_etud):\n",
    "    return np.array(list(coeffs) * nb_etud).reshape(nb_etud, len(coeffs))\n",
    "\n",
    "coeffs = np.array([5, 2, 2])\n",
    "nb_etud = 3\n",
    "print(coeffs_mat(coeffs, nb_etud))"
   ]
  },
  {
   "cell_type": "markdown",
   "id": "b26b5fd2",
   "metadata": {},
   "source": [
    "#### 3.3 \n",
    "\n",
    "Ecrire une fonction qui renvoie le vecteur des moyennes par étudiant à partir de la matrice de la question 3.1"
   ]
  },
  {
   "cell_type": "code",
   "execution_count": 13,
   "id": "8f0a3bf8",
   "metadata": {},
   "outputs": [
    {
     "name": "stdout",
     "output_type": "stream",
     "text": [
      "[14.          7.33333333 12.66666667]\n"
     ]
    }
   ],
   "source": [
    "print(np.mean(notes_par_etudiant, axis=1))"
   ]
  },
  {
   "cell_type": "markdown",
   "id": "c15a96ed",
   "metadata": {},
   "source": [
    "#### 3.4  (attention : question peu facile)\n",
    "\n",
    "Ecrire une fonction qui renvoie le vecteur des moyennes pondérées par les coefficients, en utilisant le résultat de la fonction 3.3  \n",
    "Sur l'exemple cela donnerait:\n",
    "```python\n",
    "array([14.33333333,  5.55555556, 10.11111111])\n",
    "```"
   ]
  },
  {
   "cell_type": "code",
   "execution_count": 14,
   "id": "d016f5cd",
   "metadata": {},
   "outputs": [
    {
     "name": "stdout",
     "output_type": "stream",
     "text": [
      "[14.33333333  5.55555556 10.11111111]\n"
     ]
    }
   ],
   "source": [
    "print(np.sum(notes_par_etudiant*coeffs, axis=1) / np.sum(coeffs))"
   ]
  },
  {
   "cell_type": "markdown",
   "id": "e179edb9",
   "metadata": {},
   "source": [
    "#### 3.5\n",
    "\n",
    "On ne demande pas d'ajouter les moyennes à la matrice, on pourrait le faire\n",
    "par exemple avec \n",
    "```python\n",
    "def add_moyenne(m):\n",
    "    mpe = moy_par_etud(m)\n",
    "    return np.concatenate((m,mpe.reshape(1,3))).T\n",
    "```\n",
    "\n",
    "qui renverrait la matrice des notes par étudiants et leur moyenne, sur l'exemple\n",
    "```python\n",
    "array([[15.        ,  8.        , 19.        , 14.33333333],\n",
    "       [ 2.        ,  5.        , 15.        ,  5.55555556],\n",
    "       [ 5.        , 20.        , 13.        , 10.11111111]])\n",
    "```\n",
    "       \n",
    "**A partir de cette matrice:**  \n",
    "(a) Comment peut-on exprimer la condition qu'un étudiant doit avoir au moins 5 en poterie ? \n",
    "```python\n",
    "condition_a = matrice_notes[:, 0] >= 5\n",
    "```\n",
    "\n",
    "(b) Comment peut-on exprimer la condition qu'un étudiant doit avoir au moins 10 de moyenne ? \n",
    "```python\n",
    "condition_b = matrice_notes[:, -1] >= 10\n",
    "```\n",
    "\n",
    "(c) Comment peut-on exprimer la condition qu'un étudiant doit avoir au moins 6 à toutes les matières ? \n",
    "```python\n",
    "condition_c = np.all(matrice_notes[:, :-1] >= 6, axis=1)\n",
    "```\n",
    "\n",
    "Ecrire une fonction qui prend la matrice de notes+moyenne, et qui retourner les lignes de la matrice de note correspondant aux étudiants qui \"passent\" selon les critères (b) et (c) (comme dans la partie 1)\n",
    "\n",
    "Ici on doit donc avoir au final\n",
    "\n",
    "```python\n",
    "array([[15.        ,  8.        , 19.        , 14.33333333]])\n",
    "```\n",
    "\n",
    "[NB, pas demandé: on pourrait aussi utiliser np.argwhere pour avoir les indices des étudiants concernés à la place]"
   ]
  },
  {
   "cell_type": "code",
   "execution_count": 40,
   "id": "88a09863",
   "metadata": {},
   "outputs": [
    {
     "name": "stdout",
     "output_type": "stream",
     "text": [
      "[[15.          8.         19.         14.33333333]]\n"
     ]
    }
   ],
   "source": [
    "import numpy as np\n",
    "\n",
    "def etudiants_passent(matrice_notes):\n",
    "    condition_b = matrice_notes[:, -1] >= 10\n",
    "    condition_c = np.all(matrice_notes[:, :-1] >= 6, axis=1)\n",
    "    etudiants_acceptes = matrice_notes[np.logical_and(condition_b, condition_c)]\n",
    "    return etudiants_acceptes\n",
    "\n",
    "matrice_notes = np.array([[15.0, 8.0, 19.0, 14.33333333],\n",
    "                         [2.0, 5.0, 15.0, 5.55555556],\n",
    "                         [5.0, 20.0, 13.0, 10.11111111]])\n",
    "\n",
    "print(etudiants_passent(matrice_notes))"
   ]
  }
 ],
 "metadata": {
  "kernelspec": {
   "display_name": "Python 3",
   "language": "python",
   "name": "python3"
  },
  "language_info": {
   "codemirror_mode": {
    "name": "ipython",
    "version": 3
   },
   "file_extension": ".py",
   "mimetype": "text/x-python",
   "name": "python",
   "nbconvert_exporter": "python",
   "pygments_lexer": "ipython3",
   "version": "3.7.9"
  }
 },
 "nbformat": 4,
 "nbformat_minor": 5
}
