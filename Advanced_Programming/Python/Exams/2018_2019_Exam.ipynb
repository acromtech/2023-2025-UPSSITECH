{
 "cells": [
  {
   "cell_type": "markdown",
   "metadata": {},
   "source": [
    "# Examen de Python 2018-2019\n",
    "## Exercice 1 : Echauffement\n",
    "1. Ecrire une fonction `dict_paires` qui prend un dictionnaire dont les valeurs sont elles mêmes des dictionnaires, et qui renvoie un noueveau dictionnaire dont les clés sont des paires combiant les clés des 2 niveaux (cf exmeple plus bas).\n",
    "2. Ecrire une fonction `dict_split` qui fait l'opération inverse : à partir d'un dictionnaire indexé par des paires, faire un dictionnaire dont les clés sont des paires, faire un dictionnaire indexé par le 1er élément de la paire et dont les valeurs sont des dictionnaires indexés par toutes les valeurs associées à cet élément dans une paire.\n",
    "\n",
    "Par exemple :\n",
    "\n",
    "```python\n",
    "d={\n",
    "    1:(\"a\":2,\"b\":4),\n",
    "    2:{\"c\":4},\n",
    "    5:{\"b\":4,\"d\":2,\"e\":7},\n",
    "}\n",
    "dict_paires(d) -> {(1,'b'):4,(1,'a'):2,(5,'e'):7,(5,'d'):2,(2,'c'):4,(5,'b'):4}\n",
    "```\n",
    "\n",
    "Et `dict_split(dict_paires(d))` renverrait un dictionnaire identique à d"
   ]
  },
  {
   "cell_type": "code",
   "execution_count": 2,
   "metadata": {},
   "outputs": [
    {
     "name": "stdout",
     "output_type": "stream",
     "text": [
      "{(1, 'a'): 2, (1, 'b'): 4, (2, 'c'): 4, (5, 'b'): 4, (5, 'd'): 2, (5, 'e'): 7}\n",
      "{1: {'a': 2, 'b': 4}, 2: {'c': 4}, 5: {'b': 4, 'd': 2, 'e': 7}}\n"
     ]
    }
   ],
   "source": [
    "def dict_paires(d):\n",
    "    result = {}\n",
    "    for key, inner_dict in d.items():\n",
    "        for inner_key, value in inner_dict.items():\n",
    "            result[(key, inner_key)] = value\n",
    "    return result\n",
    "\n",
    "def dict_split(d):\n",
    "    result = {}\n",
    "    for key_pair, value in d.items():\n",
    "        key1, key2 = key_pair\n",
    "        if key1 not in result:\n",
    "            result[key1] = {}\n",
    "        result[key1][key2] = value\n",
    "    return result\n",
    "\n",
    "# Exemple d'utilisation\n",
    "d = {\n",
    "    1: {\"a\": 2, \"b\": 4},\n",
    "    2: {\"c\": 4},\n",
    "    5: {\"b\": 4, \"d\": 2, \"e\": 7},\n",
    "}\n",
    "\n",
    "d_paires = dict_paires(d)\n",
    "print(d_paires)\n",
    "\n",
    "d_split = dict_split(d_paires)\n",
    "print(d_split)\n"
   ]
  },
  {
   "cell_type": "markdown",
   "metadata": {},
   "source": [
    "## Exercice 2 : Objets\n",
    "\n",
    "On veut définir une classe similaire à une liste, et qui pour chaque instance va compter combien de fois on accède à un élément de la liste. Pour cela définissez une classe qui doit être initialisé avec une valeur itérable, qui tocke les valeurs de cet itérable dans un attribut de l'instance, et qui comporte les deux méthodes suivantes\n",
    "\n",
    "1. `__getitem__` pour acceder à un élement de la liste stockée.\n",
    "2. `__repr__` pour retourner une chaine représentant la liste stockée, pour affichage.\n",
    "\n",
    "Cela donnerait le comportement :\n",
    "```python\n",
    "c1=ListeCompte(range(10))\n",
    "print(c1)\n",
    "print(c1.counter)\n",
    "c1[4]+c1[2]\n",
    "print(c1.counter)\n",
    "```"
   ]
  },
  {
   "cell_type": "code",
   "execution_count": 1,
   "metadata": {},
   "outputs": [
    {
     "name": "stdout",
     "output_type": "stream",
     "text": [
      "[0, 1, 2, 3, 4, 5, 6, 7, 8, 9]\n",
      "0\n",
      "2\n"
     ]
    }
   ],
   "source": [
    "class ListeCompte:\n",
    "    def __init__(self, data_range):\n",
    "        self.liste = list(data_range)\n",
    "        self.counter = 0\n",
    "\n",
    "    def __getitem__(self, index):\n",
    "        self.counter += 1\n",
    "        return self.liste[index]\n",
    "    \n",
    "    def __repr__(self):\n",
    "        return str(self.liste)\n",
    "\n",
    "# Exemple d'utilisation\n",
    "c1=ListeCompte(range(10))\n",
    "print(c1)\n",
    "print(c1.counter)\n",
    "c1[4]+c1[2]\n",
    "print(c1.counter)"
   ]
  },
  {
   "cell_type": "markdown",
   "metadata": {},
   "source": [
    "## Exercice 3 : Calcul vectoriel\n",
    "\n",
    "Les questions suivantes doivent être résolues sur les fonctionnalités de la bibliothèque `numpy` sans boucle ou récursion ou bien la solution vaudra 0. On rapelle les fonctions suivantes, qu'on considère déjà importées sous le nom :\n",
    "* `means(vecteur)` : moyenne des éléments du vecteur. Si le vecteur est booleen, considère que `True=1` et `False=0`\n",
    "* `arange(n)` : renvoie un vecteur des valeurs entières de `0` à `n-1`\n",
    "* `zero(n)` : renvoie un vecteur de taille `n` avec toutes les valeurs à `0`\n",
    "\n",
    "1. Ecrire une fonction qui approxime la valeur de `pi` en utilisant la méthode suivnate : tirer au hasard `n` valeurs de point `(x,y)` de coordonnées entre 0 et 1, la proportion de points qui sont dans le cercle de rayon 1 (c'est a dire tels que x^2+y^2<=1) est une approximation de `pi/4`, `n` est un paramètre de la fonction.\n",
    "\n",
    "Vous pouvez, par exemple, générer es vecteurs de x et y séparéments avec la fonction de `numpy random.uniform(size=n)`, qu'on suppose importé sous le nom \"uniform\" directement.\n",
    "\n",
    "2. En considérant un polynôme représenté par un `numpy.array` de taille `6` maximum, par exemple x+3x^2+2x^4 est représneté par `p=numpy.array([0,1,3,0,2,0])`, écrire la fonction qui calcule la représentation de la dérivée d'un polynôime. Dans le cas de `p`, cela donnerait le vecteur `[1.,6.,0.,8.,0.,0.]`, représentant 1+6.0x+8.0x^3."
   ]
  },
  {
   "cell_type": "code",
   "execution_count": 24,
   "metadata": {},
   "outputs": [
    {
     "name": "stdout",
     "output_type": "stream",
     "text": [
      "Approximation de pi: 3.140192\n"
     ]
    }
   ],
   "source": [
    "import numpy as np\n",
    "\n",
    "def approximate_pi(n):\n",
    "    x = np.random.uniform(size=n)\n",
    "    y = np.random.uniform(size=n)\n",
    "    proportion_inside_circle = np.mean(x**2 + y**2 <= 1) # Si la condition est respectée on considère les coordonnées à l'intérieur du cercle de rayon 1 et dont la coordonée est équivalente à pi/4\n",
    "    return proportion_inside_circle * 4 # On multiplie par 4 la valeur approximée de pi/4 pour obetnir la valeur approximée de pi\n",
    "\n",
    "# Exemple d'utilisation\n",
    "n = 1000000\n",
    "print(\"Approximation de pi:\", approximate_pi(n))"
   ]
  },
  {
   "cell_type": "code",
   "execution_count": 25,
   "metadata": {},
   "outputs": [
    {
     "name": "stdout",
     "output_type": "stream",
     "text": [
      "Dérivée du polynôme: [1. 6. 0. 8. 0. 0.]\n"
     ]
    }
   ],
   "source": [
    "import numpy as np\n",
    "\n",
    "def compute_derivative(p):\n",
    "    n = len(p)\n",
    "    derivative = np.zeros(n, dtype=float)\n",
    "    for i in range(1, n):\n",
    "        derivative[i - 1] = p[i] * i\n",
    "    return derivative\n",
    "\n",
    "# Exemple d'utilisation\n",
    "p = np.array([0, 1, 3, 0, 2, 0])\n",
    "print(\"Dérivée du polynôme:\", compute_derivative(p))"
   ]
  },
  {
   "cell_type": "markdown",
   "metadata": {},
   "source": [
    "## Exercice 4\n",
    "\n",
    "1. Ecrire une fonction filter qui prend comme paramètres une fonction `f` et renvoie son résultat s'il est positif, ou zéro sinon (on suppose que le résultat de f est numérique)\n",
    "\n",
    "Exemple d'utilisation\n",
    "```python\n",
    "    def bof(y):\n",
    "        return y\n",
    "    print(filter(bof(-2)))  -> 0\n",
    "    print(filter(bof(10)))  -> 10\n",
    "```\n",
    "2. Que faut il changer pour faire un décorateur, avec un argument en plus qui correspond au seuil auxquel on coupe le résultat (tout résultat inférieur au seuil est ramené au seuil, comme avec zéro dans la question précédente)\n",
    "\n",
    "```python\n",
    "    @filter(10)\n",
    "    def bof(y):\n",
    "        return y\n",
    "    print(bof(5))   -> 10\n",
    "    print(bof(15))  -> 15\n",
    "```"
   ]
  },
  {
   "cell_type": "code",
   "execution_count": 27,
   "metadata": {},
   "outputs": [
    {
     "name": "stdout",
     "output_type": "stream",
     "text": [
      "0\n",
      "10\n"
     ]
    }
   ],
   "source": [
    "def filter(f):\n",
    "    if(f>0):\n",
    "        return f\n",
    "    else:   \n",
    "        return 0\n",
    "\n",
    "def bof(y):\n",
    "    return y\n",
    "\n",
    "print(filter(bof(-2)))  # Renvoie 0\n",
    "print(filter(bof(10)))  # Renvoie 10"
   ]
  },
  {
   "cell_type": "code",
   "execution_count": 29,
   "metadata": {},
   "outputs": [
    {
     "name": "stdout",
     "output_type": "stream",
     "text": [
      "10\n",
      "15\n"
     ]
    }
   ],
   "source": [
    "def filter(f):\n",
    "    def decorateur(func):\n",
    "        def bof(y):\n",
    "            if(f>func(y)):\n",
    "                return f\n",
    "            else:   \n",
    "                return func(y)\n",
    "        return bof\n",
    "    return decorateur\n",
    "\n",
    "@filter(10) # Le minimum accordé, si on donne un nmbre < 10 alors la fonction renverra 10 sinon la valeur donnée en paramètre de bof\n",
    "def bof(y):\n",
    "    return y\n",
    "\n",
    "print(bof(5))  # Renvoie 10\n",
    "print(bof(15))  # Renvoie 15"
   ]
  }
 ],
 "metadata": {
  "kernelspec": {
   "display_name": "Python 3",
   "language": "python",
   "name": "python3"
  },
  "language_info": {
   "codemirror_mode": {
    "name": "ipython",
    "version": 3
   },
   "file_extension": ".py",
   "mimetype": "text/x-python",
   "name": "python",
   "nbconvert_exporter": "python",
   "pygments_lexer": "ipython3",
   "version": "3.7.9"
  }
 },
 "nbformat": 4,
 "nbformat_minor": 2
}
