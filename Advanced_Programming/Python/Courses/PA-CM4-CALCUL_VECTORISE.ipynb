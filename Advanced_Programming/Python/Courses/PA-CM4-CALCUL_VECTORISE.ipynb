{
 "cells": [
  {
   "cell_type": "markdown",
   "metadata": {
    "slideshow": {
     "slide_type": "slide"
    }
   },
   "source": [
    "# Programmation scientifique en python\n",
    "Python devient de plus en plus une alternative à des outils traditionnels de l'ingénieur, comme Matlab, et son usage s'étend dans la communauté scientifique.  \n",
    "\n",
    "**Pourquoi ?** \n",
    "- il est gratuit et ouvert \n",
    "- c'est un \"vrai\" langage de programmation  \n",
    "- il bénéficie de la communauté open source: en progression constante\n",
    "- il unifie de nombreuses bibliothèques existant dans différents langages (algèbre, analyse, statistiques, traitement signal, etc)\n",
    "- librairie python pour \"emballer\" le tout: [scipy](http://www.scipy.org/), \n",
    "- c'est devenu aussi un des premiers langages en analyse de donnée, IA, Machine Learning"
   ]
  },
  {
   "cell_type": "markdown",
   "metadata": {
    "slideshow": {
     "slide_type": "slide"
    }
   },
   "source": [
    "**On verra**\n",
    "- le calcul matriciel avec `numpy` (base de nombreux autres outils)\n",
    "- une introduction à quelques outils pertinents\n",
    "    - traitement signal\n",
    "    - traitement d'image\n",
    "    - apprentissage automatique\n",
    "    - graphes\n",
    "    - robotique"
   ]
  },
  {
   "cell_type": "markdown",
   "metadata": {
    "slideshow": {
     "slide_type": "slide"
    }
   },
   "source": [
    "## Programmation vectorielle: numerical python (`numpy`)\n",
    "Introduction à la programmation scientifique et l'utilisation de vecteurs/matrices\n",
    "- définitions, créations\n",
    "- index/références\n",
    "- quelques opérations / exemples de calcul vectorisé \n",
    "- règles de \"broadcasting\" (composition)\n",
    "- opérations + complexes, convolution (ex: automates cellulaires, fractales)\n",
    "\n",
    "**Exemple de création d'un vecteur**"
   ]
  },
  {
   "cell_type": "code",
   "execution_count": 2,
   "metadata": {
    "slideshow": {
     "slide_type": "slide"
    }
   },
   "outputs": [
    {
     "name": "stdout",
     "output_type": "stream",
     "text": [
      "<class 'numpy.ndarray'>\n",
      "[0.94672174 0.777982   0.05544137 0.6376867  0.15278675 0.07796265\n",
      " 0.49674305 0.17063842 0.55689189 0.93383587 0.55190683 0.82137341\n",
      " 0.77976849 0.36923066 0.85195162 0.05634205 0.02916764 0.45209345\n",
      " 0.37320386 0.13774698 0.41999163 0.12423495 0.91219923 0.90461518\n",
      " 0.05930408 0.95465765 0.10996136 0.53603446 0.23750867 0.94919416\n",
      " 0.24662579 0.56223238 0.04585921 0.54932569 0.03697519 0.71573109\n",
      " 0.95160695 0.59515542 0.50217732 0.90564791 0.44526434 0.74678915\n",
      " 0.01860948 0.93052585 0.25287874 0.38847705 0.24069513 0.58341842\n",
      " 0.5327723  0.39000335 0.4679864  0.22620893 0.58034657 0.11607604\n",
      " 0.09314569 0.14147769 0.16235602 0.192269   0.4334869  0.49408782\n",
      " 0.85302606 0.08642236 0.05849005 0.40944406 0.73306021 0.22252006\n",
      " 0.07277484 0.48373495 0.99339138 0.11003226 0.83499101 0.38340179\n",
      " 0.11019572 0.620167   0.06713026 0.88767089 0.01640038 0.32366003\n",
      " 0.63673555 0.15309067 0.0855866  0.15616341 0.85264874 0.33469158\n",
      " 0.74820849 0.28799608 0.73871746 0.72820606 0.0181165  0.5950396\n",
      " 0.3465683  0.9328388  0.6094402  0.78162787 0.01573873 0.4572466\n",
      " 0.51459199 0.88308386 0.92199551 0.29148038]\n"
     ]
    }
   ],
   "source": [
    "import numpy as np\n",
    "a = np.random.random(100)\n",
    "print(type(a))\n",
    "print(a) "
   ]
  },
  {
   "cell_type": "code",
   "execution_count": 5,
   "metadata": {
    "slideshow": {
     "slide_type": "fragment"
    }
   },
   "outputs": [
    {
     "name": "stdout",
     "output_type": "stream",
     "text": [
      "[0.94672174 0.777982   0.05544137 0.6376867  0.15278675 0.07796265\n",
      " 0.49674305 0.17063842 0.55689189 0.93383587]\n",
      "0.015738729841423105 0.9933913819568069 0.4534171490091281\n"
     ]
    }
   ],
   "source": [
    "print(a[:10])\n",
    "b = a[:10]\n",
    "print(a.min(),a.max(),a.mean())"
   ]
  },
  {
   "cell_type": "code",
   "execution_count": 7,
   "metadata": {},
   "outputs": [
    {
     "name": "stdout",
     "output_type": "stream",
     "text": [
      "[-1.00000000e+02  7.77981998e-01  5.54413725e-02  6.37686700e-01\n",
      "  1.52786747e-01  7.79626476e-02  4.96743054e-01  1.70638416e-01\n",
      "  5.56891888e-01  9.33835867e-01]\n"
     ]
    }
   ],
   "source": [
    "b[0] = -100\n",
    "print(a[:10])"
   ]
  },
  {
   "cell_type": "markdown",
   "metadata": {
    "slideshow": {
     "slide_type": "slide"
    }
   },
   "source": [
    "## Calcul vectorisé"
   ]
  },
  {
   "cell_type": "code",
   "execution_count": 8,
   "metadata": {
    "slideshow": {
     "slide_type": "fragment"
    }
   },
   "outputs": [
    {
     "ename": "TypeError",
     "evalue": "only size-1 arrays can be converted to Python scalars",
     "output_type": "error",
     "traceback": [
      "\u001b[0;31m---------------------------------------------------------------------------\u001b[0m",
      "\u001b[0;31mTypeError\u001b[0m                                 Traceback (most recent call last)",
      "\u001b[0;32m<ipython-input-8-bb9946c49d67>\u001b[0m in \u001b[0;36m<module>\u001b[0;34m\u001b[0m\n\u001b[1;32m      1\u001b[0m \u001b[0;31m# on peut pas ...\u001b[0m\u001b[0;34m\u001b[0m\u001b[0;34m\u001b[0m\u001b[0;34m\u001b[0m\u001b[0m\n\u001b[1;32m      2\u001b[0m \u001b[0;32mfrom\u001b[0m \u001b[0mmath\u001b[0m \u001b[0;32mimport\u001b[0m \u001b[0mcos\u001b[0m\u001b[0;34m\u001b[0m\u001b[0;34m\u001b[0m\u001b[0m\n\u001b[0;32m----> 3\u001b[0;31m \u001b[0mprint\u001b[0m\u001b[0;34m(\u001b[0m\u001b[0mcos\u001b[0m\u001b[0;34m(\u001b[0m\u001b[0ma\u001b[0m\u001b[0;34m)\u001b[0m\u001b[0;34m)\u001b[0m\u001b[0;34m\u001b[0m\u001b[0;34m\u001b[0m\u001b[0m\n\u001b[0m",
      "\u001b[0;31mTypeError\u001b[0m: only size-1 arrays can be converted to Python scalars"
     ]
    }
   ],
   "source": [
    "# on peut pas ...\n",
    "from math import cos\n",
    "print(cos(a))"
   ]
  },
  {
   "cell_type": "code",
   "execution_count": 10,
   "metadata": {
    "slideshow": {
     "slide_type": "fragment"
    }
   },
   "outputs": [
    {
     "name": "stdout",
     "output_type": "stream",
     "text": [
      "[0.86231887 0.71233131 0.99846352 0.8034751  0.98835079 0.99696245\n",
      " 0.87913937 0.98547656 0.848902   0.59475468]\n"
     ]
    }
   ],
   "source": [
    "# numpy a des fonctions \"universelles\"\n",
    "from numpy import cos \n",
    "c = cos(a)\n",
    "print(c[:10])"
   ]
  },
  {
   "cell_type": "code",
   "execution_count": 11,
   "metadata": {
    "slideshow": {
     "slide_type": "fragment"
    }
   },
   "outputs": [
    {
     "data": {
      "text/plain": [
       "array([-2.00000000e+02,  1.55596400e+00,  1.10882745e-01,  1.27537340e+00,\n",
       "        3.05573493e-01,  1.55925295e-01,  9.93486109e-01,  3.41276832e-01,\n",
       "        1.11378378e+00,  1.86767173e+00])"
      ]
     },
     "execution_count": 11,
     "metadata": {},
     "output_type": "execute_result"
    }
   ],
   "source": [
    "# et des opérations vectorielles / matricielles\n",
    "(a+a)[:10]"
   ]
  },
  {
   "cell_type": "code",
   "execution_count": 13,
   "metadata": {},
   "outputs": [
    {
     "data": {
      "text/plain": [
       "array([1.00000000e+04, 6.05255989e-01, 3.07374578e-03, 4.06644327e-01,\n",
       "       2.33437899e-02, 6.07817443e-03, 2.46753662e-01, 2.91174691e-02,\n",
       "       3.10128575e-01, 8.72049427e-01])"
      ]
     },
     "execution_count": 13,
     "metadata": {},
     "output_type": "execute_result"
    }
   ],
   "source": [
    "(a*a)[:10]"
   ]
  },
  {
   "cell_type": "markdown",
   "metadata": {
    "slideshow": {
     "slide_type": "slide"
    }
   },
   "source": [
    "### Comparaison de performances"
   ]
  },
  {
   "cell_type": "code",
   "execution_count": 6,
   "metadata": {
    "slideshow": {
     "slide_type": "fragment"
    }
   },
   "outputs": [
    {
     "name": "stdout",
     "output_type": "stream",
     "text": [
      "[0.48051869005900694, 0.2554604048246045, 0.2736316638165561, 0.5026538041315873, 0.33159284767816166, 0.06994022144236633, 0.687144921841489, 0.9669654967179528, 0.28618061710658027, 0.239228534044168]\n"
     ]
    }
   ],
   "source": [
    "b = list(a)\n",
    "print(b[:10])"
   ]
  },
  {
   "cell_type": "code",
   "execution_count": 14,
   "metadata": {
    "slideshow": {
     "slide_type": "fragment"
    }
   },
   "outputs": [
    {
     "name": "stdout",
     "output_type": "stream",
     "text": [
      "402 ns ± 0.527 ns per loop (mean ± std. dev. of 7 runs, 1000000 loops each)\n"
     ]
    }
   ],
   "source": [
    "%timeit a**2"
   ]
  },
  {
   "cell_type": "code",
   "execution_count": 18,
   "metadata": {
    "slideshow": {
     "slide_type": "fragment"
    }
   },
   "outputs": [
    {
     "name": "stdout",
     "output_type": "stream",
     "text": [
      "1.98 µs ± 37.4 ns per loop (mean ± std. dev. of 7 runs, 1000000 loops each)\n"
     ]
    }
   ],
   "source": [
    " %timeit [x**2 for x in b]"
   ]
  },
  {
   "cell_type": "code",
   "execution_count": 19,
   "metadata": {
    "slideshow": {
     "slide_type": "slide"
    }
   },
   "outputs": [
    {
     "name": "stdout",
     "output_type": "stream",
     "text": [
      "1.71 µs ± 39 ns per loop (mean ± std. dev. of 7 runs, 1000000 loops each)\n"
     ]
    }
   ],
   "source": [
    "%%timeit \n",
    "s = 0\n",
    "for x in b: \n",
    "    z =  x**2\n"
   ]
  },
  {
   "cell_type": "markdown",
   "metadata": {
    "slideshow": {
     "slide_type": "slide"
    }
   },
   "source": [
    "## Indexation et dimensions"
   ]
  },
  {
   "cell_type": "code",
   "execution_count": 22,
   "metadata": {
    "slideshow": {
     "slide_type": "fragment"
    }
   },
   "outputs": [
    {
     "name": "stdout",
     "output_type": "stream",
     "text": [
      "<class 'numpy.ndarray'>\n",
      "0.10232902193950799\n"
     ]
    },
    {
     "data": {
      "text/plain": [
       "(1000,)"
      ]
     },
     "execution_count": 22,
     "metadata": {},
     "output_type": "execute_result"
    }
   ],
   "source": [
    "c = np.random.random(1000)\n",
    "print(type(c))\n",
    "print(c[9])\n",
    "c.shape"
   ]
  },
  {
   "cell_type": "code",
   "execution_count": 23,
   "metadata": {
    "slideshow": {
     "slide_type": "fragment"
    }
   },
   "outputs": [
    {
     "name": "stdout",
     "output_type": "stream",
     "text": [
      "0.10232902193950799\n",
      "(10, 100)\n",
      "[[0.35704359 0.25655727]\n",
      " [0.83361052 0.82421949]\n",
      " [0.93918986 0.72944163]\n",
      " [0.47697811 0.54514777]\n",
      " [0.22345284 0.32100209]\n",
      " [0.22334655 0.48902418]\n",
      " [0.72730303 0.34769367]\n",
      " [0.86896049 0.47229427]\n",
      " [0.45148512 0.48341543]\n",
      " [0.81972989 0.0097976 ]]\n"
     ]
    }
   ],
   "source": [
    "nc = 100\n",
    "c = c.reshape(c.shape[0]//nc,nc) \n",
    "print(c[0,9])\n",
    "print(c.shape) \n",
    "print(c[:,2:4]) "
   ]
  },
  {
   "cell_type": "code",
   "execution_count": 12,
   "metadata": {},
   "outputs": [
    {
     "name": "stdout",
     "output_type": "stream",
     "text": [
      "[0.74349955 0.58806515 0.19535212 0.27314217 0.36251538 0.10110587\n",
      " 0.32091266 0.64757571 0.65400341 0.25841136]\n",
      "[0.58806515 0.27314217 0.10110587 0.64757571 0.25841136]\n"
     ]
    }
   ],
   "source": [
    "print(c[:,1])\n",
    "print(c[1::2,1])"
   ]
  },
  {
   "cell_type": "markdown",
   "metadata": {
    "slideshow": {
     "slide_type": "slide"
    }
   },
   "source": [
    "## Création"
   ]
  },
  {
   "cell_type": "code",
   "execution_count": 13,
   "metadata": {
    "slideshow": {
     "slide_type": "fragment"
    }
   },
   "outputs": [
    {
     "name": "stdout",
     "output_type": "stream",
     "text": [
      "(3, 4)\n",
      "[[0. 0. 0. 0.]\n",
      " [0. 0. 0. 0.]\n",
      " [0. 0. 0. 0.]]\n"
     ]
    },
    {
     "data": {
      "text/plain": [
       "array([0., 0., 0., 0., 0., 0., 0., 0., 0., 0., 0., 0.])"
      ]
     },
     "execution_count": 13,
     "metadata": {},
     "output_type": "execute_result"
    }
   ],
   "source": [
    "import numpy as np\n",
    "c = np.zeros(shape=(3,4))\n",
    "print(c.shape)\n",
    "print(c)\n",
    "c.ravel()"
   ]
  },
  {
   "cell_type": "code",
   "execution_count": 14,
   "metadata": {
    "slideshow": {
     "slide_type": "fragment"
    }
   },
   "outputs": [
    {
     "name": "stdout",
     "output_type": "stream",
     "text": [
      "[0 1 2 3 4 5 6 7 8 9]\n"
     ]
    }
   ],
   "source": [
    "c = np.arange(10)  \n",
    "print (c)"
   ]
  },
  {
   "cell_type": "code",
   "execution_count": 25,
   "metadata": {
    "slideshow": {
     "slide_type": "fragment"
    }
   },
   "outputs": [
    {
     "data": {
      "text/plain": [
       "array([ 1.        ,  0.99875026,  0.99500417,  0.98877108,  0.98006658,\n",
       "        0.96891242,  0.95533649,  0.93937271,  0.92106099,  0.9004471 ,\n",
       "        0.87758256,  0.85252452,  0.82533561,  0.7960838 ,  0.76484219,\n",
       "        0.73168887,  0.69670671,  0.65998315,  0.62160997,  0.58168309,\n",
       "        0.54030231,  0.49757105,  0.45359612,  0.40848744,  0.36235775,\n",
       "        0.31532236,  0.26749883,  0.21900669,  0.16996714,  0.12050277,\n",
       "        0.0707372 ,  0.02079483, -0.02919952, -0.07912089, -0.12884449,\n",
       "       -0.17824606, -0.22720209, -0.27559025, -0.32328957, -0.37018083,\n",
       "       -0.41614684, -0.46107269, -0.5048461 , -0.54735767, -0.58850112,\n",
       "       -0.62817362, -0.66627602, -0.70271308, -0.73739372, -0.77023125,\n",
       "       -0.80114362, -0.83005354, -0.85688875, -0.8815822 , -0.90407214,\n",
       "       -0.92430238, -0.94222234, -0.95778724, -0.97095817, -0.9817022 ,\n",
       "       -0.9899925 , -0.99580832, -0.99913515])"
      ]
     },
     "execution_count": 25,
     "metadata": {},
     "output_type": "execute_result"
    }
   ],
   "source": [
    "c  = np.arange(0.,3.14,0.05) \n",
    "cos(c)"
   ]
  },
  {
   "cell_type": "code",
   "execution_count": 27,
   "metadata": {},
   "outputs": [
    {
     "name": "stdout",
     "output_type": "stream",
     "text": [
      "871 ns ± 14.1 ns per loop (mean ± std. dev. of 7 runs, 1000000 loops each)\n"
     ]
    }
   ],
   "source": [
    "%timeit cos(c)"
   ]
  },
  {
   "cell_type": "code",
   "execution_count": 30,
   "metadata": {},
   "outputs": [],
   "source": [
    "from math import cos as badcos\n",
    "lc = list(c)"
   ]
  },
  {
   "cell_type": "code",
   "execution_count": 31,
   "metadata": {},
   "outputs": [
    {
     "name": "stdout",
     "output_type": "stream",
     "text": [
      "3.38 µs ± 5.53 ns per loop (mean ± std. dev. of 7 runs, 100000 loops each)\n"
     ]
    }
   ],
   "source": [
    "%timeit [badcos(x) for x in lc]"
   ]
  },
  {
   "cell_type": "code",
   "execution_count": 32,
   "metadata": {
    "slideshow": {
     "slide_type": "fragment"
    }
   },
   "outputs": [
    {
     "data": {
      "text/plain": [
       "array([0.  , 0.01, 0.02, 0.03, 0.04, 0.05, 0.06, 0.07, 0.08, 0.09, 0.1 ,\n",
       "       0.11, 0.12, 0.13, 0.14, 0.15, 0.16, 0.17, 0.18, 0.19, 0.2 , 0.21,\n",
       "       0.22, 0.23, 0.24, 0.25, 0.26, 0.27, 0.28, 0.29, 0.3 , 0.31, 0.32,\n",
       "       0.33, 0.34, 0.35, 0.36, 0.37, 0.38, 0.39, 0.4 , 0.41, 0.42, 0.43,\n",
       "       0.44, 0.45, 0.46, 0.47, 0.48, 0.49, 0.5 , 0.51, 0.52, 0.53, 0.54,\n",
       "       0.55, 0.56, 0.57, 0.58, 0.59, 0.6 , 0.61, 0.62, 0.63, 0.64, 0.65,\n",
       "       0.66, 0.67, 0.68, 0.69, 0.7 , 0.71, 0.72, 0.73, 0.74, 0.75, 0.76,\n",
       "       0.77, 0.78, 0.79, 0.8 , 0.81, 0.82, 0.83, 0.84, 0.85, 0.86, 0.87,\n",
       "       0.88, 0.89, 0.9 , 0.91, 0.92, 0.93, 0.94, 0.95, 0.96, 0.97, 0.98,\n",
       "       0.99, 1.  ])"
      ]
     },
     "execution_count": 32,
     "metadata": {},
     "output_type": "execute_result"
    }
   ],
   "source": [
    "c = np.linspace(0, 1.0,101)\n",
    "c"
   ]
  },
  {
   "cell_type": "code",
   "execution_count": null,
   "metadata": {},
   "outputs": [],
   "source": []
  },
  {
   "cell_type": "markdown",
   "metadata": {
    "slideshow": {
     "slide_type": "slide"
    }
   },
   "source": [
    "## Création (suite)"
   ]
  },
  {
   "cell_type": "code",
   "execution_count": 33,
   "metadata": {
    "slideshow": {
     "slide_type": "fragment"
    }
   },
   "outputs": [
    {
     "data": {
      "text/plain": [
       "array([[0., 0.],\n",
       "       [0., 0.]])"
      ]
     },
     "execution_count": 33,
     "metadata": {},
     "output_type": "execute_result"
    }
   ],
   "source": [
    "np.zeros((2,2))"
   ]
  },
  {
   "cell_type": "code",
   "execution_count": 34,
   "metadata": {
    "slideshow": {
     "slide_type": "fragment"
    }
   },
   "outputs": [
    {
     "data": {
      "text/plain": [
       "array([[1., 1.],\n",
       "       [1., 1.]])"
      ]
     },
     "execution_count": 34,
     "metadata": {},
     "output_type": "execute_result"
    }
   ],
   "source": [
    "np.ones((2,2))"
   ]
  },
  {
   "cell_type": "code",
   "execution_count": 35,
   "metadata": {
    "scrolled": true,
    "slideshow": {
     "slide_type": "fragment"
    }
   },
   "outputs": [
    {
     "data": {
      "text/plain": [
       "array([[1., 0., 0.],\n",
       "       [0., 1., 0.],\n",
       "       [0., 0., 1.]])"
      ]
     },
     "execution_count": 35,
     "metadata": {},
     "output_type": "execute_result"
    }
   ],
   "source": [
    "np.eye(3)"
   ]
  },
  {
   "cell_type": "markdown",
   "metadata": {
    "slideshow": {
     "slide_type": "slide"
    }
   },
   "source": [
    "## Références \n",
    "\n",
    "attention aux références -> différent des listes  \n",
    "les \"tranches\" de vecteurs/matrices sont justes des \"vues\" sur le vecteur"
   ]
  },
  {
   "cell_type": "code",
   "execution_count": 20,
   "metadata": {
    "slideshow": {
     "slide_type": "fragment"
    }
   },
   "outputs": [
    {
     "name": "stdout",
     "output_type": "stream",
     "text": [
      "[0.   0.   0.02 0.03 0.04 0.05 0.06 0.07 0.08 0.09 0.1  0.11 0.12 0.13\n",
      " 0.14 0.15 0.16 0.17 0.18 0.19 0.2  0.21 0.22 0.23 0.24 0.25 0.26 0.27\n",
      " 0.28 0.29 0.3  0.31 0.32 0.33 0.34 0.35 0.36 0.37 0.38 0.39 0.4  0.41\n",
      " 0.42 0.43 0.44 0.45 0.46 0.47 0.48 0.49 0.5  0.51 0.52 0.53 0.54 0.55\n",
      " 0.56 0.57 0.58 0.59 0.6  0.61 0.62 0.63 0.64 0.65 0.66 0.67 0.68 0.69\n",
      " 0.7  0.71 0.72 0.73 0.74 0.75 0.76 0.77 0.78 0.79 0.8  0.81 0.82 0.83\n",
      " 0.84 0.85 0.86 0.87 0.88 0.89 0.9  0.91 0.92 0.93 0.94 0.95 0.96 0.97\n",
      " 0.98 0.99 1.  ]\n",
      "[-1.    0.02  0.03  0.04  0.05  0.06  0.07  0.08  0.09  0.1 ]\n"
     ]
    }
   ],
   "source": [
    "c[1] = 0\n",
    "print(c)\n",
    "a = c[1:-1] \n",
    "c[1] = -1\n",
    "print(a[:10])"
   ]
  },
  {
   "cell_type": "code",
   "execution_count": 36,
   "metadata": {
    "slideshow": {
     "slide_type": "fragment"
    }
   },
   "outputs": [
    {
     "name": "stdout",
     "output_type": "stream",
     "text": [
      "[0.   0.01 0.02 0.03 0.04 0.05 0.06 0.07 0.08 0.09]\n"
     ]
    }
   ],
   "source": [
    "# Mais on peut faire des copies: \n",
    "c[0] = 0\n",
    "a = np.zeros(c.shape)\n",
    "# ou  \n",
    "#a[:] = c\n",
    "a[...] = c\n",
    "c[0] = 2\n",
    "print(a[:10])"
   ]
  },
  {
   "cell_type": "markdown",
   "metadata": {
    "slideshow": {
     "slide_type": "slide"
    }
   },
   "source": [
    "## Index Conditionnels"
   ]
  },
  {
   "cell_type": "code",
   "execution_count": 37,
   "metadata": {
    "slideshow": {
     "slide_type": "fragment"
    }
   },
   "outputs": [
    {
     "name": "stdout",
     "output_type": "stream",
     "text": [
      "[0.   0.01 0.02 0.03 0.04 0.05 0.06 0.07 0.08 0.09 0.1  0.11 0.12 0.13\n",
      " 0.14 0.15 0.16 0.17 0.18 0.19 0.2  0.21 0.22 0.23 0.24 0.25 0.26 0.27\n",
      " 0.28 0.29 0.3  0.31 0.32 0.33 0.34 0.35 0.36 0.37 0.38 0.39 0.4  0.41\n",
      " 0.42 0.43 0.44 0.45 0.46 0.47 0.48 0.49 0.5  0.51 0.52 0.53 0.54 0.55\n",
      " 0.56 0.57 0.58 0.59 0.6  0.61 0.62 0.63 0.64 0.65 0.66 0.67 0.68 0.69\n",
      " 0.7  0.71 0.72 0.73 0.74 0.75 0.76 0.77 0.78 0.79 0.8  0.81 0.82 0.83\n",
      " 0.84 0.85 0.86 0.87 0.88 0.89 0.9  0.91 0.92 0.93 0.94 0.95 0.96 0.97\n",
      " 0.98 0.99 1.  ] (101,)\n",
      "[[  0   1   2   3   4   5   6   7   8   9  10  11  12  13  14  15  16  17\n",
      "   18  19  56  57  58  59  60  61  62  63  64  65  66  67  68  69  70  71\n",
      "   72  73  74  75  76  77  78  79  80  81  82  83  84  85  86  87  88  89\n",
      "   90  91  92  93  94  95  96  97  98  99 100]]\n",
      "(65, 1)\n"
     ]
    }
   ],
   "source": [
    "print(a,a.shape)\n",
    "ia1 = np.argwhere(a>0.55)\n",
    "ia2 = np.argwhere((a>.55) | (a<0.2))\n",
    "print(ia2.T)\n",
    "print(ia2.shape)"
   ]
  },
  {
   "cell_type": "code",
   "execution_count": 23,
   "metadata": {
    "slideshow": {
     "slide_type": "fragment"
    }
   },
   "outputs": [
    {
     "name": "stdout",
     "output_type": "stream",
     "text": [
      "(65, 1)\n",
      "[0.56 0.57 0.58 0.59 0.6  0.61 0.62 0.63 0.64 0.65 0.66 0.67 0.68 0.69\n",
      " 0.7  0.71 0.72 0.73 0.74 0.75 0.76 0.77 0.78 0.79 0.8  0.81 0.82 0.83\n",
      " 0.84 0.85 0.86 0.87 0.88 0.89 0.9  0.91 0.92 0.93 0.94 0.95 0.96 0.97\n",
      " 0.98 0.99 1.  ]\n",
      "[ 0.   -1.    0.02  0.03  0.04  0.05  0.06  0.07  0.08  0.09  0.1   0.11\n",
      "  0.12  0.13  0.14  0.15  0.16  0.17  0.18  0.19  0.56  0.57  0.58  0.59\n",
      "  0.6   0.61  0.62  0.63  0.64  0.65  0.66  0.67  0.68  0.69  0.7   0.71\n",
      "  0.72  0.73  0.74  0.75  0.76  0.77  0.78  0.79  0.8   0.81  0.82  0.83\n",
      "  0.84  0.85  0.86  0.87  0.88  0.89  0.9   0.91  0.92  0.93  0.94  0.95\n",
      "  0.96  0.97  0.98  0.99  1.  ]\n"
     ]
    }
   ],
   "source": [
    "print(a[ia2].shape)\n",
    "#print(a[ia2])\n",
    "print(a[ia1].ravel())\n",
    "print(a[ia2].ravel()) "
   ]
  },
  {
   "cell_type": "code",
   "execution_count": 38,
   "metadata": {
    "slideshow": {
     "slide_type": "fragment"
    }
   },
   "outputs": [
    {
     "name": "stdout",
     "output_type": "stream",
     "text": [
      "[0.   0.01 0.02 0.03 0.04 0.05 0.06 0.07 0.08 0.09 0.1  0.11 0.12 0.13\n",
      " 0.14 0.15 0.16 0.17 0.18 0.19 0.56 0.57 0.58 0.59 0.6  0.61 0.62 0.63\n",
      " 0.64 0.65 0.66 0.67 0.68 0.69 0.7  0.71 0.72 0.73 0.74 0.75 0.76 0.77\n",
      " 0.78 0.79 0.8  0.81 0.82 0.83 0.84 0.85 0.86 0.87 0.88 0.89 0.9  0.91\n",
      " 0.92 0.93 0.94 0.95 0.96 0.97 0.98 0.99 1.  ]\n"
     ]
    }
   ],
   "source": [
    "print(a[(a<0.2) | (a>0.55)])"
   ]
  },
  {
   "cell_type": "code",
   "execution_count": 40,
   "metadata": {},
   "outputs": [],
   "source": [
    "# masque booléen: (a<0.2) | (a>0.55)"
   ]
  },
  {
   "cell_type": "code",
   "execution_count": 25,
   "metadata": {
    "slideshow": {
     "slide_type": "skip"
    }
   },
   "outputs": [
    {
     "name": "stdout",
     "output_type": "stream",
     "text": [
      "Populating the interactive namespace from numpy and matplotlib\n"
     ]
    }
   ],
   "source": [
    "%pylab inline"
   ]
  },
  {
   "cell_type": "markdown",
   "metadata": {
    "slideshow": {
     "slide_type": "slide"
    }
   },
   "source": [
    "## Exemples d'utilisation : calcul vectoriel"
   ]
  },
  {
   "cell_type": "code",
   "execution_count": 42,
   "metadata": {},
   "outputs": [
    {
     "name": "stdout",
     "output_type": "stream",
     "text": [
      "[ 0  1  2  3  4  5  6  7  8  9 10 11 12 13 14 15 16 17 18 19 20 21 22 23\n",
      " 24 25 26 27 28 29 30 31 32 33 34 35 36 37 38 39 40 41 42 43 44 45 46 47\n",
      " 48 49]\n",
      "[   0    4   16   36   64  100  144  196  256  324  400  484  576  676\n",
      "  784  900 1024 1156 1296 1444 1600 1764 1936 2116 2304 2500 2704 2916\n",
      " 3136 3364 3600 3844 4096 4356 4624 4900 5184 5476 5776 6084 6400 6724\n",
      " 7056 7396 7744 8100 8464 8836 9216 9604]\n"
     ]
    },
    {
     "data": {
      "text/plain": [
       "161700"
      ]
     },
     "execution_count": 42,
     "metadata": {},
     "output_type": "execute_result"
    }
   ],
   "source": [
    "a = np.arange(50)\n",
    "print(a)\n",
    "res = 4*a*a\n",
    "print(res)\n",
    "res.sum()"
   ]
  },
  {
   "cell_type": "markdown",
   "metadata": {},
   "source": [
    "Pratique aussi pour calculer/tracer des fonctions numériques : "
   ]
  },
  {
   "cell_type": "code",
   "execution_count": 44,
   "metadata": {
    "slideshow": {
     "slide_type": "fragment"
    }
   },
   "outputs": [
    {
     "name": "stdout",
     "output_type": "stream",
     "text": [
      "Populating the interactive namespace from numpy and matplotlib\n"
     ]
    },
    {
     "name": "stderr",
     "output_type": "stream",
     "text": [
      "/usr/lib/python3/dist-packages/IPython/core/magics/pylab.py:159: UserWarning: pylab import has clobbered these variables: ['pylab']\n",
      "`%matplotlib` prevents importing * from pylab and numpy\n",
      "  warn(\"pylab import has clobbered these variables: %s\"  % clobbered +\n"
     ]
    },
    {
     "data": {
      "image/png": "[encoded data removed]",
      "text/plain": [
       "<Figure size 432x288 with 1 Axes>"
      ]
     },
     "metadata": {
      "needs_background": "light"
     },
     "output_type": "display_data"
    }
   ],
   "source": [
    "%pylab inline\n",
    "import pylab \n",
    "from numpy import sin\n",
    "\n",
    "x = np.linspace(-20,20,1000)\n",
    "a0 = sin(x/2.)\n",
    "a = a0 + np.random.normal(scale=0.2,size=1000)\n",
    "f = pylab.plot(x,a)\n",
    "g = pylab.plot(x,a0)"
   ]
  },
  {
   "cell_type": "markdown",
   "metadata": {
    "slideshow": {
     "slide_type": "slide"
    }
   },
   "source": [
    "Faisons une moyenne glissante: on remplace chaque point de a par la moyenne des valeurs voisines:\n",
    "\n",
    "$$ \\frac{ (a_{i-1} + a_{i} + a_{i+1})}{3} $$\n",
    "\n",
    "$a_0 a_1 a_2 a_3 ... a_{n-3} a_{n-2}$ \n",
    "\n",
    "$a_1 a_2 a_3 a_4 ... a_{n-2} a_{n-1}$\n",
    "\n",
    "$a_2 a_3 a_4 a_5 ... a_{n-1} a_{n}$ "
   ]
  },
  {
   "cell_type": "code",
   "execution_count": 47,
   "metadata": {
    "slideshow": {
     "slide_type": "slide"
    }
   },
   "outputs": [
    {
     "data": {
      "image/png": "[encoded data removed]",
      "text/plain": [
       "<Figure size 432x288 with 1 Axes>"
      ]
     },
     "metadata": {
      "needs_background": "light"
     },
     "output_type": "display_data"
    }
   ],
   "source": [
    "import pylab\n",
    "# Directement en vectoriel ! \n",
    "c = np.copy(a[1:-1])\n",
    "c += a[:-2] + a[2:]\n",
    "c *= 1./3.\n",
    "\n",
    "#c = (a[:-2]+a[-1:1]+a[2:])/3\n",
    "\n",
    "# on exclut les bornes, mais d'autres choix sont possibles\n",
    "f1 = pylab.plot(x[1:-1],c,\"g\")\n",
    "f2 = pylab.plot(x,a,\"r\")"
   ]
  },
  {
   "cell_type": "code",
   "execution_count": 48,
   "metadata": {
    "slideshow": {
     "slide_type": "slide"
    }
   },
   "outputs": [
    {
     "data": {
      "image/png": "[encoded data removed]",
      "text/plain": [
       "<Figure size 432x288 with 1 Axes>"
      ]
     },
     "metadata": {
      "needs_background": "light"
     },
     "output_type": "display_data"
    }
   ],
   "source": [
    "# avec une fonction\n",
    "def smooth3(a):\n",
    "    c = np.zeros(len(a)-2)\n",
    "    c += a[:-2] + a[1:-1] + a[2:]\n",
    "    c *= 1./3\n",
    "    return c\n",
    "    \n",
    "c = smooth3(a)\n",
    "for i in range(5):\n",
    "    c = smooth3(c)\n",
    "    #pylab.plot(c)\n",
    "    \n",
    "#pylab.ylim((0.0,1.0))\n",
    "f = pylab.plot(x[6:-6],c)\n",
    "#g = pylab.plot(x,a)"
   ]
  },
  {
   "cell_type": "markdown",
   "metadata": {
    "collapsed": true,
    "slideshow": {
     "slide_type": "slide"
    }
   },
   "source": [
    "en fait: opération plus générale (convolution) -> existe dans scipy: convolve, et smooth"
   ]
  },
  {
   "cell_type": "markdown",
   "metadata": {
    "slideshow": {
     "slide_type": "slide"
    }
   },
   "source": [
    "## Règles de composition (\"broadcasting\")"
   ]
  },
  {
   "cell_type": "code",
   "execution_count": 49,
   "metadata": {
    "slideshow": {
     "slide_type": "slide"
    }
   },
   "outputs": [
    {
     "data": {
      "text/plain": [
       "array([[ 0,  1,  2,  3,  4,  5,  6,  7,  8,  9],\n",
       "       [10, 11, 12, 13, 14, 15, 16, 17, 18, 19],\n",
       "       [20, 21, 22, 23, 24, 25, 26, 27, 28, 29],\n",
       "       [30, 31, 32, 33, 34, 35, 36, 37, 38, 39],\n",
       "       [40, 41, 42, 43, 44, 45, 46, 47, 48, 49],\n",
       "       [50, 51, 52, 53, 54, 55, 56, 57, 58, 59],\n",
       "       [60, 61, 62, 63, 64, 65, 66, 67, 68, 69],\n",
       "       [70, 71, 72, 73, 74, 75, 76, 77, 78, 79],\n",
       "       [80, 81, 82, 83, 84, 85, 86, 87, 88, 89],\n",
       "       [90, 91, 92, 93, 94, 95, 96, 97, 98, 99]])"
      ]
     },
     "execution_count": 49,
     "metadata": {},
     "output_type": "execute_result"
    }
   ],
   "source": [
    "a = np.arange(100)\n",
    "a = a.reshape(10,10)\n",
    "a"
   ]
  },
  {
   "cell_type": "code",
   "execution_count": 52,
   "metadata": {
    "slideshow": {
     "slide_type": "slide"
    }
   },
   "outputs": [
    {
     "data": {
      "text/plain": [
       "array([[ 10,  11,  12,  13,  14,  15,  16,  17,  18,  19],\n",
       "       [ 20,  21,  22,  23,  24,  25,  26,  27,  28,  29],\n",
       "       [ 30,  31,  32,  33,  34,  35,  36,  37,  38,  39],\n",
       "       [ 40,  41,  42,  43,  44,  45,  46,  47,  48,  49],\n",
       "       [ 50,  51,  52,  53,  54,  55,  56,  57,  58,  59],\n",
       "       [ 60,  61,  62,  63,  64,  65,  66,  67,  68,  69],\n",
       "       [ 70,  71,  72,  73,  74,  75,  76,  77,  78,  79],\n",
       "       [ 80,  81,  82,  83,  84,  85,  86,  87,  88,  89],\n",
       "       [ 90,  91,  92,  93,  94,  95,  96,  97,  98,  99],\n",
       "       [100, 101, 102, 103, 104, 105, 106, 107, 108, 109]])"
      ]
     },
     "execution_count": 52,
     "metadata": {},
     "output_type": "execute_result"
    }
   ],
   "source": [
    "# l'addition \"comprend\" comment composer des dimensions différentes \n",
    "a+10"
   ]
  },
  {
   "cell_type": "code",
   "execution_count": 53,
   "metadata": {
    "scrolled": true,
    "slideshow": {
     "slide_type": "fragment"
    }
   },
   "outputs": [
    {
     "data": {
      "text/plain": [
       "array([[ 0,  1,  2],\n",
       "       [10, 11, 12]])"
      ]
     },
     "execution_count": 53,
     "metadata": {},
     "output_type": "execute_result"
    }
   ],
   "source": [
    "a[:2,0:3]"
   ]
  },
  {
   "cell_type": "code",
   "execution_count": 54,
   "metadata": {
    "slideshow": {
     "slide_type": "slide"
    }
   },
   "outputs": [
    {
     "name": "stdout",
     "output_type": "stream",
     "text": [
      "[-5 -4 -3 -2 -1  0  1  2  3  4]\n"
     ]
    }
   ],
   "source": [
    "b = np.arange(10)-5\n",
    "print(b)"
   ]
  },
  {
   "cell_type": "code",
   "execution_count": 56,
   "metadata": {
    "slideshow": {
     "slide_type": "slide"
    }
   },
   "outputs": [
    {
     "name": "stdout",
     "output_type": "stream",
     "text": [
      "[[ 0  1  2  3  4  5  6  7  8  9]\n",
      " [10 11 12 13 14 15 16 17 18 19]\n",
      " [20 21 22 23 24 25 26 27 28 29]\n",
      " [30 31 32 33 34 35 36 37 38 39]\n",
      " [40 41 42 43 44 45 46 47 48 49]\n",
      " [50 51 52 53 54 55 56 57 58 59]\n",
      " [60 61 62 63 64 65 66 67 68 69]\n",
      " [70 71 72 73 74 75 76 77 78 79]\n",
      " [80 81 82 83 84 85 86 87 88 89]\n",
      " [90 91 92 93 94 95 96 97 98 99]]\n"
     ]
    },
    {
     "data": {
      "text/plain": [
       "array([[ -5,  -3,  -1,   1,   3,   5,   7,   9,  11,  13],\n",
       "       [  5,   7,   9,  11,  13,  15,  17,  19,  21,  23],\n",
       "       [ 15,  17,  19,  21,  23,  25,  27,  29,  31,  33],\n",
       "       [ 25,  27,  29,  31,  33,  35,  37,  39,  41,  43],\n",
       "       [ 35,  37,  39,  41,  43,  45,  47,  49,  51,  53],\n",
       "       [ 45,  47,  49,  51,  53,  55,  57,  59,  61,  63],\n",
       "       [ 55,  57,  59,  61,  63,  65,  67,  69,  71,  73],\n",
       "       [ 65,  67,  69,  71,  73,  75,  77,  79,  81,  83],\n",
       "       [ 75,  77,  79,  81,  83,  85,  87,  89,  91,  93],\n",
       "       [ 85,  87,  89,  91,  93,  95,  97,  99, 101, 103]])"
      ]
     },
     "execution_count": 56,
     "metadata": {},
     "output_type": "execute_result"
    }
   ],
   "source": [
    "print(a)\n",
    "a+b"
   ]
  },
  {
   "cell_type": "code",
   "execution_count": 57,
   "metadata": {
    "slideshow": {
     "slide_type": "slide"
    }
   },
   "outputs": [
    {
     "name": "stdout",
     "output_type": "stream",
     "text": [
      "la matrice de départ\n",
      " [[1. 0. 0. 0. 0.]\n",
      " [0. 1. 1. 0. 0.]\n",
      " [0. 0. 1. 0. 0.]\n",
      " [0. 0. 0. 1. 0.]\n",
      " [0. 0. 0. 0. 1.]]\n",
      "\n",
      "sous bloc 1\n",
      " [[1. 0. 0.]\n",
      " [0. 1. 1.]\n",
      " [0. 0. 1.]]\n",
      "\n",
      "sous bloc 2\n",
      " [[1. 1. 0.]\n",
      " [0. 1. 0.]\n",
      " [0. 0. 1.]]\n",
      "la somme\n"
     ]
    },
    {
     "data": {
      "text/plain": [
       "array([[2., 1., 0.],\n",
       "       [0., 2., 1.],\n",
       "       [0., 0., 2.]])"
      ]
     },
     "execution_count": 57,
     "metadata": {},
     "output_type": "execute_result"
    }
   ],
   "source": [
    "a = np.eye(5)\n",
    "a[1,2] = 1\n",
    "print(\"la matrice de départ\\n\",a)\n",
    "print()\n",
    "print(\"sous bloc 1\\n\",a[0:-2,0:-2] )\n",
    "print()\n",
    "print(\"sous bloc 2\\n\",a[1:-1,1:-1])\n",
    "print(\"la somme\")\n",
    "a[0:-2,0:-2] + a[1:-1,1:-1]"
   ]
  },
  {
   "cell_type": "markdown",
   "metadata": {},
   "source": [
    "## Restructurations"
   ]
  },
  {
   "cell_type": "code",
   "execution_count": 58,
   "metadata": {},
   "outputs": [
    {
     "name": "stdout",
     "output_type": "stream",
     "text": [
      "(10, 5)\n",
      "[[1. 0. 0. 0. 0.]\n",
      " [0. 1. 1. 0. 0.]\n",
      " [0. 0. 1. 0. 0.]\n",
      " [0. 0. 0. 1. 0.]\n",
      " [0. 0. 0. 0. 1.]\n",
      " [2. 0. 0. 0. 0.]\n",
      " [0. 2. 2. 0. 0.]\n",
      " [0. 0. 2. 0. 0.]\n",
      " [0. 0. 0. 2. 0.]\n",
      " [0. 0. 0. 0. 2.]]\n"
     ]
    }
   ],
   "source": [
    "b = 2*a\n",
    "c = np.concatenate([a,b])\n",
    "print(c.shape)\n",
    "print(c)"
   ]
  },
  {
   "cell_type": "code",
   "execution_count": 65,
   "metadata": {},
   "outputs": [
    {
     "name": "stdout",
     "output_type": "stream",
     "text": [
      "(2, 5, 5)\n",
      "[[[1. 0. 0. 0. 0.]\n",
      "  [0. 1. 1. 0. 0.]\n",
      "  [0. 0. 1. 0. 0.]\n",
      "  [0. 0. 0. 1. 0.]\n",
      "  [0. 0. 0. 0. 1.]]\n",
      "\n",
      " [[2. 0. 0. 0. 0.]\n",
      "  [0. 2. 2. 0. 0.]\n",
      "  [0. 0. 2. 0. 0.]\n",
      "  [0. 0. 0. 2. 0.]\n",
      "  [0. 0. 0. 0. 2.]]]\n"
     ]
    }
   ],
   "source": [
    "d = np.stack([a,b])\n",
    "print(d.shape)\n",
    "print(d)"
   ]
  },
  {
   "cell_type": "code",
   "execution_count": 73,
   "metadata": {},
   "outputs": [
    {
     "name": "stdout",
     "output_type": "stream",
     "text": [
      "[array([[1., 0., 0., 0., 0.],\n",
      "       [0., 1., 1., 0., 0.]]), array([[0., 0., 1., 0., 0.],\n",
      "       [0., 0., 0., 1., 0.]]), array([[0., 0., 0., 0., 1.],\n",
      "       [2., 0., 0., 0., 0.]]), array([[0., 2., 2., 0., 0.],\n",
      "       [0., 0., 2., 0., 0.]]), array([[0., 0., 0., 2., 0.],\n",
      "       [0., 0., 0., 0., 2.]])]\n",
      "(2, 5)\n"
     ]
    }
   ],
   "source": [
    "c2 = np.split(c,5,axis=0)\n",
    "print(c2)\n",
    "print(c2[0].shape)"
   ]
  },
  {
   "cell_type": "markdown",
   "metadata": {
    "slideshow": {
     "slide_type": "slide"
    }
   },
   "source": [
    "## Calculs / grilles  en 2D"
   ]
  },
  {
   "cell_type": "code",
   "execution_count": 60,
   "metadata": {
    "slideshow": {
     "slide_type": "fragment"
    }
   },
   "outputs": [
    {
     "name": "stdout",
     "output_type": "stream",
     "text": [
      "[[0.  2.5 5. ]\n",
      " [0.  2.5 5. ]\n",
      " [0.  2.5 5. ]\n",
      " [0.  2.5 5. ]]\n",
      "\n",
      "[[0. 0. 0.]\n",
      " [1. 1. 1.]\n",
      " [2. 2. 2.]\n",
      " [3. 3. 3.]]\n"
     ]
    }
   ],
   "source": [
    "x = np.linspace(0.,5.,3)\n",
    "y = np.linspace(0.,3.,4)\n",
    "(X,Y) = np.meshgrid(x,y)\n",
    "print(X)\n",
    "print()\n",
    "print(Y)\n"
   ]
  },
  {
   "cell_type": "code",
   "execution_count": 61,
   "metadata": {
    "scrolled": true,
    "slideshow": {
     "slide_type": "fragment"
    }
   },
   "outputs": [
    {
     "data": {
      "text/plain": [
       "array([[ 0.  ,  6.25, 25.  ],\n",
       "       [ 1.  ,  7.25, 26.  ],\n",
       "       [ 4.  , 10.25, 29.  ],\n",
       "       [ 9.  , 15.25, 34.  ]])"
      ]
     },
     "execution_count": 61,
     "metadata": {},
     "output_type": "execute_result"
    }
   ],
   "source": [
    "a = X*X + Y*Y \n",
    "a"
   ]
  },
  {
   "cell_type": "markdown",
   "metadata": {
    "collapsed": true,
    "slideshow": {
     "slide_type": "fragment"
    }
   },
   "source": [
    "Traitement du signal en python : Scipy, une surcouche de numpy\n",
    "    \n",
    "    "
   ]
  },
  {
   "cell_type": "markdown",
   "metadata": {},
   "source": [
    "## Traitement  de table de données"
   ]
  },
  {
   "cell_type": "code",
   "execution_count": 62,
   "metadata": {},
   "outputs": [
    {
     "data": {
      "text/html": [
       "<div>\n",
       "<style scoped>\n",
       "    .dataframe tbody tr th:only-of-type {\n",
       "        vertical-align: middle;\n",
       "    }\n",
       "\n",
       "    .dataframe tbody tr th {\n",
       "        vertical-align: top;\n",
       "    }\n",
       "\n",
       "    .dataframe thead th {\n",
       "        text-align: right;\n",
       "    }\n",
       "</style>\n",
       "<table border=\"1\" class=\"dataframe\">\n",
       "  <thead>\n",
       "    <tr style=\"text-align: right;\">\n",
       "      <th></th>\n",
       "      <th>X</th>\n",
       "      <th>Pression</th>\n",
       "      <th>T°</th>\n",
       "    </tr>\n",
       "  </thead>\n",
       "  <tbody>\n",
       "    <tr>\n",
       "      <th>0</th>\n",
       "      <td>0.0</td>\n",
       "      <td>6.25</td>\n",
       "      <td>25.0</td>\n",
       "    </tr>\n",
       "    <tr>\n",
       "      <th>1</th>\n",
       "      <td>1.0</td>\n",
       "      <td>7.25</td>\n",
       "      <td>26.0</td>\n",
       "    </tr>\n",
       "    <tr>\n",
       "      <th>2</th>\n",
       "      <td>4.0</td>\n",
       "      <td>10.25</td>\n",
       "      <td>29.0</td>\n",
       "    </tr>\n",
       "    <tr>\n",
       "      <th>3</th>\n",
       "      <td>9.0</td>\n",
       "      <td>15.25</td>\n",
       "      <td>34.0</td>\n",
       "    </tr>\n",
       "  </tbody>\n",
       "</table>\n",
       "</div>"
      ],
      "text/plain": [
       "     X  Pression    T°\n",
       "0  0.0      6.25  25.0\n",
       "1  1.0      7.25  26.0\n",
       "2  4.0     10.25  29.0\n",
       "3  9.0     15.25  34.0"
      ]
     },
     "execution_count": 62,
     "metadata": {},
     "output_type": "execute_result"
    }
   ],
   "source": [
    "import pandas as pds\n",
    "\n",
    "df = pds.DataFrame(a,columns=[\"X\",\"Pression\",\"T°\"])\n",
    "df"
   ]
  },
  {
   "cell_type": "code",
   "execution_count": 39,
   "metadata": {},
   "outputs": [
    {
     "data": {
      "text/html": [
       "<div>\n",
       "<style scoped>\n",
       "    .dataframe tbody tr th:only-of-type {\n",
       "        vertical-align: middle;\n",
       "    }\n",
       "\n",
       "    .dataframe tbody tr th {\n",
       "        vertical-align: top;\n",
       "    }\n",
       "\n",
       "    .dataframe thead th {\n",
       "        text-align: right;\n",
       "    }\n",
       "</style>\n",
       "<table border=\"1\" class=\"dataframe\">\n",
       "  <thead>\n",
       "    <tr style=\"text-align: right;\">\n",
       "      <th></th>\n",
       "      <th>X</th>\n",
       "      <th>Pression</th>\n",
       "      <th>T°</th>\n",
       "    </tr>\n",
       "  </thead>\n",
       "  <tbody>\n",
       "    <tr>\n",
       "      <th>2</th>\n",
       "      <td>4.0</td>\n",
       "      <td>10.25</td>\n",
       "      <td>29.0</td>\n",
       "    </tr>\n",
       "    <tr>\n",
       "      <th>3</th>\n",
       "      <td>9.0</td>\n",
       "      <td>15.25</td>\n",
       "      <td>34.0</td>\n",
       "    </tr>\n",
       "  </tbody>\n",
       "</table>\n",
       "</div>"
      ],
      "text/plain": [
       "     X  Pression    T°\n",
       "2  4.0     10.25  29.0\n",
       "3  9.0     15.25  34.0"
      ]
     },
     "execution_count": 39,
     "metadata": {},
     "output_type": "execute_result"
    }
   ],
   "source": [
    "# reprend la syntaxe numpy ... et plus\n",
    "df[df[\"Pression\"]>10]"
   ]
  },
  {
   "cell_type": "code",
   "execution_count": 63,
   "metadata": {},
   "outputs": [
    {
     "data": {
      "text/plain": [
       "<AxesSubplot:>"
      ]
     },
     "execution_count": 63,
     "metadata": {},
     "output_type": "execute_result"
    },
    {
     "data": {
      "image/png": "[encoded data removed]",
      "text/plain": [
       "<Figure size 432x288 with 1 Axes>"
      ]
     },
     "metadata": {
      "needs_background": "light"
     },
     "output_type": "display_data"
    }
   ],
   "source": [
    "df.plot(kind=\"barh\")"
   ]
  },
  {
   "cell_type": "markdown",
   "metadata": {
    "slideshow": {
     "slide_type": "slide"
    }
   },
   "source": [
    "Image et matrice\n",
    "-----------------"
   ]
  },
  {
   "cell_type": "code",
   "execution_count": 41,
   "metadata": {
    "slideshow": {
     "slide_type": "slide"
    }
   },
   "outputs": [
    {
     "data": {
      "text/plain": [
       "<matplotlib.colorbar.Colorbar at 0x7f9cff7d54c0>"
      ]
     },
     "execution_count": 41,
     "metadata": {},
     "output_type": "execute_result"
    },
    {
     "data": {
      "image/png": "[encoded data removed]",
      "text/plain": [
       "<Figure size 432x288 with 2 Axes>"
      ]
     },
     "metadata": {
      "needs_background": "light"
     },
     "output_type": "display_data"
    }
   ],
   "source": [
    "import pylab as plt\n",
    "image = np.random.rand(50, 50)\n",
    "plt.imshow(image, cmap=plt.cm.hot)    \n",
    "plt.colorbar()   "
   ]
  },
  {
   "cell_type": "code",
   "execution_count": 42,
   "metadata": {
    "slideshow": {
     "slide_type": "fragment"
    }
   },
   "outputs": [],
   "source": [
    "def smooth(image):\n",
    "    new = np.zeros(image.shape)\n",
    "    Z = image \n",
    "    new[1:-1,1:-1] = (Z[0:-2,0:-2] + Z[0:-2,1:-1] + Z[0:-2,2:] +\n",
    "                      Z[1:-1,0:-2] + Z[1:-1,1:-1] + Z[1:-1,2:] +\n",
    "                      Z[2:  ,0:-2] + Z[2:  ,1:-1] + Z[2:  ,2:])/9.\n",
    "    return new"
   ]
  },
  {
   "cell_type": "code",
   "execution_count": 43,
   "metadata": {
    "slideshow": {
     "slide_type": "skip"
    }
   },
   "outputs": [
    {
     "data": {
      "text/plain": [
       "<matplotlib.colorbar.Colorbar at 0x7f9cff712190>"
      ]
     },
     "execution_count": 43,
     "metadata": {},
     "output_type": "execute_result"
    },
    {
     "data": {
      "image/png": "[encoded data removed]",
      "text/plain": [
       "<Figure size 432x288 with 2 Axes>"
      ]
     },
     "metadata": {
      "needs_background": "light"
     },
     "output_type": "display_data"
    }
   ],
   "source": [
    "new = smooth(image)\n",
    "\n",
    "plt.imshow(new, cmap=plt.cm.hot)    \n",
    "plt.colorbar()   "
   ]
  },
  {
   "cell_type": "code",
   "execution_count": 44,
   "metadata": {
    "slideshow": {
     "slide_type": "skip"
    }
   },
   "outputs": [],
   "source": [
    "filtre = np.ones((3,3))/9"
   ]
  },
  {
   "cell_type": "code",
   "execution_count": 45,
   "metadata": {
    "slideshow": {
     "slide_type": "skip"
    }
   },
   "outputs": [
    {
     "data": {
      "text/plain": [
       "(array([[0.11111111, 0.11111111, 0.11111111],\n",
       "        [0.11111111, 0.11111111, 0.11111111],\n",
       "        [0.11111111, 0.11111111, 0.11111111]]),\n",
       " array([[0.72980895, 0.62462361, 0.30436814],\n",
       "        [0.65916427, 0.6322702 , 0.56866938],\n",
       "        [0.10451554, 0.1783873 , 0.29150162]]))"
      ]
     },
     "execution_count": 45,
     "metadata": {},
     "output_type": "execute_result"
    }
   ],
   "source": [
    "filtre, image[0:3,0:3]"
   ]
  },
  {
   "cell_type": "code",
   "execution_count": 46,
   "metadata": {
    "slideshow": {
     "slide_type": "skip"
    }
   },
   "outputs": [
    {
     "data": {
      "text/plain": [
       "array([[0.08108988, 0.06940262, 0.03381868],\n",
       "       [0.07324047, 0.07025224, 0.06318549],\n",
       "       [0.01161284, 0.01982081, 0.03238907]])"
      ]
     },
     "execution_count": 46,
     "metadata": {},
     "output_type": "execute_result"
    }
   ],
   "source": [
    "filtre*image[0:3,0:3]"
   ]
  },
  {
   "cell_type": "code",
   "execution_count": 47,
   "metadata": {
    "slideshow": {
     "slide_type": "skip"
    }
   },
   "outputs": [],
   "source": [
    "weights = filtre"
   ]
  },
  {
   "cell_type": "code",
   "execution_count": 48,
   "metadata": {
    "slideshow": {
     "slide_type": "slide"
    }
   },
   "outputs": [
    {
     "data": {
      "text/plain": [
       "array([[0.11111111, 0.11111111, 0.11111111],\n",
       "       [0.11111111, 0.11111111, 0.11111111],\n",
       "       [0.11111111, 0.11111111, 0.11111111]])"
      ]
     },
     "execution_count": 48,
     "metadata": {},
     "output_type": "execute_result"
    }
   ],
   "source": [
    "weights"
   ]
  },
  {
   "cell_type": "code",
   "execution_count": 49,
   "metadata": {
    "slideshow": {
     "slide_type": "slide"
    }
   },
   "outputs": [
    {
     "name": "stdout",
     "output_type": "stream",
     "text": [
      "<class 'numpy.ndarray'>\n",
      "(512, 512) int64\n"
     ]
    },
    {
     "data": {
      "image/png": "[encoded data removed]",
      "text/plain": [
       "<Figure size 432x288 with 1 Axes>"
      ]
     },
     "metadata": {
      "needs_background": "light"
     },
     "output_type": "display_data"
    }
   ],
   "source": [
    "from scipy import misc\n",
    "example = misc.ascent()\n",
    "plt.imshow(example,cmap=plt.cm.gray)\n",
    "print(type(example))\n",
    "print(example.shape, example.dtype)"
   ]
  },
  {
   "cell_type": "code",
   "execution_count": 50,
   "metadata": {
    "slideshow": {
     "slide_type": "slide"
    }
   },
   "outputs": [
    {
     "data": {
      "text/plain": [
       "<matplotlib.image.AxesImage at 0x7f9cfd761f40>"
      ]
     },
     "execution_count": 50,
     "metadata": {},
     "output_type": "execute_result"
    },
    {
     "data": {
      "image/png": "[encoded data removed]",
      "text/plain": [
       "<Figure size 432x288 with 1 Axes>"
      ]
     },
     "metadata": {
      "needs_background": "light"
     },
     "output_type": "display_data"
    }
   ],
   "source": [
    "new = example\n",
    "for i in range(100):\n",
    "    new = smooth(new)\n",
    "plt.imshow(new,cmap=plt.cm.gray)"
   ]
  },
  {
   "cell_type": "markdown",
   "metadata": {
    "collapsed": true,
    "slideshow": {
     "slide_type": "slide"
    }
   },
   "source": [
    "Plusieurs librairies python (ou avec interface python) pour l'image\n",
    "- `PIL` python imaging library : manipulation de base des formats\n",
    "- [`OpenCV`](http://opencv.org) : traitements avancés / vision par ordinateur (originellement en C++) / reconnaissance des formes \n",
    "- `scikit.image`\n",
    "\n",
    "## Graphes\n",
    "Plusieurs librairies disponibles \n",
    "- `networkx` (pur python)\n",
    "- `igraph` (C avec API python)\n",
    "- matrices creuses en `numpy`"
   ]
  },
  {
   "cell_type": "code",
   "execution_count": 51,
   "metadata": {
    "slideshow": {
     "slide_type": "skip"
    }
   },
   "outputs": [
    {
     "data": {
      "image/png": "[encoded data removed]",
      "text/plain": [
       "<Figure size 432x288 with 1 Axes>"
      ]
     },
     "metadata": {},
     "output_type": "display_data"
    }
   ],
   "source": [
    "#Exemple\n",
    "\n",
    "import networkx as nx\n",
    "\n",
    "# graph aléatoire\n",
    "G = nx.random_geometric_graph(150, 0.12) \n",
    "pos = nx.get_node_attributes(G, 'pos')\n",
    "#  positions des noeuds, \n",
    "# -> trouver le noeud le plus près du centre à (0.5,0.5)\n",
    "dists = [(x - 0.5)**2 + (y - 0.5)**2 for x, y in pos.values()]\n",
    "ncenter = np.argmin(dists)\n",
    "# calculer la longueur des chemins depuis le centre\n",
    "p = nx.single_source_shortest_path_length(G, ncenter)\n",
    "\n",
    "# faire la figure: couleur reliée à la longueur des chemins\n",
    "pylab.figure()\n",
    "nx.draw_networkx_edges(G, pos, alpha=0.4)\n",
    "nx.draw_networkx_nodes(G, pos, nodelist=list(p.keys()),\n",
    "                    node_size=120, alpha=0.8,\n",
    "                    node_color=list(p.values()), cmap=pylab.cm.hot)\n",
    "pylab.show()"
   ]
  },
  {
   "cell_type": "code",
   "execution_count": 52,
   "metadata": {
    "slideshow": {
     "slide_type": "skip"
    }
   },
   "outputs": [],
   "source": [
    "# exemple igraph \n",
    "# exemple numpy "
   ]
  },
  {
   "cell_type": "markdown",
   "metadata": {
    "slideshow": {
     "slide_type": "slide"
    }
   },
   "source": [
    "## Apprentissage automatique / reconnaissance des formes\n",
    "A partir d'exemples, construire un modèle qui prend des décisions sur des données nouvelles\n",
    "- classification : déterminer la catégorie d'un événement; exemple détection de spam\n",
    "- régression : prédire des valeurs d'une fonction à partir d'exemple; exemple: \n",
    "- apprendre des politiques d'action pour un robot \n",
    "\n",
    "[`scikit-learn`](http://scikit-learn.org) (surcouche de numpy)  \n",
    "`pytorch`, `tensorflow`, `keras`, etc: réseaux de neurones en folie  \n",
    "`OpenCV` a aussi des outils reliés, spécialisés pour le traitement d'image"
   ]
  },
  {
   "cell_type": "markdown",
   "metadata": {
    "slideshow": {
     "slide_type": "slide"
    }
   },
   "source": [
    "## Robotique \n",
    "[ROS](http://wiki.ros.org/) : robot operating system, utilisé dans les TP de robotique. \n",
    "  - gestion du hardware \n",
    "  - visualisation \n",
    "  - communication entre modules avec une API python"
   ]
  }
 ],
 "metadata": {
  "celltoolbar": "Slideshow",
  "kernelspec": {
   "display_name": "Python 3",
   "language": "python",
   "name": "python3"
  },
  "language_info": {
   "codemirror_mode": {
    "name": "ipython",
    "version": 3
   },
   "file_extension": ".py",
   "mimetype": "text/x-python",
   "name": "python",
   "nbconvert_exporter": "python",
   "pygments_lexer": "ipython3",
   "version": "3.8.10"
  }
 },
 "nbformat": 4,
 "nbformat_minor": 1
}
