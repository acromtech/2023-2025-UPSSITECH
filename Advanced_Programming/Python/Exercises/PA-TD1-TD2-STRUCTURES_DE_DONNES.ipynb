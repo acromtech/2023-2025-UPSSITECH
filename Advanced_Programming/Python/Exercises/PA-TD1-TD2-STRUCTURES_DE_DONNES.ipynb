{
 "cells": [
  {
   "cell_type": "markdown",
   "metadata": {},
   "source": [
    "\n",
    "## Exercices de base\n",
    "\n",
    "Ecrire des fonctions faisant les opérations suivantes (sauf mention contraire la fonction renvoie un nouvel objet):\n",
    "\n",
    "   1. prendre une liste et créer une liste sans doublons avec un algo en O(n) max, dans un premier temps on supposera la première liste triée, puis on considèrera le cas général (max O(nlog(n))\n",
    "   [1,2,3,3,4,4] -> [1,2,3,4]\n",
    "   2. prendre une liste de listes d'entiers, retourner la liste \"plate\" des éléments, ex [[1,2],[3,4]] -> [1,2,3,4]\n",
    "   3. extraire d'une liste d'entiers les valeurs consécutives qui se suivent, \n",
    "    par exemple [3,8,9,10,9,15,16] -> [(8,9),(9,10),(15,16)]\n",
    "   4.    Comptez (dans un dictionnaire) le nombre d'occurrence d'éléments contenus dans une liste. Par exemple [\"a\",\"b\",\"a\",\"c\",\"c\"] -> {\"b\":1, \"a\":2, \"c\":2}\n",
    "   5. Faire une table qui enregistre les combinaisons de deux dés à six faces, avec comme clefs la valeur de la somme des deux dés et comme valeurs les combinaisons de deux dés.\n",
    "   6. Faire le crible d'Eratosthène, enregistré dans un dictionnaire : on commence avec comme clefs tous les entiers de 1 à n (fixé), et finalement on ne garde que les clefs qui sont des nombres premiers.\n",
    "   7. Faire l'inversion (clefs/valeurs) d'une table\n",
    "   8. Faire une fonction qui teste si deux mots ont les mêmes lettres; en faire une autre qui teste si ce sont des anagrammes (c'est-à-dire qu'ils ont les mêmes lettres le même nombre de fois).\n",
    "   Tester si une chaine est un \"pangramme\" c'est-à-dire que la chaine contient toutes les lettres de l'alphabet.\n",
    "   9. Cryptage / décryptage "
   ]
  },
  {
   "cell_type": "code",
   "execution_count": 2,
   "metadata": {},
   "outputs": [
    {
     "data": {
      "text/plain": [
       "[1, 2, 3, 4]"
      ]
     },
     "execution_count": 2,
     "metadata": {},
     "output_type": "execute_result"
    }
   ],
   "source": [
    "#1\n",
    "my_l = [1,2,3,3,4,4]\n",
    "\n",
    "def no_doublons(l):\n",
    "    if l == []: \n",
    "        return []\n",
    "    res = [l[0]]\n",
    "    for i in range(1,len(l)):\n",
    "        if l[i]!=l[i-1]:\n",
    "            res.append(l[i])\n",
    "    return res\n",
    "\n",
    "no_doublons(my_l)"
   ]
  },
  {
   "cell_type": "code",
   "execution_count": 4,
   "metadata": {},
   "outputs": [
    {
     "data": {
      "text/plain": [
       "[1, 2, 3, 4]"
      ]
     },
     "execution_count": 4,
     "metadata": {},
     "output_type": "execute_result"
    }
   ],
   "source": [
    "# 1: alternative \n",
    "res = []\n",
    "for x in my_l:\n",
    "    if len(res)==0 or res[-1]!=x:\n",
    "        res.append(x)\n",
    "res"
   ]
  },
  {
   "cell_type": "code",
   "execution_count": 1,
   "metadata": {},
   "outputs": [
    {
     "data": {
      "text/plain": [
       "{1: 200000, 2: 300000, 4: 100000, 5: 100000, 3: 100000}"
      ]
     },
     "execution_count": 1,
     "metadata": {},
     "output_type": "execute_result"
    }
   ],
   "source": [
    "#4\n",
    "def comptage(l):\n",
    "    res = {}\n",
    "    for x in l: \n",
    "        if x in res:\n",
    "            res[x] = res[x] + 1\n",
    "        else: \n",
    "            res[x] = 1\n",
    "    return res\n",
    "    \n",
    "comptage([1,2,4,5,2,1,3,2]*100000)"
   ]
  },
  {
   "cell_type": "code",
   "execution_count": 3,
   "metadata": {},
   "outputs": [
    {
     "data": {
      "text/plain": [
       "[(8, 9), (9, 10), (15, 16)]"
      ]
     },
     "execution_count": 3,
     "metadata": {},
     "output_type": "execute_result"
    }
   ],
   "source": [
    "#3 \n",
    "def successif(l_int):\n",
    "    res = []\n",
    "    for i in range(len(l_int)-1):\n",
    "        if l_int[i] + 1 == l_int[i+1]:\n",
    "            res.append((l_int[i],l_int[i+1]))\n",
    "    return res\n",
    "\n",
    "successif([3,8,9,10,9,15,16])"
   ]
  },
  {
   "cell_type": "code",
   "execution_count": 8,
   "metadata": {},
   "outputs": [
    {
     "name": "stdout",
     "output_type": "stream",
     "text": [
      "0.16666666666666666\n"
     ]
    },
    {
     "data": {
      "text/plain": [
       "{2: [(1, 1)],\n",
       " 3: [(1, 2), (2, 1)],\n",
       " 4: [(1, 3), (2, 2), (3, 1)],\n",
       " 5: [(1, 4), (2, 3), (3, 2), (4, 1)],\n",
       " 6: [(1, 5), (2, 4), (3, 3), (4, 2), (5, 1)],\n",
       " 7: [(1, 6), (2, 5), (3, 4), (4, 3), (5, 2), (6, 1)],\n",
       " 8: [(2, 6), (3, 5), (4, 4), (5, 3), (6, 2)],\n",
       " 9: [(3, 6), (4, 5), (5, 4), (6, 3)],\n",
       " 10: [(4, 6), (5, 5), (6, 4)],\n",
       " 11: [(5, 6), (6, 5)],\n",
       " 12: [(6, 6)]}"
      ]
     },
     "execution_count": 8,
     "metadata": {},
     "output_type": "execute_result"
    }
   ],
   "source": [
    "#5\n",
    "def combinaison2(n):\n",
    "    res = {}\n",
    "    for d1 in range(1,n+1):\n",
    "        for d2 in range(1,n+1):\n",
    "            if d1+d2 in res: \n",
    "                res[d1+d2].append((d1,d2))\n",
    "            else:\n",
    "                res[d1+d2] = [(d1,d2)]\n",
    "    return res\n",
    "\n",
    "res2_6 = combinaison2(6)\n",
    "\n",
    "# prob de 7 ? \n",
    "print(len(res2_6[7])/36)\n",
    "res2_6"
   ]
  },
  {
   "cell_type": "code",
   "execution_count": 20,
   "metadata": {},
   "outputs": [
    {
     "name": "stdout",
     "output_type": "stream",
     "text": [
      "[2, 3, 5, 7, 11, 13, 17, 19, 23, 29, 31, 37, 41, 43, 47, 53, 59, 61, 67, 71, 73, 79, 83, 89, 97, 101, 103, 107, 109, 113, 127, 131, 137, 139, 149, 151, 157, 163, 167, 173, 179, 181, 191, 193, 197, 199, 211, 223, 227, 229, 233, 239, 241, 251, 257, 263, 269, 271, 277, 281, 283, 293, 307, 311, 313, 317, 331, 337, 347, 349, 353, 359, 367, 373, 379, 383, 389, 397, 401, 409, 419, 421, 431, 433, 439, 443, 449, 457, 461, 463, 467, 479, 487, 491, 499, 503, 509, 521, 523, 541, 547, 557, 563, 569, 571, 577, 587, 593, 599, 601, 607, 613, 617, 619, 631, 641, 643, 647, 653, 659, 661, 673, 677, 683, 691, 701, 709, 719, 727, 733, 739, 743, 751, 757, 761, 769, 773, 787, 797, 809, 811, 821, 823, 827, 829, 839, 853, 857, 859, 863, 877, 881, 883, 887, 907, 911, 919, 929, 937, 941, 947, 953, 967, 971, 977, 983, 991, 997]\n"
     ]
    }
   ],
   "source": [
    "# 6 \n",
    "def crible(n):\n",
    "    res = {}\n",
    "    for i in range(2,n+1):\n",
    "        res[i] = True\n",
    "    for i in range(2,n+1):\n",
    "        if res[i]:\n",
    "            for k in range(2,(n//i)+1):\n",
    "                res[k*i] = False\n",
    "    final = []\n",
    "    for i in range(2,n+1):\n",
    "        if res[i]:\n",
    "            final.append(i)\n",
    "    return final\n",
    "\n",
    "print(crible(1000))"
   ]
  },
  {
   "cell_type": "code",
   "execution_count": 22,
   "metadata": {},
   "outputs": [
    {
     "data": {
      "text/plain": [
       "{'a': [1, 2], 'b': [3], 'c': [4]}"
      ]
     },
     "execution_count": 22,
     "metadata": {},
     "output_type": "execute_result"
    }
   ],
   "source": [
    "# 7 \n",
    "def inversion(table):\n",
    "    res = {}\n",
    "    for cle in table:\n",
    "        val = table[cle]\n",
    "        if val in res:\n",
    "            res[val].append(cle)\n",
    "        else: \n",
    "            res[val] = [cle]\n",
    "    return res\n",
    "\n",
    "inversion({1:\"a\",2:\"a\",3:\"b\",4:\"c\"})"
   ]
  },
  {
   "cell_type": "code",
   "execution_count": 25,
   "metadata": {},
   "outputs": [
    {
     "data": {
      "text/plain": [
       "True"
      ]
     },
     "execution_count": 25,
     "metadata": {},
     "output_type": "execute_result"
    }
   ],
   "source": [
    "def meme_lettre(s1,s2):\n",
    "    return set(s1)==set(s2)\n",
    "\n",
    "meme_lettre(\"chienne\",\"niche\")"
   ]
  },
  {
   "cell_type": "code",
   "execution_count": 31,
   "metadata": {},
   "outputs": [
    {
     "data": {
      "text/plain": [
       "True"
      ]
     },
     "execution_count": 31,
     "metadata": {},
     "output_type": "execute_result"
    }
   ],
   "source": [
    "def anagramme(s1,s2):\n",
    "    let1 = sorted(list(s1))\n",
    "    let2 = sorted(list(s2))\n",
    "    return let1 == let2\n",
    "\n",
    "anagramme(\"chien\",\"niche\")"
   ]
  },
  {
   "cell_type": "markdown",
   "metadata": {},
   "source": [
    "def pangramme(s):\n"
   ]
  },
  {
   "cell_type": "code",
   "execution_count": null,
   "metadata": {},
   "outputs": [],
   "source": []
  },
  {
   "cell_type": "code",
   "execution_count": 34,
   "metadata": {},
   "outputs": [
    {
     "data": {
      "text/plain": [
       "True"
      ]
     },
     "execution_count": 34,
     "metadata": {},
     "output_type": "execute_result"
    }
   ],
   "source": [
    "s = \"the quick brown lazy fox jumps over the lazy dog !\"\n",
    "alphabet = set(\"abcdefghijklmnopqrstuvwxyz\")\n",
    "\n",
    "set(s) & alphabet == alphabet"
   ]
  },
  {
   "cell_type": "code",
   "execution_count": null,
   "metadata": {},
   "outputs": [],
   "source": []
  },
  {
   "cell_type": "code",
   "execution_count": 33,
   "metadata": {},
   "outputs": [
    {
     "data": {
      "text/plain": [
       "True"
      ]
     },
     "execution_count": 33,
     "metadata": {},
     "output_type": "execute_result"
    }
   ],
   "source": [
    "alphabet <= set(s)"
   ]
  },
  {
   "cell_type": "markdown",
   "metadata": {
    "collapsed": true
   },
   "source": [
    "## Problèmes:\n",
    "\n",
    "  - définir un ensemble de fonctions pour manipuler des représentations de polynômes\n",
    "  - définir un ensemble de fonctions manipulant des représentations de vecteurs \"creux\" de dimensions quelconque. Un vecteur creux est un vecteur dont beaucoup de coordonnées sont nulles, et pour lesquels on veut optimiser la place mémoire nécessaire. Ici on le fera avec des dictionnaires.  \n",
    "  On veut les opérations classiques (somme, produit scalaire, différence, produit par un scalaire, norme) et des fonctions de création/modification. "
   ]
  },
  {
   "cell_type": "code",
   "execution_count": 40,
   "metadata": {},
   "outputs": [],
   "source": [
    "import math\n",
    "\n",
    "l = [1,0,3,-5.4,0,0,0,0,0,2]\n",
    "\n",
    "def init_creux(liste):\n",
    "    v = {}\n",
    "    for i in range(len(liste)):\n",
    "        if liste[i]!=0:\n",
    "            v[i] = liste[i]\n",
    "    return v\n",
    "\n",
    "def prod_vect(v1,v2):\n",
    "    res=0.0\n",
    "    for i in v1:\n",
    "        if i not in v2:\n",
    "            res[i]=v2[i]\n",
    "    return res\n",
    "\n",
    "def somme(v1,v2):\n",
    "    res = {}\n",
    "    for k in (set(v1.keys()) | set(v2.keys())):\n",
    "        som = v1.get(k,0)+v2.get(k,0)\n",
    "        if som!=0:\n",
    "            res[k] = som\n",
    "    return res\n",
    "    \n",
    "def prod_scalaire(v1,v2):\n",
    "    res = 0.\n",
    "    for k in (set(v1.keys()) & set(v2.keys())):\n",
    "        res = res + v1[k]*v2[k]\n",
    "    return res\n",
    "    \n",
    "def scalaire(k,v):\n",
    "    res = {}\n",
    "    if k!=0:\n",
    "        for i in v: \n",
    "            res[i] = k*v[i]\n",
    "    return res\n",
    "    \n",
    "def norme(v):\n",
    "    return sqrt(prod_scalaire(v,v))\n",
    "\n",
    "def soustraction(v1,v2):\n",
    "    return somme(v1,scalaire(-1,v2))\n"
   ]
  },
  {
   "cell_type": "code",
   "execution_count": 42,
   "metadata": {},
   "outputs": [
    {
     "data": {
      "text/plain": [
       "12.0"
      ]
     },
     "execution_count": 42,
     "metadata": {},
     "output_type": "execute_result"
    }
   ],
   "source": [
    "v1 = {2:3,1:2}\n",
    "v2 = {2:4,4:1}\n",
    "\n",
    "prod_scalaire(v1,v2)\n",
    "\n",
    "#d.get(1,0), d.get(2)"
   ]
  },
  {
   "cell_type": "code",
   "execution_count": null,
   "metadata": {},
   "outputs": [],
   "source": []
  }
 ],
 "metadata": {
  "kernelspec": {
   "display_name": "Python 3",
   "language": "python",
   "name": "python3"
  },
  "language_info": {
   "codemirror_mode": {
    "name": "ipython",
    "version": 3
   },
   "file_extension": ".py",
   "mimetype": "text/x-python",
   "name": "python",
   "nbconvert_exporter": "python",
   "pygments_lexer": "ipython3",
   "version": "3.8.10"
  }
 },
 "nbformat": 4,
 "nbformat_minor": 1
}
