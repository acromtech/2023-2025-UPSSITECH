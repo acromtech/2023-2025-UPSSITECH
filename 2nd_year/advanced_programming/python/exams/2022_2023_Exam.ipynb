{
 "cells": [
  {
   "cell_type": "markdown",
   "metadata": {},
   "source": [
    "# Examen Programmation avancée 2022_2023 SRI2A\n",
    "\n",
    "Durée 1h30, Documents et machines autorisées, barême indicatif\n",
    "\n",
    "## Exercice 1\n",
    "On a pour objectif de faire un dictionnaire de scrabble, à partir d’une liste de mots.  \n",
    "Un dictionnaire de scrabble permet de trouver les mots faisables à partir d’un ensemble de lettres donné.  \n",
    "\n",
    "On va donc essayer de rentrer l’information sous forme d’un dictionnaire python, où les clefs seront des chaines avec les lettres, classées alphabétiquement. par exemple “aacdef” est une clef, à laquelle est associée le seul mot “facade”. A la clef “cehin” sont associés les mots “chien”, “chine” et “niche”.  \n",
    "\n",
    "Vous pourrez utiliser les fonctions suivantes sur les chaines:\n",
    "\n",
    "* **`len(s)` donne la longueur d’une chaine.**\n",
    "    * ex : `len(“chien”) -> 5`\n",
    "* **`sorted(s)` renvoie une liste triée avec les lettres de la chaine s.**\n",
    "    * ex : `sorted(“chien”) -> [“c”,“e”,“h”,“i”,“n”]`\n",
    "* **`c.join(liste)` renvoie une chaine constitué des éléments de liste séparés par le caractère c.**\n",
    "    * ex : `“-”.join([“a”,“b”,“c”]) -> “a-b-c”`\n",
    "\n",
    "**Questions**  \n",
    "*il n’est pas forcément besoin d’avoir écrit une fonction pour s’en servir ensuite*\n",
    "\n",
    "1. **Ecrivez une fonction `mot2clef` qui associe une clef triée à une chaine**\n",
    "* **Input** : `mot2clef(“chien”)`\n",
    "* **Output** :`“cehin”`"
   ]
  },
  {
   "cell_type": "code",
   "execution_count": 2,
   "metadata": {},
   "outputs": [
    {
     "name": "stdout",
     "output_type": "stream",
     "text": [
      "aacdef\n",
      "cehin\n"
     ]
    }
   ],
   "source": [
    "def mot2clef(mot):\n",
    "    return \"\".join(sorted(mot))\n",
    "\n",
    "# Exemple d'utilisation\n",
    "print(mot2clef(\"facade\"))\n",
    "print(mot2clef(\"chien\"))"
   ]
  },
  {
   "cell_type": "markdown",
   "metadata": {},
   "source": [
    "2. **Ecrivez une fonction `faire_dico` qui prend une liste de mots en entrée et renvoie un dictionnaire de clef: pour chaque clef le résultat stocke la liste des mots qui correspondent à la clef.**\n",
    "* **Input** : `input = [\"chien\",\"chine\",\"banane\",\"niche\",\"tri\",\"rit\"]`  \n",
    "* **Output** : `{\"cehin\":[\"chien\",\"niche\",\"chine\"], \"aabenn\":[\"banane\"], \"irt\":[\"tri\",\"rit\"]}`"
   ]
  },
  {
   "cell_type": "code",
   "execution_count": 3,
   "metadata": {},
   "outputs": [
    {
     "name": "stdout",
     "output_type": "stream",
     "text": [
      "{'cehin': ['chien', 'chine', 'niche'], 'aabenn': ['banane'], 'irt': ['tri', 'rit']}\n"
     ]
    }
   ],
   "source": [
    "def faire_dict(liste_mot):\n",
    "    d = {}                          # Crée un dictionnaire vide\n",
    "    for mot in liste_mot:           # Parcourt chaque mot dans la liste d'entrée\n",
    "        clef = mot2clef(mot)        # Appelle la fonction mot2clef pour obtenir une clé à partir du mot\n",
    "        if clef in d:               # Si la clé est déjà présente dans le dictionnaire\n",
    "            d[clef].append(mot)     # Ajoute le mot à la liste associée à cette clé\n",
    "        else:                       # Si la clé n'existe pas encore dans le dictionnaire\n",
    "            d[clef] = [mot]         # Crée une nouvelle clé avec le mot en tant que première entrée d'une liste\n",
    "\n",
    "    return d                        # Retourne le dictionnaire résultant\n",
    "\n",
    "# Exemple d'utilisation\n",
    "input = [\"chien\", \"chine\", \"banane\", \"niche\", \"tri\", \"rit\"]\n",
    "print(faire_dict(input))            # Appelle la fonction avec la liste d'entrée et affiche le dictionnaire résultant"
   ]
  },
  {
   "cell_type": "markdown",
   "metadata": {},
   "source": [
    "3. **Faire une fonction `par_taille` qui prend en entrée un dictionnaire similaire à ceux renvoyés par `faire_dico`, et renvoie un dictionnaire de dictionnaires indexés par la longueur de leurs clefs.**\n",
    "\n",
    "Sur la sortie de l’exemple précédent on aurait donc comme résultat (attention à faire quelque chose de bien\n",
    "général si on avait par exemple tous les mots du dictionnaire en entrée) :\n",
    "\n",
    "`{5: {‘cehin’: [‘chien’, ‘chine’, ‘niche’]}, 6: {‘aabenn’: [‘banane’]}, 3: {‘irt’: [‘tri’, ‘rit’]}}`"
   ]
  },
  {
   "cell_type": "code",
   "execution_count": 4,
   "metadata": {},
   "outputs": [
    {
     "name": "stdout",
     "output_type": "stream",
     "text": [
      "{5: {'cehin': ['chien', 'chine', 'niche']}, 6: {'aabenn': ['banane']}, 3: {'irt': ['tri', 'rit']}}\n"
     ]
    }
   ],
   "source": [
    "def par_taille(d):\n",
    "    r = {}                                  # Crée un dictionnaire vide pour le résultat\n",
    "    for clef, mots in d.items():            # Parcourt chaque clé et liste de mots dans le dictionnaire d'entrée\n",
    "        longueur_clef = len(clef)           # Calcule la longueur de la clé\n",
    "        if longueur_clef in r:              # Si la longueur de clé existe déjà dans le dictionnaire résultant\n",
    "            r[longueur_clef][clef] = mots   # Ajoute la clé et ses mots au dictionnaire existant\n",
    "        else:                               # Si la longueur de clé n'existe pas encore dans le dictionnaire résultant\n",
    "            r[longueur_clef] = {clef: mots} # Crée un nouveau dictionnaire avec la clé et ses mots\n",
    "\n",
    "    return r                                # Retourne le dictionnaire résultant\n",
    "\n",
    "# Exemple d'utilisation\n",
    "d = {\"cehin\": [\"chien\", \"chine\", \"niche\"], \"aabenn\": [\"banane\"], \"irt\": [\"tri\", \"rit\"]}\n",
    "print(par_taille(d))                        # Appelle la fonction avec le dictionnaire d'entrée et affiche le dictionnaire résultant"
   ]
  },
  {
   "cell_type": "markdown",
   "metadata": {},
   "source": [
    "## Exercice 2 : objets\n",
    "On va définir une classe MultiSet qui représente un type d’ensemble où un élément peut être présent\n",
    "plusieurs fois.  \n",
    "> ex : {( A, 2), ( B, 4), (C, 5)}  \n",
    "(un multiset qui contient A 2 fois, B 4 fois, C 5 fois).\n",
    "\n",
    "Vous pouvez choisir comment vous voulez stocker les informations dans la classe (attributs).  \n",
    "\n",
    "**Ecrivez les méthodes suivantes**\n",
    "* `__init__` pour créer un multiset vide\n",
    "* `addElem` pour ajouter un élément, avec le nombre de fois où il est présent\n",
    "* `add`, qui fait l’ajout de 2 multisets: chaque élément est présent la somme de fois qu’il est présent dans\n",
    "les 2\n",
    "* `intersection`: qui prend les éléments de 2 multisets, comptés avec le minimum des comptes dans les 2\n",
    "multisets\n",
    "* `union`: similaire à intersection, avec le max comme comptage."
   ]
  },
  {
   "cell_type": "code",
   "execution_count": 20,
   "metadata": {},
   "outputs": [
    {
     "name": "stdout",
     "output_type": "stream",
     "text": [
      "MultiSet 1: {'A': 2, 'B': 4, 'C': 5}\n",
      "MultiSet 2: {'A': 3, 'B': 2, 'D': 1}\n",
      "Addition: {'A': 5, 'B': 6, 'C': 5, 'D': 1}\n",
      "Intersection: {'A': 2, 'B': 2}\n",
      "Union: {'A': 3, 'B': 4, 'C': 5, 'D': 1}\n"
     ]
    }
   ],
   "source": [
    "class MultiSet:\n",
    "    def __init__(self):\n",
    "        # Crée un multiset vide sous forme d'un dictionnaire où les clés sont les éléments et les valeurs sont les nombres de fois qu'ils sont présents.\n",
    "        self.elements = {}\n",
    "\n",
    "    def addElem(self, element, count):\n",
    "        # Ajoute un élément avec le nombre de fois spécifié au multiset.\n",
    "        if element in self.elements:\n",
    "            self.elements[element] += count\n",
    "        else:\n",
    "            self.elements[element] = count\n",
    "\n",
    "    def add(self, other):\n",
    "        # Fait l'ajout de deux multisets, chaque élément est présent la somme de fois qu'il est présent dans les deux.\n",
    "        result = MultiSet()\n",
    "        for element, count in self.elements.items():\n",
    "            result.addElem(element, count)\n",
    "        for element, count in other.elements.items():\n",
    "            result.addElem(element, count)\n",
    "        return result\n",
    "\n",
    "    def intersection(self, other):\n",
    "        # Prend les éléments de deux multisets, comptés avec le minimum des comptes dans les deux multisets.\n",
    "        result = MultiSet()\n",
    "        for element in self.elements:\n",
    "            if element in other.elements:\n",
    "                result.addElem(element, min(self.elements[element], other.elements[element]))\n",
    "        return result\n",
    "\n",
    "    def union(self, other):\n",
    "        # Similaire à l'intersection, avec le maximum comme comptage.\n",
    "        result = MultiSet()\n",
    "        for element, count in self.elements.items():\n",
    "            result.addElem(element, count)\n",
    "        for element, count in other.elements.items():\n",
    "            if element in result.elements:\n",
    "                result.elements[element] = max(result.elements[element], count)\n",
    "            else:\n",
    "                result.addElem(element, count)\n",
    "        return result\n",
    "\n",
    "    def __str__(self):\n",
    "        # Permet d'afficher le multiset sous forme de chaîne de caractères.\n",
    "        return str(self.elements)\n",
    "\n",
    "# Exemples d'utilisation\n",
    "multiSet1 = MultiSet()\n",
    "multiSet1.addElem('A', 2)\n",
    "multiSet1.addElem('B', 4)\n",
    "multiSet1.addElem('C', 5)\n",
    "\n",
    "multiSet2 = MultiSet()\n",
    "multiSet2.addElem('A', 3)\n",
    "multiSet2.addElem('B', 2)\n",
    "multiSet2.addElem('D', 1)\n",
    "\n",
    "print(\"MultiSet 1:\", multiSet1)\n",
    "print(\"MultiSet 2:\", multiSet2)\n",
    "\n",
    "result_add = multiSet1.add(multiSet2)\n",
    "print(\"Addition:\", result_add)\n",
    "\n",
    "result_intersection = multiSet1.intersection(multiSet2)\n",
    "print(\"Intersection:\", result_intersection)\n",
    "\n",
    "result_union = multiSet1.union(multiSet2)\n",
    "print(\"Union:\", result_union)\n"
   ]
  },
  {
   "cell_type": "markdown",
   "metadata": {},
   "source": [
    "## Exercice 3: calcul vectoriel\n",
    "\n",
    "### Introduction aux méthodes numpy\n",
    "\n",
    "Indice: en plus des opérations de base numpy, il sera utile de faire appel aux méthodes suivantes :  \n",
    "* `.reshape`: méthode sur un vecteur/matrice/. . . numpy qui change les dimensions si le nombre\n",
    "d’éléments est compatible\n",
    "* `.means`(axis=. . . ) qui fait la moyenne des éléments d’une matrice selon la dimension donnée par axis.  \n",
    "Par exemple 0 pour les “lignes”, “1” pour les colonnes\n",
    "\n",
    "\n",
    "### Détail de quelques fonctions de la bibliothèque NumPy\n",
    "\n",
    "1. **`np.arange(start,stop,step,dtype=None)`** (pour \"array range\") \n",
    "   - **Crée un tableau NumPy contenant une séquence de nombres régulièrement espacés.**\n",
    "   - `start` (optionnel) : La valeur de départ de la séquence. Par défaut, `start` est égal à 0.\n",
    "   - `stop` : La valeur (exclusive) à laquelle la séquence s'arrête.\n",
    "   - `step` (optionnel) : L'incrément entre les valeurs de la séquence. Par défaut, `step` est égal à 1.\n",
    "   - `dtype` (optionnel) : Le type de données des éléments dans le tableau. Par défaut, NumPy détermine le type en fonction des valeurs fournies.\n",
    "\n",
    "   ```python\n",
    "   import numpy as np\n",
    "   arr = np.arange(1, 10, 2)  # Crée un tableau avec des nombres de 1 à 9 (exclus), avec un pas de 2.\n",
    "   ```\n",
    "\n",
    "2. **`array.reshape(shape)`** :\n",
    "   - **Change la forme d'un tableau NumPy sans modifier les données qu'il contient en prenant en compte les dimensions souhaitées pour le tableau.**\n",
    "   - `shape` : Un tuple qui spécifie les nouvelles dimensions du tableau.\n",
    "\n",
    "   ```python\n",
    "   import numpy as np\n",
    "   arr = np.arange(1, 10)  # Crée un tableau de 1D avec des nombres de 1 à 9.\n",
    "   matrice = arr.reshape((3, 3))  # Remodèle le tableau en une matrice 3x3.\n",
    "   ```\n",
    "\n",
    "   Dans le code que vous avez fourni, la fonction `carre(N)` utilise `np.arange(1, N*N + 1)` pour générer un tableau 1D contenant des nombres de 1 à `N*N`. Ensuite, la méthode `reshape(N, N)` est utilisée pour remodeler ce tableau en une matrice carrée de taille `N` x `N`. Ainsi, vous obtenez une matrice carrée de taille `N` x `N` remplie de nombres de 1 à `N*N`.\n",
    "\n",
    "3. **`numpy.mean(a, axis=None, dtype=None, out=None, keepdims=<no value>)`** :\n",
    "   - **Calcule la moyenne en additionnant tous les éléments du tableau le long de l'axe spécifié** (ou de l'ensemble du tableau si aucun axe n'est spécifié) **et en divisant cette somme par le nombre total d'éléments**. \n",
    "   - `a`: Le tableau NumPy sur lequel vous souhaitez calculer la moyenne.\n",
    "   - `axis` (optionnel) : L'axe le long duquel la moyenne doit être calculée. Par défaut, la moyenne est calculée sur l'ensemble du tableau, ce qui signifie que tous les éléments sont pris en compte pour le calcul de la moyenne. Si vous spécifiez un axe, la moyenne est calculée le long de cet axe, créant un tableau de moyennes le long de cet axe.\n",
    "   - `dtype` (optionnel) : Le type de données que vous souhaitez pour le résultat. Par défaut, le type de données est déterminé automatiquement.\n",
    "   - `out` (optionnel) : Un tableau de sortie où vous pouvez stocker le résultat. Cela peut être utile pour économiser de la mémoire si vous avez déjà un tableau alloué pour le résultat.\n",
    "   - `keepdims` (optionnel) : Si vous définissez `keepdims=True`, les dimensions de l'axe sur lequel vous avez calculé la moyenne sont conservées dans le résultat. Cela signifie que le résultat est également un tableau, mais avec des dimensions conservées. Par défaut, `keepdims` est à `<no value>` (ce qui signifie que les dimensions ne sont pas conservées).\n",
    "\n",
    "   ```python\n",
    "   import numpy as np\n",
    "   arr = np.array([1, 2, 3, 4, 5])\n",
    "   moyenne = np.mean(arr)  # Calcule la moyenne de tous les éléments du tableau\n",
    "   print(moyenne)  # Affiche la moyenne, qui est (1+2+3+4+5)/5 = 3.0\n",
    "   ```\n",
    "\n",
    "   Dans cet exemple, la méthode `.mean()` calcule la moyenne de l'ensemble des éléments du tableau `arr`, ce qui donne 3.0 comme résultat.\n",
    "   \n",
    "\n",
    "### Application\n",
    "Pour ces exercices, vous ne devez faire aucun boucle.\n",
    "L’usage d’une boucle entraine 0 à la question\n",
    "\n",
    "1. **Définir une fonction qui crée une matrice numpy carrée NxN à partir d’un N donnée, avec les entiers de 1 à NxN Par exemple carre(5) renverrait**\n",
    "\n",
    "```python\n",
    "array([[ 1, 2, 3, 4, 5],\n",
    "[ 6, 7, 8, 9, 10],\n",
    "[11, 12, 13, 14, 15],\n",
    "[16, 17, 18, 19, 20],\n",
    "[21, 22, 23, 24, 25]])\n",
    "```"
   ]
  },
  {
   "cell_type": "code",
   "execution_count": 21,
   "metadata": {},
   "outputs": [
    {
     "name": "stdout",
     "output_type": "stream",
     "text": [
      "[[ 1  2  3  4  5]\n",
      " [ 6  7  8  9 10]\n",
      " [11 12 13 14 15]\n",
      " [16 17 18 19 20]\n",
      " [21 22 23 24 25]]\n"
     ]
    }
   ],
   "source": [
    "import numpy as np                                  # Importe la bibliothèque NumPy sous le nom np\n",
    "\n",
    "def carre(N):\n",
    "    if N <= 0:                                      # Si N est inférieur ou égal à zéro\n",
    "        return None                                 # Renvoyer None\n",
    "    else:                                           # Sinon\n",
    "        return np.arange(1, N*N + 1).reshape(N, N)  # Crée un tableau NumPy en utilisant arange() et reshape()\n",
    "\n",
    "N = 5                                               # Définit la taille N de la matrice carrée\n",
    "resultat = carre(N)                                 # Appelle la fonction carre(N) pour créer la matrice carrée\n",
    "print(resultat)                                     # Affiche la matrice résultante"
   ]
  },
  {
   "cell_type": "markdown",
   "metadata": {},
   "source": [
    "2. **Ecrire une fonction qui prend une matrice et renvoie le vecteur des moyennes des 2 dernières colonnes.**  \n",
    "Par exemple pour la matrice exemple de la question 1 le résultat serait :\n",
    "```array([14., 15.])```"
   ]
  },
  {
   "cell_type": "code",
   "execution_count": 22,
   "metadata": {},
   "outputs": [
    {
     "name": "stdout",
     "output_type": "stream",
     "text": [
      "[14. 15.]\n"
     ]
    }
   ],
   "source": [
    "import numpy as np\n",
    "\n",
    "def moyennes_dernieres_colonnes(matrice):\n",
    "    if matrice.shape[1] < 2:                        # Vérifie que la matrice a au moins 2 colonnes\n",
    "        return None                                 # Impossible de calculer les moyennes\n",
    "    dernieres_colonnes = matrice[:, -2:]            # Sélectionne les 2 dernières colonnes\n",
    "    moyenne = np.mean(dernieres_colonnes, axis=0)   # Calcule la moyenne le long de l'axe des colonnes (axis=0)\n",
    "    return moyenne                                  # Retourne la moyenne calculée\n",
    "\n",
    "# Exemple d'utilisation\n",
    "matrice_exemple = carre(5)                          # On utilise la fonction carre définie dans la question précédente\n",
    "resultat = moyennes_dernieres_colonnes(matrice_exemple)\n",
    "print(resultat)\n"
   ]
  },
  {
   "cell_type": "markdown",
   "metadata": {},
   "source": [
    "3. **Ecrire une fonction qui calcule tous les termes de la suite Un ci-dessous depuis n=1 à n=K et les renvoie dans un vecteur numpy:**\n",
    "\n",
    "u_n=(1+(1/n))^n"
   ]
  },
  {
   "cell_type": "code",
   "execution_count": 23,
   "metadata": {},
   "outputs": [
    {
     "name": "stdout",
     "output_type": "stream",
     "text": [
      "[2.         2.25       2.37037037 2.44140625 2.48832    2.52162637\n",
      " 2.5464997  2.56578451 2.58117479 2.59374246]\n"
     ]
    }
   ],
   "source": [
    "import numpy as np\n",
    "\n",
    "def calcul_suite_U_n(K):\n",
    "    n = np.arange(1, K + 1)     # Vecteur de 1 à K\n",
    "    U_n = (1 + 1/n)**n\n",
    "    return U_n\n",
    "\n",
    "# Exemple d'utilisation\n",
    "K = 10                          # Paramètre modifiable\n",
    "resultat = calcul_suite_U_n(K)\n",
    "print(resultat)"
   ]
  }
 ],
 "metadata": {
  "kernelspec": {
   "display_name": "Python 3",
   "language": "python",
   "name": "python3"
  },
  "language_info": {
   "codemirror_mode": {
    "name": "ipython",
    "version": 3
   },
   "file_extension": ".py",
   "mimetype": "text/x-python",
   "name": "python",
   "nbconvert_exporter": "python",
   "pygments_lexer": "ipython3",
   "version": "3.10.12"
  }
 },
 "nbformat": 4,
 "nbformat_minor": 1
}
