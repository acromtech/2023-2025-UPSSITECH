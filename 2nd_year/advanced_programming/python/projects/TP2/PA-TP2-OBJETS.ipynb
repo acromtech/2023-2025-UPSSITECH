{
 "cells": [
  {
   "cell_type": "markdown",
   "metadata": {},
   "source": [
    "# Programmation objet : les graphes\n",
    "\n",
    "## Echauffement\n",
    "\n",
    "Pour commencer, programmez et testez une classe Stack avec un comportement de pile\n",
    "(dernier entré - premier sorti), en utilisant une liste pour stocker les éléments\n",
    "(indice: les listes ont déjà une méthode pop, et sont optimisées pour ajouter\n",
    "des éléments à la fin de la liste). "
   ]
  },
  {
   "cell_type": "code",
   "execution_count": null,
   "metadata": {},
   "outputs": [],
   "source": [
    "class Stack:\n",
    "    list=[]\n",
    "    def __init__(self):\n",
    "        self.list=[]\n",
    "\n",
    "    def empile(self,x):\n",
    "        self.list.append(x)\n",
    "\n",
    "    def depile(self):\n",
    "        self.list.pop(1)\n",
    "\n",
    "o = Stack()\n",
    "o.empile(1)\n",
    "o.empile(11)\n",
    "o.empile(10)\n",
    "print(o.list)\n",
    "o.depile()\n",
    "print(o.list)"
   ]
  },
  {
   "cell_type": "markdown",
   "metadata": {},
   "source": [
    "## Graphes\n",
    "\n",
    "Définissez maintenant une classe Graph qui implémente un graphe, dirigé ou non. \n",
    "Il devra inclure au moins les méthodes suivantes~:\n",
    "\n",
    "  - depth_first: qui itère sur les noeuds en profondeur d'abord, à partir d'un noeud donné\n",
    "  - comp_con: qui donne les composantes connexes (à vous de décider du type renvoyé) \n",
    "  - path: qui donne le plus court chemin d'un noeud à un autre (en nombre d'arcs/arête), par exemple avec l'algorithme de Dijsktra.\n",
    " \n",
    "Vous pouvez partir sur une représentation de graphes avec des listes d'adjacences pour chaque sommet. \n",
    "Vous prévoierez bien sûr les fonctions de base pour accéder aux noeuds et aux arêtes du graphes, et pour créer/modifier\n",
    "le graphe. \n",
    "Prévoyez aussi une méthode pour afficher le contenu du graphe de façon pratique, au moins pour débugger."
   ]
  },
  {
   "cell_type": "code",
   "execution_count": 13,
   "metadata": {},
   "outputs": [
    {
     "name": "stdout",
     "output_type": "stream",
     "text": [
      "{1: 2, 2: [1, 3, 4], 3: 2, 4: [2, 5], 5: 4}\n"
     ]
    }
   ],
   "source": [
    "class Graph:\n",
    "    graph={}\n",
    "    def __init__(self):\n",
    "        self.graph[1]=2\n",
    "        self.graph[2]=[1,3,4]\n",
    "        self.graph[3]=2\n",
    "        self.graph[4]=[2,5]\n",
    "        self.graph[5]=4\n",
    "    \n",
    "    def depth_first(self,node,visited=None): # recursive function\n",
    "        if visited is None:\n",
    "            visited = []\n",
    "        if node not in visited:\n",
    "            visited.append(node)\n",
    "        unvisited = [n for n in self.graph[node] if n not in visited]\n",
    "        for node in unvisited:\n",
    "            self.depth_first(node,visited)\n",
    "        return visited\n",
    "\n",
    "    # Find the node with the smallest distance that has not been visited yet\n",
    "    def min_distance(distances, visited):\n",
    "        # Initialize minimum distance for next node\n",
    "        min_val = float('inf')\n",
    "        min_index = -1\n",
    "\n",
    "        # Loop through all nodes to find minimum distance\n",
    "        for i in range(len(distances)):\n",
    "            if distances[i] < min_val and i not in visited:\n",
    "                min_val = distances[i]\n",
    "                min_index = i\n",
    "\n",
    "        return min_index\n",
    "\n",
    "    ### A CORRIGER ###\n",
    "    def path(self,start_node): # dijkstra_algorithm\n",
    "        num_nodes = self.getNbNode()                            # Get total number of nodes in the graph\n",
    "        distances = [float('inf')] * num_nodes                  # Initialize distance and visited arrays\n",
    "        visited = []\n",
    "        distances[start_node] = 0                               # Set distance at starting node to 0 and add to visited list \n",
    "        for i in range(num_nodes):                              # Loop through all nodes to find shortest path to each node\n",
    "            current_node = self.min_distance(distances, visited)# Find minimum distance node that has not been visited yet\n",
    "            visited.append(current_node)                        # Add current_node to list of visited nodes\n",
    "            for j in range(num_nodes):                          # Loop through all neighboring nodes of current_node \n",
    "                if self.getNbEdge() != 0 :                      # Check if there is an edge from current_node to neighbor\n",
    "                    new_distance = distances[current_node] + j  # Calculate the distance from start_node to neighbor, passing through current_node\n",
    "                    if new_distance < distances[j]:\n",
    "                        distances[j] = new_distance             # Update the distance if it is less than previous recorded value \n",
    "        return distances                                        # Return the list of the shortest distances to all nodes\n",
    "\n",
    "    def getNbNode(self):\n",
    "        return self.graph.items()\n",
    "\n",
    "    def getEdges(self,node):\n",
    "        return self.graph[node]\n",
    "    \n",
    "    def getNbEdge(self,node):\n",
    "        return self.graph[node].items()\n",
    "\n",
    "    def aff(self,):\n",
    "        print(self.graph)\n",
    "\n",
    "g=Graph()\n",
    "g.aff()\n"
   ]
  },
  {
   "cell_type": "markdown",
   "metadata": {},
   "source": [
    "# Graphes pondérés\n",
    "\n",
    "On veut maintenant gérer le fait que les arêtes ont un poids, représentant des distances entre les sommets. \n",
    "Modifier votre classe pour prévoir ce cas là. \n",
    "\n",
    "# Application\n",
    "\n",
    "Récupérer le fichier [stormofswords](https://www.irit.fr/~Philippe.Muller/Cours/M1_python/stormofswords.csv), qui décrit un graphe pondéré listant des relations entre personnages d'une série de romans bien connue. Plus le poids est élevé, plus deux personnages sont \"proches\" dans l'histoire. \n",
    "\n",
    "Utilisez votre classe pour trouver la ou les composantes connexes du graphe, et identifiez les personnages centraux dans chaque composante selon les deux critères suivants: \n",
    "\n",
    "  1. personnage avec le plus de liens\n",
    "  2. personnage le plus \"près\" des autres personnages en moyenne (en utilisant les plus courts chemins, avec ou sans les poids). \n"
   ]
  },
  {
   "cell_type": "code",
   "execution_count": 8,
   "metadata": {},
   "outputs": [
    {
     "name": "stdout",
     "output_type": "stream",
     "text": [
      "[1, 11, 10]\n",
      "[1, 10]\n"
     ]
    }
   ],
   "source": []
  },
  {
   "cell_type": "markdown",
   "metadata": {
    "collapsed": true
   },
   "source": [
    "### Guide pratique de l'affichage avec format\n",
    "\n",
    "Comme en C avec printf, on peut utiliser un patron de formatage, en remplaçant les\n",
    "symboles %d, %f, %s (entre autres) par des variables de type entier, float, ou chaines. \n",
    "Par défaut, %s accepte tout type qui peut s'afficher (pour lequel une méthode de représentation est définie). "
   ]
  },
  {
   "cell_type": "code",
   "execution_count": 2,
   "metadata": {},
   "outputs": [
    {
     "name": "stdout",
     "output_type": "stream",
     "text": [
      "2.5 est tout ce qu'on veut\n"
     ]
    }
   ],
   "source": [
    "a = 2.5\n",
    "print(\"%s est tout ce qu'on veut\"%a)"
   ]
  },
  {
   "cell_type": "code",
   "execution_count": 3,
   "metadata": {},
   "outputs": [
    {
     "name": "stdout",
     "output_type": "stream",
     "text": [
      "2.5 = un flottant?\n"
     ]
    }
   ],
   "source": [
    "b = \"un flottant?\"\n",
    "print(\"%s = %s\"%(a,b))"
   ]
  },
  {
   "cell_type": "code",
   "execution_count": 4,
   "metadata": {},
   "outputs": [
    {
     "name": "stdout",
     "output_type": "stream",
     "text": [
      "2 ~= 2.000100\n"
     ]
    }
   ],
   "source": [
    "print (\"%d ~= %f\"%(2,2.0001))"
   ]
  },
  {
   "cell_type": "markdown",
   "metadata": {
    "collapsed": true
   },
   "source": [
    "On peut aussi directement mettre des variables avec une chaine spéciale f\"...\""
   ]
  },
  {
   "cell_type": "code",
   "execution_count": 5,
   "metadata": {},
   "outputs": [
    {
     "name": "stdout",
     "output_type": "stream",
     "text": [
      "2.5 = un flottant? ?\n"
     ]
    }
   ],
   "source": [
    "print(f\"{a} = {b} ?\")"
   ]
  }
 ],
 "metadata": {
  "kernelspec": {
   "display_name": "Python 3",
   "language": "python",
   "name": "python3"
  },
  "language_info": {
   "codemirror_mode": {
    "name": "ipython",
    "version": 3
   },
   "file_extension": ".py",
   "mimetype": "text/x-python",
   "name": "python",
   "nbconvert_exporter": "python",
   "pygments_lexer": "ipython3",
   "version": "3.10.6"
  }
 },
 "nbformat": 4,
 "nbformat_minor": 1
}
