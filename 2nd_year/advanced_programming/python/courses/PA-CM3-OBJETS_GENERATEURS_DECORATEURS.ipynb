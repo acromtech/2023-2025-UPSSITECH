{
 "cells": [
  {
   "cell_type": "markdown",
   "metadata": {
    "slideshow": {
     "slide_type": "slide"
    }
   },
   "source": [
    "# Concepts avancés Python\n",
    "Nous allons maintenant voir quelques facilités fournies par le langage python\n",
    "- introspection des objets\n",
    "- itérateurs\n",
    "- générateurs\n",
    "- gestion des classes et objets : classes abstraites, attributs/méthodes de classes \n",
    "- décorateurs\n",
    "- héritage multiple\n",
    "\n",
    "## Introspection \n",
    "En python on peut avoir accès à certaines définitions internes des objets que l'on manipule. Par exemple : "
   ]
  },
  {
   "cell_type": "code",
   "execution_count": 1,
   "metadata": {
    "slideshow": {
     "slide_type": "fragment"
    }
   },
   "outputs": [
    {
     "name": "stdout",
     "output_type": "stream",
     "text": [
      "{'one': 1, 'two': 2}\n",
      "__main__\n",
      "une classe de test\n",
      "<class '__main__.Test'>\n",
      "Help on Test in module __main__ object:\n",
      "\n",
      "class Test(builtins.object)\n",
      " |  Test(x, y)\n",
      " |  \n",
      " |  une classe de test\n",
      " |  \n",
      " |  Methods defined here:\n",
      " |  \n",
      " |  __init__(self, x, y)\n",
      " |      Initialize self.  See help(type(self)) for accurate signature.\n",
      " |  \n",
      " |  add(self, z)\n",
      " |      on refait l'addition\n",
      " |  \n",
      " |  ----------------------------------------------------------------------\n",
      " |  Data descriptors defined here:\n",
      " |  \n",
      " |  __dict__\n",
      " |      dictionary for instance variables (if defined)\n",
      " |  \n",
      " |  __weakref__\n",
      " |      list of weak references to the object (if defined)\n",
      "\n"
     ]
    }
   ],
   "source": [
    "class Test:\n",
    "    \"\"\"une classe de test\"\"\"\n",
    "    def __init__(self,x,y):\n",
    "        self.one = x\n",
    "        self.two = y\n",
    "        \n",
    "    def add(self,z):\n",
    "        \"\"\"on refait l'addition\"\"\"\n",
    "        self.one += z\n",
    "        self.rwo +=z\n",
    "\n",
    "# n'est pas éxécuté si le script est importé par un autre script\n",
    "if __name__==\"__main__\":\n",
    "    a = Test(1,2)\n",
    "    print(a.__dict__)\n",
    "    print(a.__module__)\n",
    "    print(a.__doc__)\n",
    "    print(a.__class__)\n",
    "    help(a)"
   ]
  },
  {
   "cell_type": "code",
   "execution_count": 2,
   "metadata": {},
   "outputs": [
    {
     "name": "stdout",
     "output_type": "stream",
     "text": [
      "__main__\n"
     ]
    }
   ],
   "source": [
    "print(__name__)"
   ]
  },
  {
   "cell_type": "code",
   "execution_count": 3,
   "metadata": {},
   "outputs": [
    {
     "name": "stdout",
     "output_type": "stream",
     "text": [
      "['__class__', '__delattr__', '__dict__', '__dir__', '__doc__', '__eq__', '__format__', '__ge__', '__getattribute__', '__gt__', '__hash__', '__init__', '__le__', '__lt__', '__module__', '__ne__', '__new__', '__reduce__', '__reduce_ex__', '__repr__', '__setattr__', '__sizeof__', '__str__', '__subclasshook__', '__weakref__', 'add', 'one', 'two']\n"
     ]
    }
   ],
   "source": [
    "print(dir(a))"
   ]
  },
  {
   "cell_type": "markdown",
   "metadata": {
    "slideshow": {
     "slide_type": "slide"
    }
   },
   "source": [
    "## Itérateurs\n",
    "On a vu que l'on pouvait itérer directement sur des contenants comme des listes\n",
    "\n",
    "    for x in [1,3,5]:\n",
    "        print(x)\n",
    "\n",
    "Supposons que l'on définisse un objet qui contient lui aussi un ensemble de valeurs quelconque"
   ]
  },
  {
   "cell_type": "code",
   "execution_count": 3,
   "metadata": {
    "slideshow": {
     "slide_type": "fragment"
    }
   },
   "outputs": [
    {
     "name": "stdout",
     "output_type": "stream",
     "text": [
      "Adam\n",
      "Eve\n"
     ]
    }
   ],
   "source": [
    "class Equipe:   \n",
    "    def __init__(self,nom,membres):\n",
    "        self.nom = nom\n",
    "        self.membres = membres\n",
    "        \n",
    "team = Equipe(\"Preum\",[\"Adam\",\"Eve\"]) \n",
    "# on  peut itérer sur les membres\n",
    "for x in team.membres:\n",
    "    print(x)    "
   ]
  },
  {
   "cell_type": "markdown",
   "metadata": {
    "slideshow": {
     "slide_type": "subslide"
    }
   },
   "source": [
    "mais on voudrait directement itérer sur l'objet, qui est une collection de membres\n",
    "le seul champ sur lequel on veut pouvoir itérer"
   ]
  },
  {
   "cell_type": "code",
   "execution_count": 4,
   "metadata": {
    "slideshow": {
     "slide_type": "fragment"
    }
   },
   "outputs": [
    {
     "ename": "TypeError",
     "evalue": "'Equipe' object is not iterable",
     "output_type": "error",
     "traceback": [
      "\u001b[0;31m---------------------------------------------------------------------------\u001b[0m",
      "\u001b[0;31mTypeError\u001b[0m                                 Traceback (most recent call last)",
      "\u001b[0;32m<ipython-input-4-e81d53a88246>\u001b[0m in \u001b[0;36m<module>\u001b[0;34m\u001b[0m\n\u001b[0;32m----> 1\u001b[0;31m \u001b[0;32mfor\u001b[0m \u001b[0mx\u001b[0m \u001b[0;32min\u001b[0m \u001b[0mteam\u001b[0m\u001b[0;34m:\u001b[0m\u001b[0;34m\u001b[0m\u001b[0;34m\u001b[0m\u001b[0m\n\u001b[0m\u001b[1;32m      2\u001b[0m     \u001b[0mprint\u001b[0m\u001b[0;34m(\u001b[0m\u001b[0mx\u001b[0m\u001b[0;34m)\u001b[0m\u001b[0;34m\u001b[0m\u001b[0;34m\u001b[0m\u001b[0m\n",
      "\u001b[0;31mTypeError\u001b[0m: 'Equipe' object is not iterable"
     ]
    }
   ],
   "source": [
    "for x in team:\n",
    "    print(x)"
   ]
  },
  {
   "cell_type": "code",
   "execution_count": 5,
   "metadata": {
    "slideshow": {
     "slide_type": "subslide"
    }
   },
   "outputs": [
    {
     "name": "stdout",
     "output_type": "stream",
     "text": [
      "Adam\n",
      "Eve\n"
     ]
    }
   ],
   "source": [
    "class Equipe:\n",
    "    \n",
    "    def __init__(self,nom,membres):\n",
    "        self.nom = nom\n",
    "        self.membres = membres\n",
    "    \n",
    "    # on peut définir un itérateur sur la classe. \n",
    "    def __iter__(self):\n",
    "        return iter(self.membres)\n",
    "\n",
    "team = Equipe(\"Preum\",[\"Adam\",\"Eve\"])\n",
    "for x in team:\n",
    "    print(x)      "
   ]
  },
  {
   "cell_type": "markdown",
   "metadata": {
    "slideshow": {
     "slide_type": "subslide"
    }
   },
   "source": [
    "**Mais comment est défini l'itérateur sur la liste ?**  \n",
    "Il suffit que l'objet ait une méthode `__next__()`, qui est déjà défini sur les listes.  \n",
    "`__next__()` doit soulever une exception StopIteration quand il est censé s'arrêter (pas obligatoire...).   \n",
    "On peut le définir soi-même sur un objet\n",
    "\n",
    "## Exercice\n",
    "Définir un itérateur qui parcours une liste à l'envers. "
   ]
  },
  {
   "cell_type": "code",
   "execution_count": 7,
   "metadata": {
    "slideshow": {
     "slide_type": "skip"
    }
   },
   "outputs": [
    {
     "name": "stdout",
     "output_type": "stream",
     "text": [
      "3 2 1 \n",
      "9 8 7 6 5 4 3 2 1 0 "
     ]
    }
   ],
   "source": [
    " class Reverse:\n",
    "    \"\"\"itérateur pour parcourir un conteneur à l'envers\"\"\"\n",
    "    def __init__(self, data):\n",
    "        self.data = data\n",
    "        self.index = len(data)\n",
    "   \n",
    "    def __iter__(self):\n",
    "        return self\n",
    "    \n",
    "    def __next__(self):\n",
    "        if self.index == 0:\n",
    "            raise StopIteration\n",
    "        self.index = self.index - 1\n",
    "        return self.data[self.index]\n",
    "\n",
    "    def reset(self):\n",
    "        self.index = len(self.data)\n",
    "    \n",
    "\n",
    "for x in Reverse([1,2,3]):\n",
    "    print(x,end=\" \") \n",
    "print()\n",
    "    \n",
    "a = Reverse([1,2,3])\n",
    "for x in Reverse(range(10)):\n",
    "    print(x,end=\" \")"
   ]
  },
  {
   "cell_type": "code",
   "execution_count": 2,
   "metadata": {},
   "outputs": [
    {
     "name": "stdout",
     "output_type": "stream",
     "text": [
      "1\n",
      "2\n",
      "3\n"
     ]
    },
    {
     "ename": "StopIteration",
     "evalue": "",
     "output_type": "error",
     "traceback": [
      "\u001b[0;31m---------------------------------------------------------------------------\u001b[0m",
      "\u001b[0;31mStopIteration\u001b[0m                             Traceback (most recent call last)",
      "\u001b[0;32m<ipython-input-2-2719eafce35d>\u001b[0m in \u001b[0;36m<module>\u001b[0;34m\u001b[0m\n\u001b[1;32m      3\u001b[0m \u001b[0mprint\u001b[0m\u001b[0;34m(\u001b[0m\u001b[0ma\u001b[0m\u001b[0;34m.\u001b[0m\u001b[0m__next__\u001b[0m\u001b[0;34m(\u001b[0m\u001b[0;34m)\u001b[0m\u001b[0;34m)\u001b[0m\u001b[0;34m\u001b[0m\u001b[0;34m\u001b[0m\u001b[0m\n\u001b[1;32m      4\u001b[0m \u001b[0mprint\u001b[0m\u001b[0;34m(\u001b[0m\u001b[0ma\u001b[0m\u001b[0;34m.\u001b[0m\u001b[0m__next__\u001b[0m\u001b[0;34m(\u001b[0m\u001b[0;34m)\u001b[0m\u001b[0;34m)\u001b[0m\u001b[0;34m\u001b[0m\u001b[0;34m\u001b[0m\u001b[0m\n\u001b[0;32m----> 5\u001b[0;31m \u001b[0mprint\u001b[0m\u001b[0;34m(\u001b[0m\u001b[0ma\u001b[0m\u001b[0;34m.\u001b[0m\u001b[0m__next__\u001b[0m\u001b[0;34m(\u001b[0m\u001b[0;34m)\u001b[0m\u001b[0;34m)\u001b[0m\u001b[0;34m\u001b[0m\u001b[0;34m\u001b[0m\u001b[0m\n\u001b[0m\u001b[1;32m      6\u001b[0m \u001b[0mprint\u001b[0m\u001b[0;34m(\u001b[0m\u001b[0ma\u001b[0m\u001b[0;34m.\u001b[0m\u001b[0m__next__\u001b[0m\u001b[0;34m(\u001b[0m\u001b[0;34m)\u001b[0m\u001b[0;34m)\u001b[0m\u001b[0;34m\u001b[0m\u001b[0;34m\u001b[0m\u001b[0m\n",
      "\u001b[0;31mStopIteration\u001b[0m: "
     ]
    }
   ],
   "source": [
    "a = iter([1,2,3])\n",
    "print(next(a))\n",
    "print(a.__next__())\n",
    "print(a.__next__())\n",
    "print(a.__next__())\n",
    "print(a.__next__())\n"
   ]
  },
  {
   "cell_type": "markdown",
   "metadata": {
    "slideshow": {
     "slide_type": "slide"
    }
   },
   "source": [
    "## Générateurs\n",
    "Un générateur est un moyen plus simple de définir des itérateurs.  \n",
    "Le mot clef `yield` dans une fonction suffit à la définir la fonction comme générateur "
   ]
  },
  {
   "cell_type": "code",
   "execution_count": 2,
   "metadata": {
    "slideshow": {
     "slide_type": "fragment"
    }
   },
   "outputs": [
    {
     "name": "stdout",
     "output_type": "stream",
     "text": [
      "0 1 2 "
     ]
    }
   ],
   "source": [
    "def natural(n):\n",
    "    i = 0\n",
    "    while i<n:\n",
    "        yield i\n",
    "        i = i + 1\n",
    "\n",
    "#gen = natural(3)\n",
    "for x in natural(3):\n",
    "    print(x,end=\" \")"
   ]
  },
  {
   "cell_type": "markdown",
   "metadata": {
    "slideshow": {
     "slide_type": "subslide"
    }
   },
   "source": [
    "Un générateur permet de générer au fur et à mesure des besoins des valeurs à énumérer, sans tout stocker explicitement.  \n",
    "La syntaxe cache en fait les choses suivantes: \n",
    "- la définition de l'initialisation de l'itérateur\n",
    "- la définition de ce qu'il renvoie à chaque étape (next)\n",
    "- l'exception quand on sort de ce qu'il doit énumérer\n",
    "\n",
    "La fin de l'itération est optionnelle !"
   ]
  },
  {
   "cell_type": "code",
   "execution_count": 3,
   "metadata": {
    "slideshow": {
     "slide_type": "fragment"
    }
   },
   "outputs": [
    {
     "name": "stdout",
     "output_type": "stream",
     "text": [
      "1 2 3 4\n"
     ]
    }
   ],
   "source": [
    "def natural0():\n",
    "    i = 1\n",
    "    while True:\n",
    "        yield i\n",
    "        i = i + 1\n",
    "    \n",
    "gen = natural0()\n",
    "print(next(gen), gen.__next__(), gen.__next__(), gen.__next__())"
   ]
  },
  {
   "cell_type": "markdown",
   "metadata": {
    "slideshow": {
     "slide_type": "subslide"
    }
   },
   "source": [
    "Un générateur définit implicitement un itérateur, à condition de s'arrêter. "
   ]
  },
  {
   "cell_type": "code",
   "execution_count": 4,
   "metadata": {
    "slideshow": {
     "slide_type": "fragment"
    }
   },
   "outputs": [
    {
     "name": "stdout",
     "output_type": "stream",
     "text": [
      "0 1 2 3 4 5 6 7 8 9 10 11 12 13 14 15 16 17 18 19 20 21 22 23 24 25 26 27 28 29 30 31 32 33 34 35 36 37 38 39 40 41 42 43 44 45 46 47 48 49 50 51 52 53 54 55 56 57 58 59 60 61 62 63 64 65 66 67 68 69 70 71 72 73 74 75 76 77 78 79 80 81 82 83 84 85 86 87 88 89 90 91 92 93 94 95 96 97 98 99 "
     ]
    }
   ],
   "source": [
    "for i in natural(100):\n",
    "    print(i,end=\" \") "
   ]
  },
  {
   "cell_type": "markdown",
   "metadata": {
    "slideshow": {
     "slide_type": "subslide"
    }
   },
   "source": [
    "En fait, `natural` fait la même chose que la fonction `range`\n",
    "On peut définir un parcours d'un conteneur \"à l'avance\" \n",
    "\n",
    "### Exemple"
   ]
  },
  {
   "cell_type": "code",
   "execution_count": 5,
   "metadata": {
    "slideshow": {
     "slide_type": "subslide"
    }
   },
   "outputs": [
    {
     "name": "stdout",
     "output_type": "stream",
     "text": [
      "87624\n",
      "87624\n"
     ]
    }
   ],
   "source": [
    "from sys import getsizeof\n",
    "# là on crée une liste à chaque fois\n",
    "a1 = [2*x for x in range(10000)] \n",
    "print(getsizeof(a1))\n",
    "a1 = [x-3 for x in a1]\n",
    "print(getsizeof(a1))\n",
    "\n",
    "l = [x for x in range(100) if x>50]"
   ]
  },
  {
   "cell_type": "code",
   "execution_count": 6,
   "metadata": {
    "slideshow": {
     "slide_type": "fragment"
    }
   },
   "outputs": [
    {
     "name": "stdout",
     "output_type": "stream",
     "text": [
      "<generator object <genexpr> at 0x0000014DB730FC48>\n",
      "120\n",
      "<generator object <genexpr> at 0x0000014DB730FEC8>\n",
      "120\n",
      "-3 -1 1 3 5 7 9 11 13 15 17 19 21 23 25 27 29 31 33 35 37 39 41 43 45 47 49 51 53 55 57 59 61 63 65 67 69 71 73 75 77 79 81 83 85 87 89 91 93 95 97 99 101 103 105 107 109 111 113 115 117 119 121 123 125 127 129 131 133 135 137 139 141 143 145 147 149 151 153 155 157 159 161 163 165 167 169 171 173 175 177 179 181 183 185 187 189 191 193 195 "
     ]
    },
    {
     "ename": "StopIteration",
     "evalue": "",
     "output_type": "error",
     "traceback": [
      "\u001b[1;31m---------------------------------------------------------------------------\u001b[0m",
      "\u001b[1;31mStopIteration\u001b[0m                             Traceback (most recent call last)",
      "\u001b[1;32m~\\AppData\\Local\\Temp\\ipykernel_17696\\1316599165.py\u001b[0m in \u001b[0;36m<module>\u001b[1;34m\u001b[0m\n\u001b[0;32m     13\u001b[0m     \u001b[0mprint\u001b[0m\u001b[1;33m(\u001b[0m\u001b[0mx\u001b[0m\u001b[1;33m,\u001b[0m\u001b[0mend\u001b[0m\u001b[1;33m=\u001b[0m\u001b[1;34m\" \"\u001b[0m\u001b[1;33m)\u001b[0m\u001b[1;33m\u001b[0m\u001b[1;33m\u001b[0m\u001b[0m\n\u001b[0;32m     14\u001b[0m \u001b[1;33m\u001b[0m\u001b[0m\n\u001b[1;32m---> 15\u001b[1;33m \u001b[0ma2\u001b[0m\u001b[1;33m.\u001b[0m\u001b[0m__next__\u001b[0m\u001b[1;33m(\u001b[0m\u001b[1;33m)\u001b[0m\u001b[1;33m\u001b[0m\u001b[1;33m\u001b[0m\u001b[0m\n\u001b[0m",
      "\u001b[1;31mStopIteration\u001b[0m: "
     ]
    }
   ],
   "source": [
    "# ou bien ...\n",
    "a2 = (2*x for x    in range(10000))\n",
    "print(a2)\n",
    "print(getsizeof(a2))\n",
    "a2 = (x-3 for   x in a2) \n",
    "print(a2)\n",
    "print(getsizeof(a2))\n",
    "\n",
    "# plus simple\n",
    "a2 = (y-3 for y in (2*x for x in range(100)))\n",
    "\n",
    "for x in a2:\n",
    "    print(x,end=\" \") \n",
    "    \n",
    "a2.__next__()"
   ]
  },
  {
   "cell_type": "code",
   "execution_count": 7,
   "metadata": {
    "slideshow": {
     "slide_type": "subslide"
    }
   },
   "outputs": [
    {
     "name": "stdout",
     "output_type": "stream",
     "text": [
      "[]\n"
     ]
    }
   ],
   "source": [
    "print(list(a2)[:100])"
   ]
  },
  {
   "cell_type": "code",
   "execution_count": 8,
   "metadata": {},
   "outputs": [
    {
     "name": "stdout",
     "output_type": "stream",
     "text": [
      "0 a\n",
      "1 d\n",
      "2 e\n"
     ]
    }
   ],
   "source": [
    "for (i,x) in enumerate([\"a\",\"d\",\"e\"]):\n",
    "    print(i,x) "
   ]
  },
  {
   "cell_type": "code",
   "execution_count": 9,
   "metadata": {},
   "outputs": [
    {
     "data": {
      "text/plain": [
       "[10, 12, 14, 16, 18]"
      ]
     },
     "execution_count": 9,
     "metadata": {},
     "output_type": "execute_result"
    }
   ],
   "source": [
    "[x+10 for x in range(10) if x % 2==0]"
   ]
  },
  {
   "cell_type": "code",
   "execution_count": 10,
   "metadata": {
    "slideshow": {
     "slide_type": "fragment"
    }
   },
   "outputs": [
    {
     "name": "stdout",
     "output_type": "stream",
     "text": [
      "1656\n"
     ]
    }
   ],
   "source": [
    "# On peut appliquer les méthodes de générateur\n",
    "from random import randint\n",
    "maliste = (randint(-1000,1000) for i in range(10000))\n",
    "\n",
    "print(next(i for (i,x) in enumerate(maliste) if x==0))\n",
    "\n",
    "# 3 générateurs et complexité espace en O(1) ! \n",
    "\n",
    "# question: qu'a renvoyé cette expression ? "
   ]
  },
  {
   "cell_type": "code",
   "execution_count": 11,
   "metadata": {
    "slideshow": {
     "slide_type": "fragment"
    }
   },
   "outputs": [],
   "source": [
    "#--> l'indice du premier zero"
   ]
  },
  {
   "cell_type": "code",
   "execution_count": 12,
   "metadata": {
    "slideshow": {
     "slide_type": "fragment"
    }
   },
   "outputs": [
    {
     "ename": "RuntimeError",
     "evalue": "generator raised StopIteration",
     "output_type": "error",
     "traceback": [
      "\u001b[1;31m---------------------------------------------------------------------------\u001b[0m",
      "\u001b[1;31mStopIteration\u001b[0m                             Traceback (most recent call last)",
      "\u001b[1;32m~\\AppData\\Local\\Temp\\ipykernel_17696\\3130967686.py\u001b[0m in \u001b[0;36m<genexpr>\u001b[1;34m(.0)\u001b[0m\n\u001b[0;32m      2\u001b[0m print(sum(next(i for (i,x) in enumerate(maliste) if x==0) \\\n\u001b[1;32m----> 3\u001b[1;33m           for j in range(1000))/1000.)\n\u001b[0m",
      "\u001b[1;31mStopIteration\u001b[0m: ",
      "\nThe above exception was the direct cause of the following exception:\n",
      "\u001b[1;31mRuntimeError\u001b[0m                              Traceback (most recent call last)",
      "\u001b[1;32m~\\AppData\\Local\\Temp\\ipykernel_17696\\3130967686.py\u001b[0m in \u001b[0;36m<module>\u001b[1;34m\u001b[0m\n\u001b[0;32m      1\u001b[0m \u001b[1;31m# attention quand même :\u001b[0m\u001b[1;33m\u001b[0m\u001b[1;33m\u001b[0m\u001b[1;33m\u001b[0m\u001b[0m\n\u001b[0;32m      2\u001b[0m print(sum(next(i for (i,x) in enumerate(maliste) if x==0) \\\n\u001b[1;32m----> 3\u001b[1;33m           for j in range(1000))/1000.)\n\u001b[0m",
      "\u001b[1;31mRuntimeError\u001b[0m: generator raised StopIteration"
     ]
    }
   ],
   "source": [
    "# attention quand même : \n",
    "print(sum(next(i for (i,x) in enumerate(maliste) if x==0) \\\n",
    "          for j in range(1000))/1000.)"
   ]
  },
  {
   "cell_type": "markdown",
   "metadata": {
    "slideshow": {
     "slide_type": "subslide"
    }
   },
   "source": [
    "Revenons à notre classe ;  on aurait pu écrire l'itérateur nous mêmes:"
   ]
  },
  {
   "cell_type": "code",
   "execution_count": 13,
   "metadata": {
    "slideshow": {
     "slide_type": "fragment"
    }
   },
   "outputs": [
    {
     "name": "stdout",
     "output_type": "stream",
     "text": [
      "Adam\n",
      "Eve\n",
      "ayé\n"
     ]
    }
   ],
   "source": [
    "class Equipe:\n",
    "    def __init__(self,nom,membres):\n",
    "        self.nom = nom\n",
    "        self. membres = membres\n",
    "    \n",
    "    def __iter__(self):\n",
    "        for x in self.membres:\n",
    "            yield x\n",
    "            \n",
    "team = Equipe(\"Preum\",[\"Adam\",\"Eve\"])\n",
    "for x in team:\n",
    "    print(x)      \n",
    "    \n",
    "# on peut gérer nous mêmes la fin de l'itération   \n",
    "a = iter(team)\n",
    "next(a),next(a)\n",
    "try: \n",
    "    next(a)\n",
    "except StopIteration:\n",
    "    print(\"ayé\")"
   ]
  },
  {
   "cell_type": "markdown",
   "metadata": {
    "slideshow": {
     "slide_type": "subslide"
    }
   },
   "source": [
    "A quoi ça sert ? à contrôler plus finement ce qui se passe  \n",
    "[Aussi et surtout: économie de mémoire]"
   ]
  },
  {
   "cell_type": "code",
   "execution_count": 14,
   "metadata": {
    "slideshow": {
     "slide_type": "fragment"
    }
   },
   "outputs": [
    {
     "name": "stdout",
     "output_type": "stream",
     "text": [
      "Adam\n",
      "Eve\n",
      "Abel\n"
     ]
    }
   ],
   "source": [
    "class Equipe:\n",
    "    def __init__(self,nom,membres):\n",
    "        self.nom = nom\n",
    "        self.membres = membres\n",
    "        self.bannis = set()\n",
    "    \n",
    "    def __iter__(self):\n",
    "        for x in self.membres:\n",
    "            if x not in self.bannis:\n",
    "                yield x\n",
    "\n",
    "team = Equipe(\"Preum\",[\"Adam\",\"Eve\",\"Cain\",\"Abel\"])\n",
    "team.bannis.add(\"Cain\")\n",
    "\n",
    "for x in team:\n",
    "    print(x)   \n",
    "    \n",
    "    "
   ]
  },
  {
   "cell_type": "markdown",
   "metadata": {
    "slideshow": {
     "slide_type": "subslide"
    }
   },
   "source": [
    "### Exercice : Analyse d'ADN \n",
    "- codon = 3 'lettres, fin seulement {TAA, TAG, TGA}; début TTG ATG GTG\n",
    "- 'code génétique': acide aminé codé par chaque codon\n",
    "\n",
    "Faire un générateur qui analyse l'ADN codon par codon, en commençant au premier début valide et en s'arrêtant à la première fin.   \n",
    "Faire un générateur qui envoie toutes les acides aminés codées sur un brin (bonus: il peut y avoir plusieurs début/fin)\n",
    "  \n",
    "      "
   ]
  },
  {
   "cell_type": "code",
   "execution_count": 14,
   "metadata": {
    "slideshow": {
     "slide_type": "slide"
    }
   },
   "outputs": [
    {
     "data": {
      "text/plain": [
       "['G', 'C', '...']"
      ]
     },
     "execution_count": 14,
     "metadata": {},
     "output_type": "execute_result"
    }
   ],
   "source": [
    "# codon -> acide aminé \n",
    "code = {'TCA':'S', # Sérine\n",
    " 'TCC':'S', # Sérine\n",
    "  'TCG':'S', # Sérine\n",
    "  'TCT':'S', # Sérine\n",
    "  'TTC':'F', # Phénylalanine\n",
    "  'TTT':'F', # Phénylalanine\n",
    "  'TTA':'L', # Leucine\n",
    "  'TTG':'L', # Leucine\n",
    "  'TAC':'Y', # Tyrosine\n",
    "  'TAT':'Y', # Tyrosine\n",
    "  'TAA':'*', # Codon Stop\n",
    "  'TAG':'*', # Codon Stop\n",
    "  'TGC':'C', # Cystéine\n",
    "  'TGT':'C', # Cystéine\n",
    "  'TGA':'*', # Codon Stop\n",
    "  'TGG':'W', # Tryptophane\n",
    "  'CTA':'L', # Leucine\n",
    "  'CTC':'L', # Leucine\n",
    "  'CTG':'L', # Leucine\n",
    "  'CTT':'L', # Leucine\n",
    "  'CCA':'P', # Proline\n",
    "  'CCC':'P', # Proline\n",
    "  'CCG':'P', # Proline\n",
    "  'CCT':'P', # Proline\n",
    "  'CAC':'H', # Histidine\n",
    "  'CAT':'H', # Histidine\n",
    "  'CAA':'Q', # Glutamine\n",
    "  'CAG':'Q', # Glutamine\n",
    "  'CGA':'R', # Arginine\n",
    "  'CGC':'R', # Arginine\n",
    "  'CGG':'R', # Arginine\n",
    "  'CGT':'R', # Arginine\n",
    "  'ATA':'I', # Isoleucine\n",
    "  'ATC':'I', # Isoleucine\n",
    "  'ATT':'I', # Isoleucine\n",
    "  'ATG':'M', # Méthionine\n",
    "  'ACA':'T', # Thréonine\n",
    "  'ACC':'T', # Thréonine\n",
    "  'ACG':'T', # Thréonine\n",
    "  'ACT':'T', # Thréonine\n",
    "  'AAC':'N', # Asparagine\n",
    "  'AAT':'N', # Asparagine\n",
    "  'AAA':'K', # Lysine\n",
    "  'AAG':'K', # Lysine\n",
    "  'AGC':'S', # Sérine\n",
    "  'AGT':'S', # Sérine\n",
    "  'AGA':'R', # Arginine\n",
    "  'AGG':'R', # Arginine\n",
    "  'GTA':'V', # Valine\n",
    "  'GTC':'V', # Valine\n",
    "  'GTG':'V', # Valine\n",
    "  'GTT':'V', # Valine\n",
    "  'GCA':'A', # Alanine\n",
    "  'GCC':'A', # Alanine\n",
    "  'GCG':'A', # Alanine\n",
    "  'GCT':'A', # Alanine\n",
    "  'GAC':'D', # Acide Aspartique\n",
    "  'GAT':'D', # Acide Aspartique\n",
    "  'GAA':'E', # Acide Glutamique\n",
    "  'GAG':'E', # Acide Glutamique\n",
    "  'GGA':'G', # Glycine\n",
    "  'GGC':'G', # Glycine\n",
    "  'GGG':'G', # Glycine\n",
    "  'GGT':'G', # Glycine \n",
    "  }\n",
    "\n",
    "adn = \"GGTGGGGTTGCAGCCCTGAAGCTTACACCCTGA\"\n",
    "\n",
    "debut = {\"TTG\",\"GTG\",\"ATG\"}\n",
    "end = {\"TTA\",\"TAG\",\"TTA\"}\n",
    "\n",
    "[\"G\",\"C\",\"...\"]"
   ]
  },
  {
   "cell_type": "code",
   "execution_count": 15,
   "metadata": {
    "slideshow": {
     "slide_type": "skip"
    }
   },
   "outputs": [
    {
     "name": "stdout",
     "output_type": "stream",
     "text": [
      "G\n",
      "L\n",
      "Q\n",
      "P\n"
     ]
    }
   ],
   "source": [
    "def sequencage(adn):\n",
    "    # trouver le début\n",
    "    i = 0\n",
    "    while adn[i:i+3] not in debut:#\n",
    "        i = i + 1\n",
    "    # cracher les codons \n",
    "    i = i + 3\n",
    "    while i <= len(adn)-3:\n",
    "        codon = adn[i:i+3]\n",
    "        i = i + 3\n",
    "        yield codon\n",
    "\n",
    "\n",
    "#for codon in sequencage(adn):\n",
    "#    print(codon)\n",
    "\n",
    "\n",
    "def decodage(adn,dico_code):\n",
    "    for codon in sequencage(adn):\n",
    "        proteine = dico_code[codon]\n",
    "        if proteine != \"*\":\n",
    "            yield proteine\n",
    "        else:\n",
    "            # ou bien return None\n",
    "            #raise StopIteration\n",
    "            return None\n",
    "        \n",
    "for proteine in decodage(adn,code):\n",
    "    print(proteine)"
   ]
  },
  {
   "cell_type": "markdown",
   "metadata": {
    "slideshow": {
     "slide_type": "slide"
    }
   },
   "source": [
    "## Retour sur les définitions de classes\n",
    "- attributs de classes\n",
    "- classes abstraite\n",
    "\n",
    "On peut avoir des attributs de classes, partagés par toutes les instances"
   ]
  },
  {
   "cell_type": "code",
   "execution_count": 16,
   "metadata": {
    "slideshow": {
     "slide_type": "fragment"
    }
   },
   "outputs": [
    {
     "name": "stdout",
     "output_type": "stream",
     "text": [
      "[1, 2, 3] [1, 2, 3]\n",
      "[5, 2, 3]\n",
      "True\n",
      "5 6\n"
     ]
    }
   ],
   "source": [
    "class Bidon:\n",
    "    # attribut de classe\n",
    "    general = [1,2,3]\n",
    "    \n",
    "    def __init__(self,x):\n",
    "        self.particulier = x\n",
    "        \n",
    "\n",
    "a = Bidon(5)\n",
    "b = Bidon(6)\n",
    "\n",
    "print(a.general, b.general)\n",
    "a.general[0] = a.particulier\n",
    "print(b.general)\n",
    "print(a.general is b.general)\n",
    "print(a.particulier,b.particulier)"
   ]
  },
  {
   "cell_type": "markdown",
   "metadata": {
    "slideshow": {
     "slide_type": "subslide"
    }
   },
   "source": [
    "**Mais comment faire pour avoir une fonction partagée par toutes les instances sans l'instance elle-même ?**  \n",
    "Impossible comme les attributs car le premier argument est toujours l'objet créé (self)  \n",
    "-> On a besoin d'autre chose (plus tard)"
   ]
  },
  {
   "cell_type": "markdown",
   "metadata": {
    "slideshow": {
     "slide_type": "subslide"
    }
   },
   "source": [
    "## Classes Abstraites\n",
    "\n",
    "Rappel: une classe abstraite est une classe qui définit une API susceptible de recevoir plusieurs implémentations différentes (dans des sous-classes), et qui laisse donc certaines méthodes non implémentées.  \n",
    "En Java, on parle d'`Interfaces`.  \n",
    "Il est facile d'implémenter une telle classe en utilisant l'exception `NotImplementError`"
   ]
  },
  {
   "cell_type": "code",
   "execution_count": 16,
   "metadata": {
    "slideshow": {
     "slide_type": "fragment"
    }
   },
   "outputs": [],
   "source": [
    "class AbstractMaClasse:\n",
    "    def __init__(self,x):\n",
    "        self.base = x\n",
    "    def a_method(self,x):\n",
    "        return x*2\n",
    "    def another(self,x,y):\n",
    "        raise NotImplementedError(\"appel à une classe abstraite\")"
   ]
  },
  {
   "cell_type": "code",
   "execution_count": 17,
   "metadata": {
    "scrolled": true,
    "slideshow": {
     "slide_type": "subslide"
    }
   },
   "outputs": [
    {
     "name": "stdout",
     "output_type": "stream",
     "text": [
      "objet a créé \n",
      "objet b créé\n",
      "8\n"
     ]
    },
    {
     "ename": "NotImplementedError",
     "evalue": "appel à une classe abstraite",
     "output_type": "error",
     "traceback": [
      "\u001b[1;31m---------------------------------------------------------------------------\u001b[0m",
      "\u001b[1;31mNotImplementedError\u001b[0m                       Traceback (most recent call last)",
      "\u001b[1;32m~\\AppData\\Local\\Temp\\ipykernel_17696\\3766777627.py\u001b[0m in \u001b[0;36m<module>\u001b[1;34m\u001b[0m\n\u001b[0;32m      9\u001b[0m \u001b[0mprint\u001b[0m\u001b[1;33m(\u001b[0m\u001b[1;34m\"objet b créé\"\u001b[0m\u001b[1;33m)\u001b[0m\u001b[1;33m\u001b[0m\u001b[1;33m\u001b[0m\u001b[0m\n\u001b[0;32m     10\u001b[0m \u001b[0mprint\u001b[0m\u001b[1;33m(\u001b[0m\u001b[0mb\u001b[0m\u001b[1;33m.\u001b[0m\u001b[0manother\u001b[0m\u001b[1;33m(\u001b[0m\u001b[1;36m2\u001b[0m\u001b[1;33m,\u001b[0m\u001b[1;36m3\u001b[0m\u001b[1;33m)\u001b[0m\u001b[1;33m)\u001b[0m\u001b[1;33m\u001b[0m\u001b[1;33m\u001b[0m\u001b[0m\n\u001b[1;32m---> 11\u001b[1;33m \u001b[0mprint\u001b[0m\u001b[1;33m(\u001b[0m\u001b[0ma\u001b[0m\u001b[1;33m.\u001b[0m\u001b[0manother\u001b[0m\u001b[1;33m(\u001b[0m\u001b[1;36m2\u001b[0m\u001b[1;33m,\u001b[0m\u001b[1;36m3\u001b[0m\u001b[1;33m)\u001b[0m\u001b[1;33m)\u001b[0m\u001b[1;33m\u001b[0m\u001b[1;33m\u001b[0m\u001b[0m\n\u001b[0m",
      "\u001b[1;32m~\\AppData\\Local\\Temp\\ipykernel_17696\\3907318753.py\u001b[0m in \u001b[0;36manother\u001b[1;34m(self, x, y)\u001b[0m\n\u001b[0;32m      5\u001b[0m         \u001b[1;32mreturn\u001b[0m \u001b[0mx\u001b[0m\u001b[1;33m*\u001b[0m\u001b[1;36m2\u001b[0m\u001b[1;33m\u001b[0m\u001b[1;33m\u001b[0m\u001b[0m\n\u001b[0;32m      6\u001b[0m     \u001b[1;32mdef\u001b[0m \u001b[0manother\u001b[0m\u001b[1;33m(\u001b[0m\u001b[0mself\u001b[0m\u001b[1;33m,\u001b[0m\u001b[0mx\u001b[0m\u001b[1;33m,\u001b[0m\u001b[0my\u001b[0m\u001b[1;33m)\u001b[0m\u001b[1;33m:\u001b[0m\u001b[1;33m\u001b[0m\u001b[1;33m\u001b[0m\u001b[0m\n\u001b[1;32m----> 7\u001b[1;33m         \u001b[1;32mraise\u001b[0m \u001b[0mNotImplementedError\u001b[0m\u001b[1;33m(\u001b[0m\u001b[1;34m\"appel à une classe abstraite\"\u001b[0m\u001b[1;33m)\u001b[0m\u001b[1;33m\u001b[0m\u001b[1;33m\u001b[0m\u001b[0m\n\u001b[0m",
      "\u001b[1;31mNotImplementedError\u001b[0m: appel à une classe abstraite"
     ]
    }
   ],
   "source": [
    "class MaClasse(AbstractMaClasse):\n",
    "    # note: la liste d'argument n'est bien sur pas figée\n",
    "    def another(self,x,y):\n",
    "        return self.base + x*y\n",
    "    \n",
    "a = AbstractMaClasse(1)\n",
    "print(\"objet a créé \")\n",
    "b = MaClasse(2)\n",
    "print(\"objet b créé\")\n",
    "print(b.another(2,3))\n",
    "print(a.another(2,3))"
   ]
  },
  {
   "cell_type": "markdown",
   "metadata": {
    "slideshow": {
     "slide_type": "skip"
    }
   },
   "source": [
    "Un inconvénient de cette méthode est qu'il n'y a aucun contrôle que les sous-classes définissent bien toutes les méthodes au moment de la création d'une instance. "
   ]
  },
  {
   "cell_type": "code",
   "execution_count": 18,
   "metadata": {
    "slideshow": {
     "slide_type": "fragment"
    }
   },
   "outputs": [
    {
     "name": "stdout",
     "output_type": "stream",
     "text": [
      "----- instance créée\n"
     ]
    },
    {
     "ename": "NotImplementedError",
     "evalue": "appel à une classe abstraite",
     "output_type": "error",
     "traceback": [
      "\u001b[1;31m---------------------------------------------------------------------------\u001b[0m",
      "\u001b[1;31mNotImplementedError\u001b[0m                       Traceback (most recent call last)",
      "\u001b[1;32m~\\AppData\\Local\\Temp\\ipykernel_17696\\1845456917.py\u001b[0m in \u001b[0;36m<module>\u001b[1;34m\u001b[0m\n\u001b[0;32m      4\u001b[0m \u001b[0ma\u001b[0m \u001b[1;33m=\u001b[0m \u001b[0mOops\u001b[0m\u001b[1;33m(\u001b[0m\u001b[1;36m1\u001b[0m\u001b[1;33m)\u001b[0m \u001b[1;31m# ne devrait pas marcher !\u001b[0m\u001b[1;33m\u001b[0m\u001b[1;33m\u001b[0m\u001b[0m\n\u001b[0;32m      5\u001b[0m \u001b[0mprint\u001b[0m\u001b[1;33m(\u001b[0m\u001b[1;34m\"----- instance créée\"\u001b[0m\u001b[1;33m)\u001b[0m\u001b[1;33m\u001b[0m\u001b[1;33m\u001b[0m\u001b[0m\n\u001b[1;32m----> 6\u001b[1;33m \u001b[0ma\u001b[0m\u001b[1;33m.\u001b[0m\u001b[0manother\u001b[0m\u001b[1;33m(\u001b[0m\u001b[1;36m3\u001b[0m\u001b[1;33m,\u001b[0m\u001b[1;36m4\u001b[0m\u001b[1;33m)\u001b[0m\u001b[1;33m\u001b[0m\u001b[1;33m\u001b[0m\u001b[0m\n\u001b[0m",
      "\u001b[1;32m~\\AppData\\Local\\Temp\\ipykernel_17696\\3907318753.py\u001b[0m in \u001b[0;36manother\u001b[1;34m(self, x, y)\u001b[0m\n\u001b[0;32m      5\u001b[0m         \u001b[1;32mreturn\u001b[0m \u001b[0mx\u001b[0m\u001b[1;33m*\u001b[0m\u001b[1;36m2\u001b[0m\u001b[1;33m\u001b[0m\u001b[1;33m\u001b[0m\u001b[0m\n\u001b[0;32m      6\u001b[0m     \u001b[1;32mdef\u001b[0m \u001b[0manother\u001b[0m\u001b[1;33m(\u001b[0m\u001b[0mself\u001b[0m\u001b[1;33m,\u001b[0m\u001b[0mx\u001b[0m\u001b[1;33m,\u001b[0m\u001b[0my\u001b[0m\u001b[1;33m)\u001b[0m\u001b[1;33m:\u001b[0m\u001b[1;33m\u001b[0m\u001b[1;33m\u001b[0m\u001b[0m\n\u001b[1;32m----> 7\u001b[1;33m         \u001b[1;32mraise\u001b[0m \u001b[0mNotImplementedError\u001b[0m\u001b[1;33m(\u001b[0m\u001b[1;34m\"appel à une classe abstraite\"\u001b[0m\u001b[1;33m)\u001b[0m\u001b[1;33m\u001b[0m\u001b[1;33m\u001b[0m\u001b[0m\n\u001b[0m",
      "\u001b[1;31mNotImplementedError\u001b[0m: appel à une classe abstraite"
     ]
    }
   ],
   "source": [
    "class Oops(AbstractMaClasse):\n",
    "    pass\n",
    "\n",
    "a = Oops(1) # ne devrait pas marcher !\n",
    "print(\"----- instance créée\")\n",
    "a.another(3,4) "
   ]
  },
  {
   "cell_type": "markdown",
   "metadata": {
    "slideshow": {
     "slide_type": "slide"
    }
   },
   "source": [
    "## Décorateurs\n",
    "On a vu que l'on pouvait facilement définir des fonctions avec des fonctions en arguments ou même en résultat.  \n",
    "Les fonctions sont des objets comme les autres (ou presque).  \n",
    "Python fournit de plus une syntaxe spéciale pour faciliter les transformations de fonctions: les décorateurs.  \n",
    "Ce mécanisme va permettre de traiter les problèmes mentionnés auparavant sur la définition des objets: méthode statique, méthode de classe, attributs protégés pratiques.\n",
    "\n",
    "### Exemple\n",
    "Faisons une fonction qui aide à déclarer des fonctions \"obsolètes\" (en donnant un avertissement, mais en laissant le programme continuer)"
   ]
  },
  {
   "cell_type": "code",
   "execution_count": 15,
   "metadata": {
    "slideshow": {
     "slide_type": "fragment"
    }
   },
   "outputs": [
    {
     "name": "stdout",
     "output_type": "stream",
     "text": [
      "!! attention, appel à fonction obsolete: mafonction\n"
     ]
    },
    {
     "data": {
      "text/plain": [
       "24"
      ]
     },
     "execution_count": 15,
     "metadata": {},
     "output_type": "execute_result"
    }
   ],
   "source": [
    "def obsolete(func):\n",
    "    def new_func(*y,**opt):\n",
    "        print(\"!! attention, appel à fonction obsolete:\",func.__name__)\n",
    "        return func(*y,**opt)\n",
    "    return new_func\n",
    "\n",
    "def mafonction(x):\n",
    "    return x*2\n",
    "\n",
    "mafonction = obsolete(mafonction)\n",
    "\n",
    "\n",
    "mafonction(12)"
   ]
  },
  {
   "cell_type": "markdown",
   "metadata": {
    "slideshow": {
     "slide_type": "subslide"
    }
   },
   "source": [
    "**Inconvénient**  \n",
    "Ne marche que si la fonction a un seul argument.\n",
    "\n",
    "Avec des arguments quelconques cette fois :"
   ]
  },
  {
   "cell_type": "code",
   "execution_count": 7,
   "metadata": {
    "slideshow": {
     "slide_type": "fragment"
    }
   },
   "outputs": [
    {
     "name": "stdout",
     "output_type": "stream",
     "text": [
      "!! attention, appel à fonction obsolete: mafonction\n"
     ]
    },
    {
     "data": {
      "text/plain": [
       "288"
      ]
     },
     "execution_count": 7,
     "metadata": {},
     "output_type": "execute_result"
    }
   ],
   "source": [
    "def obsolete(func):\n",
    "    def new_func(*args,**kwargs):\n",
    "        print(\"!! attention, appel à fonction obsolete:\",func.__name__)\n",
    "        return func(*args,**kwargs)\n",
    "    return new_func\n",
    "\n",
    "def mafonction(x,y):\n",
    "    return x**2+y**2\n",
    "\n",
    "mafonction = obsolete(mafonction)\n",
    "mafonction(12,12)"
   ]
  },
  {
   "cell_type": "markdown",
   "metadata": {
    "slideshow": {
     "slide_type": "subslide"
    }
   },
   "source": [
    "Python fournit en fait une syntaxe plus pratique"
   ]
  },
  {
   "cell_type": "code",
   "execution_count": 17,
   "metadata": {
    "slideshow": {
     "slide_type": "fragment"
    }
   },
   "outputs": [
    {
     "name": "stdout",
     "output_type": "stream",
     "text": [
      "!! attention, appel à fonction obsolete: mafonction\n"
     ]
    },
    {
     "data": {
      "text/plain": [
       "288"
      ]
     },
     "execution_count": 17,
     "metadata": {},
     "output_type": "execute_result"
    }
   ],
   "source": [
    "def obsolete(func):\n",
    "    def new_func(*args,**kwargs):\n",
    "        print(\"!! attention, appel à fonction obsolete:\",func.__name__)\n",
    "        return func(*args,**kwargs)\n",
    "    return new_func\n",
    "\n",
    "@obsolete\n",
    "def mafonction(x,y):\n",
    "    return x**2+y**2\n",
    "\n",
    "mafonction(12,12)"
   ]
  },
  {
   "cell_type": "markdown",
   "metadata": {
    "slideshow": {
     "slide_type": "slide"
    }
   },
   "source": [
    "**Avantages des décorateurs**  \n",
    "- plus concis -> plus clair !\n",
    "- ne sépare pas la définition de la fonction de ses modifications\n",
    "- permet de les empiler de façon lisible\n",
    "- autorise les arguments\n",
    "\n",
    "**Un outil d'abstraction très puissant !**  \n",
    "Avec un argument -> revient à empiler un autre \"emballage\" (wrapper) par dessus le premier"
   ]
  },
  {
   "cell_type": "code",
   "execution_count": 18,
   "metadata": {
    "slideshow": {
     "slide_type": "fragment"
    }
   },
   "outputs": [
    {
     "name": "stdout",
     "output_type": "stream",
     "text": [
      "!! attention, appel à fonction mafonction obsolete depuis 2005\n",
      "288\n",
      "!! attention, appel à fonction oldfonction obsolete depuis 1980\n",
      "30\n"
     ]
    }
   ],
   "source": [
    "def obsolete(date):\n",
    "    def obsolete_decorator(func):\n",
    "        def new_func(*args,**kwargs):\n",
    "            print(\"!! attention, appel à fonction\",\n",
    "                  func.__name__,\"obsolete depuis\",date)\n",
    "            return func(*args,**kwargs)\n",
    "        return new_func\n",
    "    return obsolete_decorator\n",
    "    \n",
    "@obsolete(2005)\n",
    "def mafonction(x,y):\n",
    "    return x**2+y**2\n",
    "\n",
    "@obsolete(1980)\n",
    "def oldfonction(x):\n",
    "    return x*2\n",
    "\n",
    "print(mafonction(12,12))\n",
    "print(oldfonction(15))\n"
   ]
  },
  {
   "cell_type": "markdown",
   "metadata": {
    "slideshow": {
     "slide_type": "slide"
    }
   },
   "source": [
    "Trois décorateurs utiles sont prédéfinis: \n",
    "- `@property` - définit un attribut avec des accès/modifications contrôlées. \n",
    "- `@staticmethod` - méthode d'une class partagée par toutes les instances\n",
    "- `@classmethod` - méthode de classe -> utiles pour héritage, permet de définir des méthodes statiques sans mettre le nom de classe explicitement et donc peut être repris par les sous-classes telle quelle \n",
    "- `@abc.abstractmethod` permet de définir des méthodes de classes abstraites (module abc)"
   ]
  },
  {
   "cell_type": "markdown",
   "metadata": {},
   "source": [
    "### Attributs protégés\n",
    "Et si l'on voulait protéger des attributs et garder une syntaxe simple pour l'accès et la modification ?  \n",
    "-> On utilise le décorateur `@property`\n",
    "\n",
    "Reprenons l'exemple de la classe Date"
   ]
  },
  {
   "cell_type": "code",
   "execution_count": 19,
   "metadata": {},
   "outputs": [],
   "source": [
    "# lourd et redondant ....\n",
    "class Date:\n",
    "    \n",
    "    def __init__(self,jour,mois,annee):\n",
    "        if jour>=1 and jour<=31:\n",
    "            self.jour = jour\n",
    "        else:\n",
    "            self.jour = None\n",
    "        if mois>=1 and mois<=12:\n",
    "            self.mois = mois\n",
    "        else:\n",
    "            self.mois = None\n",
    "        if annee!=0:\n",
    "            self.annee = annee\n",
    "        else:\n",
    "            self.annee = None\n",
    "            \n",
    "    def set_jour(self,new):\n",
    "        if new>=1 and new<=31:\n",
    "            self.jour = new\n",
    "            return True\n",
    "        else:\n",
    "            self.jour = None\n",
    "            return False\n",
    "        \n",
    "    def get_jour(self):\n",
    "        return self.jour\n",
    "    \n",
    "    # idem mois / annee\n",
    "\n",
    "# serait déjà mieux avec attributs protégés: self.__jour, etc\n",
    "# et en utilisant set/get dans l'__init__\n",
    "# mais toujours un peu lourd"
   ]
  },
  {
   "cell_type": "code",
   "execution_count": 20,
   "metadata": {},
   "outputs": [
    {
     "name": "stdout",
     "output_type": "stream",
     "text": [
      "28\n"
     ]
    }
   ],
   "source": [
    "# avec property\n",
    "class Date:\n",
    "    \n",
    "    def __init__(self,jour,mois,annee):\n",
    "        self.jour = jour\n",
    "        self.mois = mois\n",
    "        self.annee = annee\n",
    "        \n",
    "    @property\n",
    "    def jour(self):\n",
    "        return self.__jour\n",
    "    \n",
    "    @jour.setter\n",
    "    def jour(self,new):\n",
    "        if new>=1 and new<=31:\n",
    "            self.__jour = new\n",
    "        else:\n",
    "            self.__jour = None\n",
    "        \n",
    "\n",
    "d = Date(28,1,2019)\n",
    "#d.jour = 45\n",
    "print(d.jour)"
   ]
  },
  {
   "cell_type": "code",
   "execution_count": 21,
   "metadata": {
    "scrolled": false
   },
   "outputs": [
    {
     "ename": "AttributeError",
     "evalue": "'Date' object has no attribute '__jour'",
     "output_type": "error",
     "traceback": [
      "\u001b[1;31m---------------------------------------------------------------------------\u001b[0m",
      "\u001b[1;31mAttributeError\u001b[0m                            Traceback (most recent call last)",
      "\u001b[1;32m~\\AppData\\Local\\Temp\\ipykernel_17696\\3309576151.py\u001b[0m in \u001b[0;36m<module>\u001b[1;34m\u001b[0m\n\u001b[0;32m      1\u001b[0m \u001b[1;31m# note: l'attribut est bien protégé:\u001b[0m\u001b[1;33m\u001b[0m\u001b[1;33m\u001b[0m\u001b[1;33m\u001b[0m\u001b[0m\n\u001b[1;32m----> 2\u001b[1;33m \u001b[0mprint\u001b[0m\u001b[1;33m(\u001b[0m\u001b[0md\u001b[0m\u001b[1;33m.\u001b[0m\u001b[0m__jour\u001b[0m\u001b[1;33m)\u001b[0m\u001b[1;33m\u001b[0m\u001b[1;33m\u001b[0m\u001b[0m\n\u001b[0m",
      "\u001b[1;31mAttributeError\u001b[0m: 'Date' object has no attribute '__jour'"
     ]
    }
   ],
   "source": [
    "# note: l'attribut est bien protégé: \n",
    "print(d.__jour)"
   ]
  },
  {
   "cell_type": "code",
   "execution_count": 22,
   "metadata": {},
   "outputs": [
    {
     "data": {
      "text/plain": [
       "28"
      ]
     },
     "execution_count": 22,
     "metadata": {},
     "output_type": "execute_result"
    }
   ],
   "source": [
    "d._Date__jour"
   ]
  },
  {
   "cell_type": "markdown",
   "metadata": {
    "slideshow": {
     "slide_type": "subslide"
    }
   },
   "source": [
    "## Méthode statique: \n",
    "- methode d'une classe qui ne dépend pas d'une instance \n",
    "- si on déclare normalement, on a une copie de la fonction à chaque instance\n",
    "\n",
    "### Exemple\n",
    "Supposons qu'on redéfinisse une classe complexe, et qu'on veut une méthode qui donne les racines enièmes de 1, i.e.\n",
    "\n",
    "   $$\\exp(i 2k\\pi/n) = cos(2k\\pi/n) + i\\cdot sin(2k\\pi/n) $$"
   ]
  },
  {
   "cell_type": "code",
   "execution_count": 7,
   "metadata": {
    "slideshow": {
     "slide_type": "subslide"
    }
   },
   "outputs": [
    {
     "name": "stdout",
     "output_type": "stream",
     "text": [
      "-0.500000 + i*(0.866025)\n"
     ]
    },
    {
     "data": {
      "text/plain": [
       "False"
      ]
     },
     "execution_count": 7,
     "metadata": {},
     "output_type": "execute_result"
    }
   ],
   "source": [
    "from math import cos,sin, pi\n",
    "\n",
    "class Complexe:\n",
    "    def __init__(self,r,i):\n",
    "        self.reel = r\n",
    "        self.imaginaire = i\n",
    "        \n",
    "    def __repr__(self):\n",
    "        return \"%f + i*(%f)\"%(self.reel,self.imaginaire)\n",
    "    \n",
    "    def racine_unite(self,n,k):\n",
    "        return  Complexe(cos(2*k*pi/n),sin(2*k*pi/n))\n",
    "\n",
    "a = Complexe(1,1)\n",
    "b = Complexe(-1,3)\n",
    "print(a.racine_unite(3,1))\n",
    "a.racine_unite is b.racine_unite"
   ]
  },
  {
   "cell_type": "markdown",
   "metadata": {
    "slideshow": {
     "slide_type": "subslide"
    }
   },
   "source": [
    "En fait l'instance est inutile ici, on voudrait juste avoir les arguments n et k;  \n",
    "On définit alors la méthode comme \"statique\" pour ne pas avoir besoin d'instance"
   ]
  },
  {
   "cell_type": "code",
   "execution_count": 8,
   "metadata": {
    "slideshow": {
     "slide_type": "fragment"
    }
   },
   "outputs": [
    {
     "name": "stdout",
     "output_type": "stream",
     "text": [
      "-0.500000 + i*(0.866025)\n"
     ]
    },
    {
     "data": {
      "text/plain": [
       "True"
      ]
     },
     "execution_count": 8,
     "metadata": {},
     "output_type": "execute_result"
    }
   ],
   "source": [
    "from math import cos,sin, pi\n",
    "\n",
    "class Complexe:\n",
    "    def __init__(self,r,i):\n",
    "        self.reel = r\n",
    "        self.imaginaire = i\n",
    "        \n",
    "    def __repr__(self):\n",
    "        return \"%f + i*(%f)\"%(self.reel,self.imaginaire)\n",
    "    \n",
    "    @staticmethod\n",
    "    def racine_unite(n,k):\n",
    "        return Complexe(cos(2.0*k*pi/n),sin(2.0*k*pi/n))\n",
    "\n",
    "a = Complexe(1,1)\n",
    "b = Complexe(-1,3)\n",
    "print(Complexe.racine_unite(3,1))\n",
    "a.racine_unite is b.racine_unite"
   ]
  },
  {
   "cell_type": "markdown",
   "metadata": {
    "slideshow": {
     "slide_type": "fragment"
    }
   },
   "source": [
    "### Exercice\n",
    "Faire une méthode pour créer un complexe à partir d'une forme polaire ($\\theta$, r)"
   ]
  },
  {
   "cell_type": "markdown",
   "metadata": {
    "slideshow": {
     "slide_type": "subslide"
    }
   },
   "source": [
    "### Méthodes de classe\n",
    "Imaginons maintenant qu'on veuille définir un nouveau conteneur, que l'on peut initialiser avec une liste, mais aussi à partir des éléments d'un dictionnaire.  \n",
    "On a deux solutions : "
   ]
  },
  {
   "cell_type": "code",
   "execution_count": 13,
   "metadata": {
    "slideshow": {
     "slide_type": "fragment"
    }
   },
   "outputs": [],
   "source": [
    "class Table:\n",
    "    def __init__(self,items):\n",
    "            self.contenu = items\n",
    "    \n",
    "    def from_dict1(self,dico):\n",
    "            self.contenu = dico.values()\n",
    "            \n",
    "    def from_dict2(self,dico):\n",
    "            return Table(dico.values())"
   ]
  },
  {
   "cell_type": "markdown",
   "metadata": {
    "slideshow": {
     "slide_type": "subslide"
    }
   },
   "source": [
    "Pas très élégant, car il faut soit initialiser deux fois une instance ou bien créer une instance pour créer une autre instance"
   ]
  },
  {
   "cell_type": "code",
   "execution_count": 14,
   "metadata": {
    "slideshow": {
     "slide_type": "fragment"
    }
   },
   "outputs": [],
   "source": [
    "a = Table([])\n",
    "a.from_dict1({1:2,3:4})\n",
    "# ou bien \n",
    "c = a.from_dict2({5:6,7:8})"
   ]
  },
  {
   "cell_type": "markdown",
   "metadata": {
    "slideshow": {
     "slide_type": "subslide"
    }
   },
   "source": [
    "Déjà mieux avec une méthode statique"
   ]
  },
  {
   "cell_type": "code",
   "execution_count": 15,
   "metadata": {
    "slideshow": {
     "slide_type": "fragment"
    }
   },
   "outputs": [
    {
     "name": "stdout",
     "output_type": "stream",
     "text": [
      "<__main__.Table object at 0x7f5ec00df320>\n"
     ]
    }
   ],
   "source": [
    "class Table:\n",
    "     def __init__(self,items):\n",
    "            self.contenu = items\n",
    "    \n",
    "     @staticmethod\n",
    "     def from_dict(dico):\n",
    "            return Table(dico.values())\n",
    "            \n",
    "a = Table.from_dict({}) \n",
    "print(a)"
   ]
  },
  {
   "cell_type": "markdown",
   "metadata": {
    "slideshow": {
     "slide_type": "subslide"
    }
   },
   "source": [
    "**Problème**  \n",
    "Si on veut maintenant faire une sous classe de `Table`, on doit tout réécrire si on veut garder la cohérence des constructeurs (from_dict faisant explicitement appel à la surclasse `Table`)"
   ]
  },
  {
   "cell_type": "code",
   "execution_count": 16,
   "metadata": {
    "slideshow": {
     "slide_type": "fragment"
    }
   },
   "outputs": [],
   "source": [
    "# une table qui contient plus d'information\n",
    "class AutreTable(Table):\n",
    "     def __init__(self,items):\n",
    "            self.contenu = items\n",
    "            self.nb = len(items)\n",
    "    \n",
    "     @staticmethod\n",
    "     def from_dict(dico):\n",
    "            return AutreTable(dico.values())\n",
    "            \n",
    " "
   ]
  },
  {
   "cell_type": "markdown",
   "metadata": {
    "slideshow": {
     "slide_type": "subslide"
    }
   },
   "source": [
    "Ne serait-il pas mieux d'avoir une méthode de classe à la place ? Du coup rien à réécrire."
   ]
  },
  {
   "cell_type": "code",
   "execution_count": 28,
   "metadata": {
    "slideshow": {
     "slide_type": "fragment"
    }
   },
   "outputs": [
    {
     "data": {
      "text/plain": [
       "__main__.AutreTable"
      ]
     },
     "execution_count": 28,
     "metadata": {},
     "output_type": "execute_result"
    }
   ],
   "source": [
    "class Table:\n",
    "     def __init__(self,items):\n",
    "            self.contenu = items\n",
    "    \n",
    "     @classmethod\n",
    "     def from_dict(cls,dico):\n",
    "            return cls(dico.values())\n",
    "\n",
    "class AutreTable(Table):\n",
    "     def __init__(self,items):\n",
    "            self.contenu = items\n",
    "            self.nb = len(items)\n",
    "    \n",
    "\n",
    "a = AutreTable.from_dict({1:2})\n",
    "a.__class__"
   ]
  },
  {
   "cell_type": "markdown",
   "metadata": {
    "slideshow": {
     "slide_type": "slide"
    }
   },
   "source": [
    "### Exercices\n",
    "Définir des décorateurs pour \n",
    "- garder en cache des résultats de fonction (\"memoisation\")\n",
    "- compter les appels de certaines fonctions\n",
    "- répéter une fonction jusqu'à atteindre une condition [exam 2017_2018]\n",
    "   \n",
    "**Indice**  \n",
    "Définir le décorateur comme objet et redéfinir la méthode `__call__`\n",
    "\n"
   ]
  },
  {
   "cell_type": "code",
   "execution_count": 23,
   "metadata": {},
   "outputs": [
    {
     "name": "stdout",
     "output_type": "stream",
     "text": [
      "9\n",
      "36\n",
      "2\n"
     ]
    }
   ],
   "source": [
    "# exemple de méthode __call__\n",
    "class Bidon:\n",
    "    def __init__(self):\n",
    "        self.ct = 0\n",
    "    \n",
    "    def __call__(self,x):\n",
    "        self.ct += 1\n",
    "        return x**2\n",
    "    \n",
    "call_me = Bidon()\n",
    "print(call_me(3))\n",
    "print(call_me(6))\n",
    "print(call_me.ct)"
   ]
  },
  {
   "cell_type": "code",
   "execution_count": 24,
   "metadata": {},
   "outputs": [
    {
     "data": {
      "text/plain": [
       "284812298108489611757988937681460995615380088782304890986477195645969271404032323901"
      ]
     },
     "execution_count": 24,
     "metadata": {},
     "output_type": "execute_result"
    }
   ],
   "source": [
    "# avec fonction à un seul argument\n",
    "class memoise:\n",
    "    \n",
    "    def __init__(self,func):\n",
    "        self.func = func\n",
    "        self.memoire = {}\n",
    "    \n",
    "    def __call__(self,*x):\n",
    "        if x in self.memoire:\n",
    "            return self.memoire[x]\n",
    "        else:\n",
    "            val = self.func(*x)\n",
    "            self.memoire[x] = val\n",
    "            return val\n",
    "\n",
    "# decorateur équivalent à : \n",
    "#fibo = memoise(fibo)\n",
    "#puis appel normal fibo(50)\n",
    "\n",
    "@memoise\n",
    "def fibo(n):\n",
    "    if n<2:\n",
    "        return 1\n",
    "    else:\n",
    "        return fibo(n-1)+fibo(n-2)\n",
    "\n",
    "fibo(400)"
   ]
  },
  {
   "cell_type": "code",
   "execution_count": 25,
   "metadata": {
    "slideshow": {
     "slide_type": "slide"
    }
   },
   "outputs": [
    {
     "data": {
      "text/plain": [
       "573147844013817084101"
      ]
     },
     "execution_count": 25,
     "metadata": {},
     "output_type": "execute_result"
    }
   ],
   "source": [
    "# version plus générale\n",
    "class memoise:\n",
    "    \n",
    "    def __init__(self,f):\n",
    "        self.func = f\n",
    "        self.cache = {}\n",
    "        \n",
    "    def __call__(self,*args):\n",
    "        if args in self.cache:\n",
    "            return self.cache[args]\n",
    "        else:\n",
    "            val = self.func(*args)\n",
    "            self.cache[args] = val \n",
    "            return val\n",
    "        \n",
    "@memoise\n",
    "def fibo(n):\n",
    "    if n<2:\n",
    "        return 1\n",
    "    else:\n",
    "        return fibo(n-1)+fibo(n-2)\n",
    "    \n",
    "fibo(100)"
   ]
  },
  {
   "cell_type": "code",
   "execution_count": 27,
   "metadata": {
    "slideshow": {
     "slide_type": "slide"
    }
   },
   "outputs": [
    {
     "name": "stdout",
     "output_type": "stream",
     "text": [
      "{'add': 3, 'sub': 1}\n",
      "addition\n"
     ]
    }
   ],
   "source": [
    "class comptage:\n",
    "    counts = {}\n",
    "    \n",
    "    def __init__(self,f):\n",
    "        self.func = f\n",
    "        self.name = f.__name__\n",
    "        self.counts[self.name] = 0\n",
    "    \n",
    "    def __call__(self,*args):\n",
    "        self.counts[self.name] = self.counts[self.name] + 1\n",
    "        return self.func(*args)\n",
    "    \n",
    "    def __repr__(self):\n",
    "        return self.func.__doc__\n",
    "    \n",
    "    @staticmethod\n",
    "    def resultats():\n",
    "        return comptage.counts\n",
    "\n",
    "@comptage\n",
    "def add(x,y):\n",
    "    \"\"\"addition\"\"\"\n",
    "    return x+y\n",
    "\n",
    "@comptage \n",
    "def sub(x,y):\n",
    "    \"\"\"soustraction\"\"\"\n",
    "    return x-y\n",
    "\n",
    "add(3,sub(4,5))\n",
    "add(5,3)\n",
    "add(6,7)\n",
    "print(comptage.resultats())\n",
    "print(add)"
   ]
  },
  {
   "cell_type": "code",
   "execution_count": 38,
   "metadata": {},
   "outputs": [
    {
     "data": {
      "text/plain": [
       "{'add': 4, 'sub': 1}"
      ]
     },
     "execution_count": 38,
     "metadata": {},
     "output_type": "execute_result"
    }
   ],
   "source": [
    "add(6,8)\n",
    "comptage.resultats()"
   ]
  },
  {
   "cell_type": "code",
   "execution_count": 28,
   "metadata": {},
   "outputs": [
    {
     "name": "stdout",
     "output_type": "stream",
     "text": [
      "0.9789289707491233\n",
      "True\n",
      "-----\n",
      "0.41390938153502754\n",
      "0.9604165533647303\n",
      "True\n"
     ]
    }
   ],
   "source": [
    "# répétition\n",
    "def repeat(times):\n",
    "    def wrapper(func):\n",
    "            def newfunc(*args):\n",
    "                n = 0\n",
    "                success = False\n",
    "                while not(success) and n < times:\n",
    "                    success = func(*args)\n",
    "                    n = n + 1\n",
    "                return success\n",
    "            return newfunc\n",
    "    return wrapper\n",
    "\n",
    "from random import random\n",
    "\n",
    "# version de base\n",
    "def test(seuil):\n",
    "    a = random()\n",
    "    print(a)\n",
    "    return a>seuil\n",
    "\n",
    "print(test(0.7))\n",
    "print('-'*5)\n",
    "# version transformée\n",
    "@repeat(5)\n",
    "def test(seuil):\n",
    "    a = random()\n",
    "    print(a)\n",
    "    return a>seuil\n",
    "\n",
    "print(test(0.7))"
   ]
  },
  {
   "cell_type": "markdown",
   "metadata": {
    "slideshow": {
     "slide_type": "subslide"
    }
   },
   "source": [
    "## Classes abstraites\n",
    "\n",
    "On a vu que définir des classes abstraites seulement avec des exceptions `NotImplemtend`.  \n",
    "Ceci est aussi permit par le module `abc`, qui définit le décorateur de méthode abstraite"
   ]
  },
  {
   "cell_type": "code",
   "execution_count": 29,
   "metadata": {
    "slideshow": {
     "slide_type": "fragment"
    }
   },
   "outputs": [
    {
     "name": "stdout",
     "output_type": "stream",
     "text": [
      "<__main__.AbstractMaClass object at 0x0000014DB73CF208> <__main__.AbstractMaClass object at 0x0000014DB73CF308>\n"
     ]
    }
   ],
   "source": [
    "import abc \n",
    "\n",
    "class AbstractMaClass(object):\n",
    "    __metaclass__  = abc.ABCMeta\n",
    "\n",
    "    def __init__(self):\n",
    "        pass\n",
    "    \n",
    "    @abc.abstractmethod\n",
    "    def another(self):\n",
    "        pass\n",
    "\n",
    "a = AbstractMaClass()\n",
    "b = AbstractMaClass()\n",
    "print(a,b)"
   ]
  },
  {
   "cell_type": "code",
   "execution_count": 30,
   "metadata": {},
   "outputs": [
    {
     "name": "stdout",
     "output_type": "stream",
     "text": [
      "None\n"
     ]
    }
   ],
   "source": [
    "class Vrai(AbstractMaClass):\n",
    "    pass\n",
    "\n",
    "c = Vrai()\n",
    "print(c.another())  "
   ]
  },
  {
   "cell_type": "markdown",
   "metadata": {
    "slideshow": {
     "slide_type": "slide"
    }
   },
   "source": [
    "## Héritage multiple\n",
    "On peut faire hériter une classe de plusieurs classes pour récupérer tous les traits et attributs en les combinant.  \n",
    "La syntaxe est simple ... la sémantique un peu moins.  \n",
    "Imaginons un héritage multiple avec des classes ayant des méthodes de même nom ...  "
   ]
  },
  {
   "cell_type": "code",
   "execution_count": 31,
   "metadata": {
    "slideshow": {
     "slide_type": "subslide"
    }
   },
   "outputs": [
    {
     "name": "stdout",
     "output_type": "stream",
     "text": [
      "appel de C.m\n"
     ]
    }
   ],
   "source": [
    "class A:\n",
    "    pass\n",
    "    def m(self):\n",
    "        print(\"appel de A.m\")\n",
    "\n",
    "class B(A):\n",
    "    pass\n",
    "    def m1(self):\n",
    "        print(\"appel de B.m\")\n",
    "    \n",
    "class C(A):\n",
    "    def m(self):\n",
    "        print(\"appel de C.m\")\n",
    "\n",
    "# héritage multiple \n",
    "class D(B,C):\n",
    "    pass\n",
    "\n",
    "a = D()\n",
    "a.m()"
   ]
  },
  {
   "cell_type": "markdown",
   "metadata": {
    "slideshow": {
     "slide_type": "subslide"
    }
   },
   "source": [
    "Python résoud les héritages de fonction en commençant par la première superclasse si possible, puis les autres en suivant. \n",
    "\n",
    "**Quand faire de l'héritage multiple ?**\n",
    "- jamais ? On peut toujours s'en tirer en composant les classes B et C\n",
    "        class D: \n",
    "            def __init__(self):\n",
    "                self._b = B()\n",
    "                self._c = C()\n",
    "- en ne mélangeant pas hiérarchie et utilisation. dans l'exemple ci-dessus soit B soit C ne devrait pas \n",
    "    être transmis à D, en tout cas pas avec des parents directs\n",
    "\n",
    "**Exemple**  \n",
    "Imaginons une classe polygone, avec des sous-classes rectangle, losange, carré.  \n",
    "Il est tentant de considérer le carré comme héritant à la fois de losange et rectangle.  \n",
    "En pratique il suffit d'hériter d'une seule classe pour \"faire le job\".  "
   ]
  }
 ],
 "metadata": {
  "celltoolbar": "Slideshow",
  "kernelspec": {
   "display_name": "Python 3",
   "language": "python",
   "name": "python3"
  },
  "language_info": {
   "codemirror_mode": {
    "name": "ipython",
    "version": 3
   },
   "file_extension": ".py",
   "mimetype": "text/x-python",
   "name": "python",
   "nbconvert_exporter": "python",
   "pygments_lexer": "ipython3",
   "version": "3.7.9"
  }
 },
 "nbformat": 4,
 "nbformat_minor": 1
}
