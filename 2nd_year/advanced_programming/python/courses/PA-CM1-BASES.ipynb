{
 "cells": [
  {
   "cell_type": "markdown",
   "metadata": {
    "slideshow": {
     "slide_type": "slide"
    }
   },
   "source": [
    "# Programmation avancée Python & C++\n",
    "## Philippe Muller & Christine Regis\n",
    "- Présentation des langages orientés objet Python/C++ et leur connexion\n",
    "- Introduction aux concepts avancés dans ces langages\n",
    "- Présentation de quelques outils et bibliothèques scientifiques\n",
    "\n",
    "## Organisation \n",
    "**Deux parties**\n",
    "- Python \n",
    "    - 5x2h de cours/TD\n",
    "    - 4x2h de TP\n",
    "- C++ (Christine Régis)\n",
    "    - 5x2h de cours/TD\n",
    "    - 4x2h de TP \n",
    "\n",
    "**Evaluation**\n",
    "- un examen sur feuille pour chaque partie\n",
    "- un TP à rendre pour chaque partie\n",
    "\n",
    "**Pour plus d'informations**    \n",
    "Cours Python en ligne sur [ma page web](http://www.irit.fr/~Philippe.Muller) (statique+interactif) et/ou sur la page Moodle du cours  \n",
    "Pour utiliser la version interactive, il vous faut l'interpréteur ipython, avec le notebook (jupyter)  \n",
    "Vous pouvez installer tout d'un coup avec la distribution [Anaconda](https://www.anaconda.com/distribution/) (version python 3.xx)\n",
    "\n",
    "## Plan du cours\n",
    "- Motivations / Présentation de python\n",
    "- Syntaxe de base\n",
    "- Programmation objet\n",
    "- Concepts avancés: itérateurs, programmation fonctionnelle, décorateurs\n",
    "- Développement en python: IDE, test, debugging\n",
    "- Présentation des outils scientifiques, notamment pour SRI\n",
    "    - traitement du signal/audio/image\n",
    "    - apprentissage automatique\n",
    "    - middleware pour programmation de robot  \n",
    "\n",
    "## Motivations\n",
    "Pourquoi python ? Productivité + performances \n",
    "- un langage devenu très populaire dans la communauté scientifique (et au-delà)\n",
    "- langage de haut niveau: permet un développement rapide\n",
    "     - syntaxe simple\n",
    "     - gestion de la mémoire implicite\n",
    "     - librairie standard importante\n",
    "- autres avantages\n",
    "     - portable / multi-plateformes\n",
    "     - permet d'utiliser des librairies dans d'autres langages facilement\n",
    "\n",
    "[cf aussi intro cours scipy/varoquaux]\n",
    "\n",
    "## Caractéristiques de base\n",
    "- langage interprété (avec bytecode)\n",
    "- gestion mémoire transparente (ou presque)\n",
    "- typage implicite\n",
    "- typage dynamique\n",
    "- orienté objet (pas nécessaire mais utile)\n",
    "\n",
    "## Syntaxe de base\n",
    "- typage et types simples\n",
    "- structure contrôle\n",
    "- types natifs structurés\n",
    "- fonctions\n",
    "\n",
    "## Types de base\n",
    "- entiers (integer) 1, -3\n",
    "- nombre à virgule flottante (float) 2.0, 5.45\n",
    "- chaines de caractères (str) \"hello\" ou 'hello'\n",
    "- booléen (bool) True False\n",
    "\n",
    "On dispose des **opérateurs** classiques sur ces types de données.\n",
    "\n",
    "## Typage\n",
    "le typage est implicite en python : "
   ]
  },
  {
   "cell_type": "code",
   "execution_count": 19,
   "metadata": {
    "slideshow": {
     "slide_type": "fragment"
    }
   },
   "outputs": [
    {
     "name": "stdout",
     "output_type": "stream",
     "text": [
      "a= 0 b= hello c= 1.3\n",
      "----------------\n",
      "type de a= <class 'int'>\n",
      "----------------\n",
      "1.3\n",
      "----------------\n",
      "<class 'float'>\n"
     ]
    }
   ],
   "source": [
    "a = 0\n",
    "b = \"hello\"\n",
    "c = 1.3\n",
    "\n",
    "print(\"a=\",a,\"b=\",b,\"c=\",c)\n",
    "print(\"----------------\")\n",
    "print(\"type de a=\",type(a))\n",
    "print(\"----------------\")\n",
    "a = a + c\n",
    "print(a)\n",
    "print(\"----------------\")\n",
    "print(type(a))"
   ]
  },
  {
   "cell_type": "markdown",
   "metadata": {
    "slideshow": {
     "slide_type": "subslide"
    }
   },
   "source": [
    "## Structures de contrôles\n",
    "Les structures imbriquées sont indiquées par des **tabulations**"
   ]
  },
  {
   "cell_type": "code",
   "execution_count": 25,
   "metadata": {
    "slideshow": {
     "slide_type": "fragment"
    }
   },
   "outputs": [
    {
     "name": "stdout",
     "output_type": "stream",
     "text": [
      "14\n",
      "?\n",
      "---------------\n",
      "là c'est trop\n"
     ]
    }
   ],
   "source": [
    "# Affectations\n",
    "b = 2\n",
    "a = 12 + b\n",
    "# Tests: tabulations obligatoires\n",
    "if a>b: \n",
    "    print(a)\n",
    "    print(\"?\")\n",
    "else:\n",
    "    print(b)  \n",
    "\n",
    "print(\"---------------\")\n",
    "\n",
    "if a==1: \n",
    "    print (\"   ok\") \n",
    "elif a==2: \n",
    "    print(\"toujours ok\")\n",
    "else:\n",
    "    print(\"là c'est trop\" )"
   ]
  },
  {
   "cell_type": "markdown",
   "metadata": {
    "slideshow": {
     "slide_type": "slide"
    }
   },
   "source": [
    "## Boucles"
   ]
  },
  {
   "cell_type": "code",
   "execution_count": 20,
   "metadata": {
    "slideshow": {
     "slide_type": "fragment"
    }
   },
   "outputs": [
    {
     "name": "stdout",
     "output_type": "stream",
     "text": [
      "Boucle while\n",
      "4 3 2 1 0 end\n",
      "---------------\n",
      "Boucle for\n",
      "0 1 2 3 4 5 6 7 8 9 "
     ]
    }
   ],
   "source": [
    "a = 5\n",
    "\n",
    "print(\"Boucle while\")\n",
    "while a>0:\n",
    "    a = a - 1           # le corps de la boucle est indiquée par des tabulations\n",
    "    print(a,end=\" \")\n",
    "\n",
    "print(\"end\")\n",
    "print(\"---------------\")\n",
    "\n",
    "print(\"Boucle for\")\n",
    "for i in range(10):     # \"for\" itère sur une séquence de valeurs \n",
    "    print(i,end=\" \")"
   ]
  },
  {
   "cell_type": "markdown",
   "metadata": {
    "slideshow": {
     "slide_type": "fragment"
    }
   },
   "source": [
    "## Fonctions\n",
    "le corps des fonctions est indiqué par des **tabulations**"
   ]
  },
  {
   "cell_type": "code",
   "execution_count": 24,
   "metadata": {
    "slideshow": {
     "slide_type": "fragment"
    }
   },
   "outputs": [
    {
     "name": "stdout",
     "output_type": "stream",
     "text": [
      "jkjk\n",
      "------------------\n",
      "hello\n",
      "------------------\n",
      "[1, 3]\n",
      "------------------\n"
     ]
    },
    {
     "ename": "TypeError",
     "evalue": "'>' not supported between instances of 'str' and 'int'",
     "output_type": "error",
     "traceback": [
      "\u001b[1;31m---------------------------------------------------------------------------\u001b[0m",
      "\u001b[1;31mTypeError\u001b[0m                                 Traceback (most recent call last)",
      "\u001b[1;32m~\\AppData\\Local\\Temp\\ipykernel_19192\\1702149668.py\u001b[0m in \u001b[0;36m<module>\u001b[1;34m\u001b[0m\n\u001b[0;32m     12\u001b[0m \u001b[0mprint\u001b[0m\u001b[1;33m(\u001b[0m\u001b[0mmax\u001b[0m\u001b[1;33m(\u001b[0m\u001b[1;33m[\u001b[0m\u001b[1;36m1\u001b[0m\u001b[1;33m,\u001b[0m\u001b[1;36m2\u001b[0m\u001b[1;33m]\u001b[0m\u001b[1;33m,\u001b[0m\u001b[1;33m[\u001b[0m\u001b[1;36m1\u001b[0m\u001b[1;33m,\u001b[0m\u001b[1;36m3\u001b[0m\u001b[1;33m]\u001b[0m\u001b[1;33m)\u001b[0m\u001b[1;33m)\u001b[0m\u001b[1;33m\u001b[0m\u001b[1;33m\u001b[0m\u001b[0m\n\u001b[0;32m     13\u001b[0m \u001b[0mprint\u001b[0m\u001b[1;33m(\u001b[0m\u001b[1;34m\"------------------\"\u001b[0m\u001b[1;33m)\u001b[0m\u001b[1;33m\u001b[0m\u001b[1;33m\u001b[0m\u001b[0m\n\u001b[1;32m---> 14\u001b[1;33m \u001b[0mprint\u001b[0m\u001b[1;33m(\u001b[0m\u001b[0mmax\u001b[0m\u001b[1;33m(\u001b[0m\u001b[1;34m\"hello\"\u001b[0m\u001b[1;33m,\u001b[0m\u001b[1;36m34\u001b[0m\u001b[1;33m)\u001b[0m\u001b[1;33m)\u001b[0m \u001b[1;31m# Erreur\u001b[0m\u001b[1;33m\u001b[0m\u001b[1;33m\u001b[0m\u001b[0m\n\u001b[0m",
      "\u001b[1;32m~\\AppData\\Local\\Temp\\ipykernel_19192\\1702149668.py\u001b[0m in \u001b[0;36mmax\u001b[1;34m(a, b)\u001b[0m\n\u001b[0;32m      1\u001b[0m \u001b[1;32mdef\u001b[0m \u001b[0mmax\u001b[0m\u001b[1;33m(\u001b[0m\u001b[0ma\u001b[0m\u001b[1;33m,\u001b[0m\u001b[0mb\u001b[0m\u001b[1;33m)\u001b[0m\u001b[1;33m:\u001b[0m\u001b[1;33m\u001b[0m\u001b[1;33m\u001b[0m\u001b[0m\n\u001b[1;32m----> 2\u001b[1;33m     \u001b[1;32mif\u001b[0m \u001b[0ma\u001b[0m\u001b[1;33m>\u001b[0m\u001b[0mb\u001b[0m\u001b[1;33m:\u001b[0m\u001b[1;33m\u001b[0m\u001b[1;33m\u001b[0m\u001b[0m\n\u001b[0m\u001b[0;32m      3\u001b[0m         \u001b[1;32mreturn\u001b[0m \u001b[0ma\u001b[0m\u001b[1;33m\u001b[0m\u001b[1;33m\u001b[0m\u001b[0m\n\u001b[0;32m      4\u001b[0m     \u001b[1;32melse\u001b[0m\u001b[1;33m:\u001b[0m\u001b[1;33m\u001b[0m\u001b[1;33m\u001b[0m\u001b[0m\n\u001b[0;32m      5\u001b[0m         \u001b[1;32mreturn\u001b[0m \u001b[0mb\u001b[0m\u001b[1;33m\u001b[0m\u001b[1;33m\u001b[0m\u001b[0m\n",
      "\u001b[1;31mTypeError\u001b[0m: '>' not supported between instances of 'str' and 'int'"
     ]
    }
   ],
   "source": [
    "def max(a,b):\n",
    "    if a>b:\n",
    "        return a\n",
    "    else:\n",
    "        return b\n",
    "print(max(\"fgjsd\",\"jkjk\"))\n",
    "\n",
    "# Attention ! les paramètres ne sont pas typés : attention au sens des opérateurs\n",
    "print(\"------------------\")\n",
    "print(max(\"bonjour\",\"hello\"))\n",
    "print(\"------------------\")\n",
    "print(max([1,2],[1,3]))\n",
    "print(\"------------------\")\n",
    "print(max(\"hello\",34)) # Erreur"
   ]
  },
  {
   "cell_type": "markdown",
   "metadata": {
    "slideshow": {
     "slide_type": "slide"
    }
   },
   "source": [
    "Types structurés natifs\n",
    "------------------------\n",
    "\n",
    "En plus des types de base, python peut manipuler directement les types de données\n",
    "structurés suivants :\n",
    "\n",
    "   - tuples \n",
    "   - listes \n",
    "   - tables associatives (appelées dictionnaires)\n",
    "  \n",
    "  \n",
    " Dans tous les cas, on accède aux éléments avec un index, signalé entre []\n",
    " \n",
    " Dans le cas des listes et tuples, c'est un entier donnant la position (commence à 0)\n",
    " \n",
    " Dans le cas des tables, l'index fait partie de la définition de la table"
   ]
  },
  {
   "cell_type": "code",
   "execution_count": 27,
   "metadata": {
    "slideshow": {
     "slide_type": "subslide"
    }
   },
   "outputs": [
    {
     "name": "stdout",
     "output_type": "stream",
     "text": [
      "4\n"
     ]
    }
   ],
   "source": [
    "# tuple ... on peut mélanger les types\n",
    "t=(1,3,4,\"hello\")\n",
    "print(t[2])"
   ]
  },
  {
   "cell_type": "code",
   "execution_count": 28,
   "metadata": {
    "slideshow": {
     "slide_type": "fragment"
    }
   },
   "outputs": [
    {
     "data": {
      "text/plain": [
       "(1, 2, 3, 4, 5)"
      ]
     },
     "execution_count": 28,
     "metadata": {},
     "output_type": "execute_result"
    }
   ],
   "source": [
    "(1,2,3)+(4,5)"
   ]
  },
  {
   "cell_type": "code",
   "execution_count": 29,
   "metadata": {
    "slideshow": {
     "slide_type": "fragment"
    }
   },
   "outputs": [
    {
     "ename": "TypeError",
     "evalue": "'tuple' object does not support item assignment",
     "output_type": "error",
     "traceback": [
      "\u001b[1;31m---------------------------------------------------------------------------\u001b[0m",
      "\u001b[1;31mTypeError\u001b[0m                                 Traceback (most recent call last)",
      "\u001b[1;32m~\\AppData\\Local\\Temp\\ipykernel_19192\\1752918241.py\u001b[0m in \u001b[0;36m<module>\u001b[1;34m\u001b[0m\n\u001b[0;32m      1\u001b[0m \u001b[1;31m# ne  peut être modifié \"immutable\"\u001b[0m\u001b[1;33m\u001b[0m\u001b[1;33m\u001b[0m\u001b[1;33m\u001b[0m\u001b[0m\n\u001b[1;32m----> 2\u001b[1;33m \u001b[0mt\u001b[0m\u001b[1;33m[\u001b[0m\u001b[1;36m0\u001b[0m\u001b[1;33m]\u001b[0m \u001b[1;33m=\u001b[0m \u001b[1;36m0\u001b[0m\u001b[1;33m\u001b[0m\u001b[1;33m\u001b[0m\u001b[0m\n\u001b[0m",
      "\u001b[1;31mTypeError\u001b[0m: 'tuple' object does not support item assignment"
     ]
    }
   ],
   "source": [
    "# ne  peut être modifié \"immutable\"\n",
    "t[0] = 0"
   ]
  },
  {
   "cell_type": "code",
   "execution_count": 30,
   "metadata": {
    "slideshow": {
     "slide_type": "subslide"
    }
   },
   "outputs": [
    {
     "name": "stdout",
     "output_type": "stream",
     "text": [
      "2\n"
     ]
    }
   ],
   "source": [
    "# listes ... on peut mélanger les types, mais cela n'a pas trop de sens\n",
    "l=[1,2,3,4,\"hello\"]\n",
    "print(l[1]) "
   ]
  },
  {
   "cell_type": "code",
   "execution_count": 31,
   "metadata": {
    "slideshow": {
     "slide_type": "fragment"
    }
   },
   "outputs": [
    {
     "data": {
      "text/plain": [
       "[1, 2, 3, 4, 5]"
      ]
     },
     "execution_count": 31,
     "metadata": {},
     "output_type": "execute_result"
    }
   ],
   "source": [
    "[1,2,3]+[4,5]"
   ]
  },
  {
   "cell_type": "code",
   "execution_count": 32,
   "metadata": {
    "slideshow": {
     "slide_type": "fragment"
    }
   },
   "outputs": [
    {
     "name": "stdout",
     "output_type": "stream",
     "text": [
      "[1, 2, 3, 4, 6]\n"
     ]
    }
   ],
   "source": [
    "# mutable\n",
    "l[4] = 6    \n",
    "print(l)"
   ]
  },
  {
   "cell_type": "markdown",
   "metadata": {
    "slideshow": {
     "slide_type": "subslide"
    }
   },
   "source": [
    "## Indexation des séquences\n",
    "\n",
    "valable pour tuple, liste, et chaines de caractères"
   ]
  },
  {
   "cell_type": "code",
   "execution_count": 82,
   "metadata": {
    "slideshow": {
     "slide_type": "fragment"
    }
   },
   "outputs": [
    {
     "name": "stdout",
     "output_type": "stream",
     "text": [
      "[1]\n"
     ]
    }
   ],
   "source": [
    "# indexation négatives depuis la fin\n",
    "l[-1]\n",
    "print(l)"
   ]
  },
  {
   "cell_type": "code",
   "execution_count": 87,
   "metadata": {
    "slideshow": {
     "slide_type": "fragment"
    }
   },
   "outputs": [
    {
     "name": "stdout",
     "output_type": "stream",
     "text": [
      "[3, 4, 6]\n",
      "[1, 2]\n",
      "[2, 3]\n",
      "[4]\n",
      "[1, 2, 3, 4, 6]\n"
     ]
    }
   ],
   "source": [
    " # \"tranches\": deuxième borne non incluse\n",
    "print(l[2:5])\n",
    "print(l[:2])\n",
    "print(l[1:-2])\n",
    "print(l[3:4])\n",
    "print(l[:3]+l[3:])"
   ]
  },
  {
   "cell_type": "code",
   "execution_count": 20,
   "metadata": {
    "slideshow": {
     "slide_type": "fragment"
    }
   },
   "outputs": [
    {
     "name": "stdout",
     "output_type": "stream",
     "text": [
      "[1, 3, 6]\n",
      "[6, 4, 3, 2, 1]\n"
     ]
    }
   ],
   "source": [
    "# avec des sauts  \n",
    "print(l[::2])\n",
    "print(l[::-1])"
   ]
  },
  {
   "cell_type": "markdown",
   "metadata": {
    "slideshow": {
     "slide_type": "subslide"
    }
   },
   "source": [
    "La variable liste est en fait un nom pour une donnée (un peu comme un pointeur) "
   ]
  },
  {
   "cell_type": "code",
   "execution_count": 21,
   "metadata": {
    "slideshow": {
     "slide_type": "fragment"
    }
   },
   "outputs": [
    {
     "name": "stdout",
     "output_type": "stream",
     "text": [
      "[8, 2]\n",
      "[8, 2]\n"
     ]
    }
   ],
   "source": [
    "l = [1,2] \n",
    "a = l\n",
    "a[0]=8\n",
    "print(a)\n",
    "print(l)"
   ]
  },
  {
   "cell_type": "markdown",
   "metadata": {
    "slideshow": {
     "slide_type": "subslide"
    }
   },
   "source": [
    "Mais les sous-listes sont copiées:"
   ]
  },
  {
   "cell_type": "code",
   "execution_count": 22,
   "metadata": {
    "slideshow": {
     "slide_type": "fragment"
    }
   },
   "outputs": [
    {
     "name": "stdout",
     "output_type": "stream",
     "text": [
      "[1, 2, 3]\n"
     ]
    }
   ],
   "source": [
    "l = [1,2,3]\n",
    "a = l[:]\n",
    "b = l[::-1]\n",
    "a[0] = 8\n",
    "b[0] = -2\n",
    "print(l) "
   ]
  },
  {
   "cell_type": "markdown",
   "metadata": {
    "slideshow": {
     "slide_type": "subslide"
    }
   },
   "source": [
    "## Dictionnaires (Tables associatives)"
   ]
  },
  {
   "cell_type": "code",
   "execution_count": 89,
   "metadata": {
    "slideshow": {
     "slide_type": "fragment"
    }
   },
   "outputs": [
    {
     "name": "stdout",
     "output_type": "stream",
     "text": [
      "bon exemple, merci\n"
     ]
    }
   ],
   "source": [
    "# \n",
    "d = {\"a\":(1,2), \n",
    "     (1,2):\"a\", \n",
    "     \"bxxxxxz\":35, \n",
    "     45:\"bon exemple, merci\"}\n",
    "print(d[45])"
   ]
  },
  {
   "cell_type": "markdown",
   "metadata": {
    "slideshow": {
     "slide_type": "fragment"
    }
   },
   "source": [
    "là encore pas trop de contraintes, mais attention à ce que ça veut dire"
   ]
  },
  {
   "cell_type": "markdown",
   "metadata": {
    "slideshow": {
     "slide_type": "subslide"
    }
   },
   "source": [
    "Les entrées sont créées dynamiquement :"
   ]
  },
  {
   "cell_type": "code",
   "execution_count": 24,
   "metadata": {
    "slideshow": {
     "slide_type": "fragment"
    }
   },
   "outputs": [
    {
     "name": "stdout",
     "output_type": "stream",
     "text": [
      "{'a': (1, 2), (1, 2): 'a', 'bxxxxxz': 35, 45: 'bon exemple, merci', 'rt': 0}\n"
     ]
    }
   ],
   "source": [
    "d[\"rt\"] = 0\n",
    "print(d)"
   ]
  },
  {
   "cell_type": "markdown",
   "metadata": {
    "slideshow": {
     "slide_type": "subslide"
    }
   },
   "source": [
    "Tout type immuable peut servir d'index (cela exclut donc listes et dictionnaires)"
   ]
  },
  {
   "cell_type": "code",
   "execution_count": 25,
   "metadata": {
    "slideshow": {
     "slide_type": "fragment"
    }
   },
   "outputs": [],
   "source": [
    "d2 = {1:3, 4:5, 1:123}\n",
    "d3 = {(1,2):\"?\",(4,5):\".\"}\n",
    "# seule contrainte: index immutable"
   ]
  },
  {
   "cell_type": "markdown",
   "metadata": {
    "slideshow": {
     "slide_type": "subslide"
    }
   },
   "source": [
    "### Structures vides"
   ]
  },
  {
   "cell_type": "code",
   "execution_count": 26,
   "metadata": {
    "slideshow": {
     "slide_type": "fragment"
    }
   },
   "outputs": [
    {
     "name": "stdout",
     "output_type": "stream",
     "text": [
      "(2,)\n",
      "2\n"
     ]
    }
   ],
   "source": [
    "()  # ---> tuple\n",
    "[]  # ---> liste\n",
    "{}  # ---> dictionnaire\n",
    "\n",
    "print((2,)) # tuple à un seul élément\n",
    "print((2))"
   ]
  },
  {
   "cell_type": "markdown",
   "metadata": {
    "slideshow": {
     "slide_type": "subslide"
    }
   },
   "source": [
    "## Itérations\n",
    "\n",
    "Les types structurés sont prévus pour être l'objet d'itérations"
   ]
  },
  {
   "cell_type": "code",
   "execution_count": 27,
   "metadata": {
    "slideshow": {
     "slide_type": "fragment"
    }
   },
   "outputs": [
    {
     "name": "stdout",
     "output_type": "stream",
     "text": [
      "1 2 3 4 5 \n",
      "a 3 -1.5 "
     ]
    }
   ],
   "source": [
    "for x in [1,2,3,4,5]: \n",
    "    print(x,end=\" \") \n",
    "    \n",
    "\n",
    "print()  \n",
    "for x in (\"a\",3,-1.5):\n",
    "    print(x,end=\" \")"
   ]
  },
  {
   "cell_type": "code",
   "execution_count": 28,
   "metadata": {
    "slideshow": {
     "slide_type": "fragment"
    }
   },
   "outputs": [
    {
     "name": "stdout",
     "output_type": "stream",
     "text": [
      "1 2\n",
      "10 3\n",
      "100 45\n"
     ]
    }
   ],
   "source": [
    "d = {1:2,10:3,100:45}\n",
    "for x in d:\n",
    "    print(x, d[x])"
   ]
  },
  {
   "cell_type": "code",
   "execution_count": 4,
   "metadata": {
    "slideshow": {
     "slide_type": "fragment"
    }
   },
   "outputs": [
    {
     "name": "stdout",
     "output_type": "stream",
     "text": [
      "2 3 45 3\n"
     ]
    }
   ],
   "source": [
    "d =  {1:2,10:3, 100 :45} \n",
    "for cle in d:\n",
    "    print(d[cle],end=\" \")\n",
    "    "
   ]
  },
  {
   "cell_type": "markdown",
   "metadata": {
    "slideshow": {
     "slide_type": "slide"
    }
   },
   "source": [
    "  ## Opérations sur les types structurés\n"
   ]
  },
  {
   "cell_type": "code",
   "execution_count": 7,
   "metadata": {
    "slideshow": {
     "slide_type": "fragment"
    }
   },
   "outputs": [
    {
     "name": "stdout",
     "output_type": "stream",
     "text": [
      "1 2\n",
      "2\n",
      "[2, 3]\n",
      "1 2\n"
     ]
    }
   ],
   "source": [
    "#affectation : on peut décomposer\n",
    "(a,b,c) = (1,2,3)\n",
    "print(a,b)\n",
    "\n",
    "(a,b) = (b,a)\n",
    "# moins utile mais possible\n",
    "l = [1,2,3]\n",
    "[a,b,c] = l \n",
    "print(b)\n",
    "\n",
    "# attention \n",
    "a, *b, c, d = [1,2,3,4,5]\n",
    "print(b)\n",
    "\n",
    "# \n",
    "a, b, *_ = [1,2,3,4,5]\n",
    "print(a,b)"
   ]
  },
  {
   "cell_type": "code",
   "execution_count": null,
   "metadata": {},
   "outputs": [],
   "source": []
  },
  {
   "cell_type": "code",
   "execution_count": 31,
   "metadata": {
    "slideshow": {
     "slide_type": "subslide"
    }
   },
   "outputs": [
    {
     "name": "stdout",
     "output_type": "stream",
     "text": [
      "5\n",
      "7\n",
      "14\n"
     ]
    }
   ],
   "source": [
    "# dans les itérations\n",
    "l = [(1,2),(1,3),(4,5)]\n",
    "for (i,j) in l:\n",
    "    print(i+2*j)"
   ]
  },
  {
   "cell_type": "code",
   "execution_count": null,
   "metadata": {},
   "outputs": [],
   "source": []
  },
  {
   "cell_type": "code",
   "execution_count": 32,
   "metadata": {},
   "outputs": [
    {
     "name": "stdout",
     "output_type": "stream",
     "text": [
      "5\n",
      "7\n",
      "14\n"
     ]
    }
   ],
   "source": [
    "for x in l:\n",
    "    print(x[0]+2*x[1])"
   ]
  },
  {
   "cell_type": "code",
   "execution_count": 33,
   "metadata": {
    "slideshow": {
     "slide_type": "fragment"
    }
   },
   "outputs": [
    {
     "name": "stdout",
     "output_type": "stream",
     "text": [
      "2 1\n"
     ]
    }
   ],
   "source": [
    "# application  : échange de variables\n",
    "(a,b) = (b,a)  \n",
    "print(a,b)"
   ]
  },
  {
   "cell_type": "code",
   "execution_count": 34,
   "metadata": {
    "slideshow": {
     "slide_type": "fragment"
    }
   },
   "outputs": [
    {
     "name": "stdout",
     "output_type": "stream",
     "text": [
      "range(1, 10)\n",
      "[1, 2, 3, 4, 5, 6, 7, 8, 9]\n"
     ]
    }
   ],
   "source": [
    "# une séquence utile sur les entiers \n",
    "print(range(1,10))\n",
    "print(list(range(1,10)))"
   ]
  },
  {
   "cell_type": "markdown",
   "metadata": {
    "slideshow": {
     "slide_type": "subslide"
    }
   },
   "source": [
    "## Fonctions, opérateurs et méthodes\n",
    "------------------------------\n",
    "\n",
    "Les types de données en python sont en fait des **objets**, et de nombreuses opérations\n",
    "que l'on peut faire dessus sont définies comme des méthodes de ces objets.\n",
    "\n",
    "La syntaxe pour ces opérations suit le format suivant:\n",
    "\n",
    "> objet.methode(paramètres)\n",
    "\n",
    "Exemple"
   ]
  },
  {
   "cell_type": "code",
   "execution_count": 9,
   "metadata": {
    "slideshow": {
     "slide_type": "fragment"
    }
   },
   "outputs": [
    {
     "name": "stdout",
     "output_type": "stream",
     "text": [
      "[3, 12, -6, 4, 20]\n"
     ]
    }
   ],
   "source": [
    "  # définissons une liste\n",
    "l = [3,12,-6,4]\n",
    "# append est le  nom de la méthode qui ajoute un élément à une liste\n",
    "l.append(20)\n",
    "print(l)"
   ]
  },
  {
   "cell_type": "markdown",
   "metadata": {
    "slideshow": {
     "slide_type": "slide"
    }
   },
   "source": [
    "## Quelques méthodes et opérateurs utiles \n",
    "Pour les listes:\n",
    "- append: ajoute un élément en fin de liste\n",
    "- extend: ajoute une liste à la fin d'une liste (cf aussi opérateur +)\n",
    "- sort: trie sur place par ordre croissant, si les valeurs sont comparables\n",
    "- reverse: renverse sur place\n",
    "- \"+\" (opérateur) concatène 2 listes pour faire une 3e liste\n",
    "- sorted (fonction) trie en copiant\n",
    "\n",
    "cf [la documentation python pour les listes](http://docs.python.org/2.7/library/stdtypes.html#sequence-types-str-unicode-list-tuple-bytearray-buffer-xrange)\n",
    "    "
   ]
  },
  {
   "cell_type": "code",
   "execution_count": 90,
   "metadata": {
    "slideshow": {
     "slide_type": "subslide"
    }
   },
   "outputs": [
    {
     "name": "stdout",
     "output_type": "stream",
     "text": [
      "[1, 2, 3, 4, 4, 5]\n",
      "4\n",
      "[1, 2, 3, 4, 4]\n",
      "None\n"
     ]
    }
   ],
   "source": [
    "l = [1,2]\n",
    "l.extend([3,4])\n",
    "print(l+[4,5])\n",
    "print(len(l))\n",
    "l.append(4)\n",
    "print(l)\n",
    "\n",
    "print([].append(3))"
   ]
  },
  {
   "cell_type": "markdown",
   "metadata": {
    "slideshow": {
     "slide_type": "subslide"
    }
   },
   "source": [
    "**Pour les dictionnaires**\n",
    "- keys: liste des \"clefs\" ou valeurs de l'index de la table\n",
    "- values: liste des valeurs\n",
    "- items: listes des couples (clef,valeur)\n",
    "- get: récupère une valeur avec la clef, ou une valeur par défaut\n",
    "- initialisation à partir de couples: dict\n",
    "\n",
    "> cf [la documentation python pour les dict](http://docs.python.org/2.7/library/stdtypes.html#mapping-types-dict)\n",
    "\n",
    "**Pour les chaines**\n",
    "- \"+\" (opérateur) pour concaténer 2 chaines\n",
    "- join pour concaténer une liste de chaine avec un séparateur\n",
    "- split pour diviser une chaine selon un séparateur\n",
    "\n",
    "> cf [la documentation python pour les chaines](http://docs.python.org/2.7/library/stdtypes.html#sequence-types-str-unicode-list-tuple-bytearray-buffer-xrange)\n",
    "\n",
    "**Pour tous**\n",
    "- len: **fonction** donnant le nombre d'éléments\n",
    "- in: **opérateur** (infixe), teste l'appartenance (dans le cas d'un dictionnaire, teste la présence d'une clef)\n",
    "\n",
    "**Pour les dictionnaires**\n",
    "- del d[clef] supprime une entrée"
   ]
  },
  {
   "cell_type": "code",
   "execution_count": 12,
   "metadata": {
    "slideshow": {
     "slide_type": "subslide"
    }
   },
   "outputs": [
    {
     "name": "stdout",
     "output_type": "stream",
     "text": [
      "{'a': 23, 'b': 35, 'x': 27}\n",
      "dict_keys(['a', 'b', 'x'])\n",
      "dict_values([23, 35, 27])\n",
      "dict_items([('a', 23), ('b', 35), ('x', 27)])\n",
      "3\n",
      "23\n",
      "0\n",
      "{'b': 35, 'x': 27}\n",
      "0\n",
      "{'a': 1, 'b': 3}\n",
      "True\n"
     ]
    }
   ],
   "source": [
    "d = {\"a\":23, \"b\":35, \"x\":27}\n",
    "print(d)\n",
    "print(d.keys())\n",
    "print(d.values())\n",
    "print(d.items())\n",
    "print(len(d))\n",
    "print(d.get('a',0))\n",
    "print(d.get('d',0))\n",
    "del d['a']\n",
    "print(d)\n",
    "print(d.get(\"y\",0))\n",
    "print(dict([(\"a\",1),(\"b\",3)]))\n",
    "print('x' in d)"
   ]
  },
  {
   "cell_type": "code",
   "execution_count": 17,
   "metadata": {
    "slideshow": {
     "slide_type": "subslide"
    }
   },
   "outputs": [
    {
     "name": "stdout",
     "output_type": "stream",
     "text": [
      "helloworld\n",
      "['hello', 'world', '!']\n",
      "hello world !\n"
     ]
    }
   ],
   "source": [
    "print(\"hello\"+\"world\")\n",
    "print(\"hello  world !\".split())\n",
    "print(\" \".join([\"hello\",\"world\",\"!\"]))"
   ]
  },
  {
   "cell_type": "markdown",
   "metadata": {
    "slideshow": {
     "slide_type": "subslide"
    }
   },
   "source": [
    "# Itérations : alternatives"
   ]
  },
  {
   "cell_type": "code",
   "execution_count": 39,
   "metadata": {
    "slideshow": {
     "slide_type": "fragment"
    }
   },
   "outputs": [
    {
     "name": "stdout",
     "output_type": "stream",
     "text": [
      "[1, 2, 3, 9, 100]\n",
      "[1, 4, 9, 81, 10000]\n"
     ]
    }
   ],
   "source": [
    "# iterations abrégées\n",
    "[x**2 for x in range(10)]\n",
    "\n",
    "l1 = [1,2,3,9,100]\n",
    "l2 = [x**2 for x in l1]\n",
    "print(l1)\n",
    "print(l2)"
   ]
  },
  {
   "cell_type": "code",
   "execution_count": 40,
   "metadata": {
    "slideshow": {
     "slide_type": "fragment"
    }
   },
   "outputs": [
    {
     "name": "stdout",
     "output_type": "stream",
     "text": [
      "0 -> 100 1 -> 101 2 -> 102 3 -> 103 4 -> 104 5 -> 105 6 -> 106 7 -> 107 8 -> 108 9 -> 109 "
     ]
    }
   ],
   "source": [
    "# itération avec l'indice: \n",
    "for (i,x) in enumerate(range(100,110)):\n",
    "    print(i,\"->\",x,end=\" \")   "
   ]
  },
  {
   "cell_type": "code",
   "execution_count": 41,
   "metadata": {
    "slideshow": {
     "slide_type": "fragment"
    }
   },
   "outputs": [
    {
     "data": {
      "text/plain": [
       "{1: 4, 3: 16, 5: 81}"
      ]
     },
     "execution_count": 41,
     "metadata": {},
     "output_type": "execute_result"
    }
   ],
   "source": [
    "# itération abrégée des dictionnaires: \n",
    "d = {1:2,3:4,5:9}\n",
    "d2 = {x:d[x]**2 for x in d}\n",
    "d2"
   ]
  },
  {
   "cell_type": "markdown",
   "metadata": {
    "slideshow": {
     "slide_type": "slide"
    }
   },
   "source": [
    "### Entrées sorties\n",
    "L'affichage de base se fait avec la fonction \"print\", quel que soit le type. "
   ]
  },
  {
   "cell_type": "code",
   "execution_count": 42,
   "metadata": {
    "slideshow": {
     "slide_type": "fragment"
    }
   },
   "outputs": [
    {
     "name": "stdout",
     "output_type": "stream",
     "text": [
      "3\n",
      "a\n",
      "[1, 2]\n",
      "{'a': 2}\n",
      "a\n"
     ]
    }
   ],
   "source": [
    "print(3)\n",
    "print(\"a\")\n",
    "print([1,2])\n",
    "print({\"a\":2})\n",
    "print(\"a\") "
   ]
  },
  {
   "cell_type": "markdown",
   "metadata": {
    "slideshow": {
     "slide_type": "subslide"
    }
   },
   "source": [
    "On peut enchainer les impressions, avec une tabulation"
   ]
  },
  {
   "cell_type": "code",
   "execution_count": 43,
   "metadata": {
    "slideshow": {
     "slide_type": "fragment"
    }
   },
   "outputs": [
    {
     "name": "stdout",
     "output_type": "stream",
     "text": [
      "2 1\n"
     ]
    }
   ],
   "source": [
    "print(a,b)"
   ]
  },
  {
   "cell_type": "code",
   "execution_count": 44,
   "metadata": {
    "slideshow": {
     "slide_type": "fragment"
    }
   },
   "outputs": [
    {
     "name": "stdout",
     "output_type": "stream",
     "text": [
      "2///1\n"
     ]
    }
   ],
   "source": [
    "# argument de fin de ligne\n",
    "print(a,end=\"///\")\n",
    "print(b)"
   ]
  },
  {
   "cell_type": "markdown",
   "metadata": {
    "slideshow": {
     "slide_type": "slide"
    }
   },
   "source": [
    "## Retour sur les chaines de caractères\n",
    "\n",
    "les chaines sont des séquences"
   ]
  },
  {
   "cell_type": "code",
   "execution_count": 45,
   "metadata": {
    "slideshow": {
     "slide_type": "fragment"
    }
   },
   "outputs": [
    {
     "name": "stdout",
     "output_type": "stream",
     "text": [
      "o\n",
      "llo\n"
     ]
    }
   ],
   "source": [
    "print(\"hello\"[4])\n",
    "print(\"hello\"[2:5])"
   ]
  },
  {
   "cell_type": "markdown",
   "metadata": {
    "slideshow": {
     "slide_type": "fragment"
    }
   },
   "source": [
    "Il n'y a pas de type caractères: une chaine de longueur 1 est une chaine"
   ]
  },
  {
   "cell_type": "code",
   "execution_count": 46,
   "metadata": {
    "slideshow": {
     "slide_type": "fragment"
    }
   },
   "outputs": [
    {
     "name": "stdout",
     "output_type": "stream",
     "text": [
      "<class 'str'>\n",
      "<class 'str'>\n"
     ]
    }
   ],
   "source": [
    "print(type(\"hello\"))\n",
    "print(type(\"hello\"[0]))"
   ]
  },
  {
   "cell_type": "code",
   "execution_count": 47,
   "metadata": {
    "slideshow": {
     "slide_type": "subslide"
    }
   },
   "outputs": [
    {
     "data": {
      "text/plain": [
       "' encore plus \\nde blabla'"
      ]
     },
     "execution_count": 47,
     "metadata": {},
     "output_type": "execute_result"
    }
   ],
   "source": [
    "#plusieurs façons de décrire une chaine\n",
    "\"blabla\"\n",
    "' ou blabla '\n",
    "\n",
    "# guillemets triples pour étaler sur plusieurs lignes\n",
    "\n",
    "\"\"\" encore plus \n",
    "de blabla\"\"\"\n",
    "\n"
   ]
  },
  {
   "cell_type": "code",
   "execution_count": 48,
   "metadata": {
    "slideshow": {
     "slide_type": "subslide"
    }
   },
   "outputs": [
    {
     "name": "stdout",
     "output_type": "stream",
     "text": [
      "HELLO  WORLD !\n",
      "hello  world !\n",
      "Hello??????world???!\n",
      "['Hello', 'world', '!']\n",
      "Hello---world---!\n",
      "['He', '', 'o  wor', 'd !']\n"
     ]
    }
   ],
   "source": [
    "#Quelques méthodes\n",
    "a = \"Hello  world !\"# deux espaces entre hello et world\n",
    "print(a.upper())\n",
    "print(a.lower())\n",
    "print(a.replace(\" \",\"---\").replace(\"-\",\"?\"))\n",
    "items = a.split()\n",
    "print(items)\n",
    "print(\"---\".join(items))\n",
    "print(a.split(\"l\"))"
   ]
  },
  {
   "cell_type": "code",
   "execution_count": 49,
   "metadata": {},
   "outputs": [
    {
     "name": "stdout",
     "output_type": "stream",
     "text": [
      "herro\n"
     ]
    }
   ],
   "source": [
    "a = \"hello\"\n",
    "a =  a.replace(\"l\",\"r\")\n",
    "print(a)"
   ]
  },
  {
   "cell_type": "markdown",
   "metadata": {
    "slideshow": {
     "slide_type": "subslide"
    }
   },
   "source": [
    "Pour gérer les fichiers, on doit gérer l'ouverture d'un canal:"
   ]
  },
  {
   "cell_type": "code",
   "execution_count": 2,
   "metadata": {
    "slideshow": {
     "slide_type": "fragment"
    }
   },
   "outputs": [],
   "source": [
    "f=open(\"monfichier.txt\",\"w\") # écriture\n",
    "f.write(\"blabla\\n\") \n",
    "f.write(\"bla\")\n",
    "f.close()"
   ]
  },
  {
   "cell_type": "code",
   "execution_count": 51,
   "metadata": {
    "slideshow": {
     "slide_type": "fragment"
    }
   },
   "outputs": [
    {
     "name": "stdout",
     "output_type": "stream",
     "text": [
      "blabla\n",
      "bla\n",
      "['blabla\\n', 'bla']\n",
      "blabla\n",
      "\n",
      "bla\n"
     ]
    }
   ],
   "source": [
    "f=open(\"monfichier.txt\") # lecture \n",
    "print(f.read())\n",
    "f.close() \n",
    "f=open(\"monfichier.txt\") # lecture \n",
    "print(f.readlines())\n",
    "f.close()\n",
    "\n",
    "l = open(\"monfichier.txt\").readlines()\n",
    "\n",
    "for line in open(\"monfichier.txt\"):\n",
    "    print(line)\n"
   ]
  },
  {
   "cell_type": "code",
   "execution_count": 52,
   "metadata": {
    "slideshow": {
     "slide_type": "skip"
    }
   },
   "outputs": [
    {
     "data": {
      "text/plain": [
       "'blabla'"
      ]
     },
     "execution_count": 52,
     "metadata": {},
     "output_type": "execute_result"
    }
   ],
   "source": [
    "\"blabla\\n\".strip()"
   ]
  },
  {
   "cell_type": "markdown",
   "metadata": {
    "slideshow": {
     "slide_type": "fragment"
    }
   },
   "source": [
    "En écriture"
   ]
  },
  {
   "cell_type": "code",
   "execution_count": 53,
   "metadata": {
    "slideshow": {
     "slide_type": "fragment"
    }
   },
   "outputs": [],
   "source": [
    "f=open(\"monfichier.txt\",\"w\") # écriture\n",
    "print(\"blabla\",file=f)\n",
    "print(\"bla\",file=f)\n",
    "f.close()\n",
    " "
   ]
  },
  {
   "cell_type": "markdown",
   "metadata": {
    "slideshow": {
     "slide_type": "slide"
    }
   },
   "source": [
    "# Importer des modules\n",
    "La librairie python contient de très nombreux modules que l'on peut charger à la demande.\n",
    "\n",
    "Syntaxe :"
   ]
  },
  {
   "cell_type": "code",
   "execution_count": 54,
   "metadata": {
    "slideshow": {
     "slide_type": "fragment"
    }
   },
   "outputs": [
    {
     "data": {
      "text/plain": [
       "2.718281828459045"
      ]
     },
     "execution_count": 54,
     "metadata": {},
     "output_type": "execute_result"
    }
   ],
   "source": [
    "import math\n",
    "math.exp(1)"
   ]
  },
  {
   "cell_type": "code",
   "execution_count": 55,
   "metadata": {
    "slideshow": {
     "slide_type": "fragment"
    }
   },
   "outputs": [
    {
     "data": {
      "text/plain": [
       "2.718281828459045"
      ]
     },
     "execution_count": 55,
     "metadata": {},
     "output_type": "execute_result"
    }
   ],
   "source": [
    "# alternativement\n",
    "from math import exp\n",
    "from math import * # ahem\n",
    "exp(1)"
   ]
  },
  {
   "cell_type": "code",
   "execution_count": 56,
   "metadata": {
    "slideshow": {
     "slide_type": "fragment"
    }
   },
   "outputs": [
    {
     "name": "stdout",
     "output_type": "stream",
     "text": [
      "2.718281828459045\n",
      "0.0\n"
     ]
    }
   ],
   "source": [
    "import math as fct_math\n",
    "print(fct_math.exp(1))\n",
    "from math import log as log2\n",
    "print(log2(1))"
   ]
  },
  {
   "cell_type": "markdown",
   "metadata": {
    "slideshow": {
     "slide_type": "slide"
    }
   },
   "source": [
    "## Définition avancée de fonctions\n",
    "\n",
    "le format vu jusqu'ici pour les fonctions est en fait un schéma de base avec des arguments fixes:\n",
    "> def nom_fonction(argument1,arg2,...,argn):\n",
    "\n",
    "On peut aussi mettre des arguments optionnels de la façon suivante :\n",
    "> def nom_fonction(arg1,...,argn, option1 = defaut1, option2 = defaut2, ...)\n"
   ]
  },
  {
   "cell_type": "code",
   "execution_count": 49,
   "metadata": {
    "slideshow": {
     "slide_type": "subslide"
    }
   },
   "outputs": [
    {
     "name": "stdout",
     "output_type": "stream",
     "text": [
      "blabla\n",
      "cordialement,\n",
      "Emmanuel\n"
     ]
    }
   ],
   "source": [
    "def message(texte, signature, politesse = \"cordialement\"):\n",
    "    print(texte)\n",
    "    print(politesse+\",\" )\n",
    "    print(signature)\n",
    "    \n",
    "message(\"blabla\",\"Emmanuel\")"
   ]
  },
  {
   "cell_type": "code",
   "execution_count": 50,
   "metadata": {
    "scrolled": true,
    "slideshow": {
     "slide_type": "fragment"
    }
   },
   "outputs": [
    {
     "name": "stdout",
     "output_type": "stream",
     "text": [
      "blabla\n",
      "sincèrement,\n",
      "Emmnanuel Macron\n"
     ]
    }
   ],
   "source": [
    "message(\"blabla\",\"Emmnanuel Macron\",politesse = \"sincèrement\")"
   ]
  },
  {
   "cell_type": "code",
   "execution_count": 51,
   "metadata": {
    "slideshow": {
     "slide_type": "subslide"
    }
   },
   "outputs": [
    {
     "name": "stdout",
     "output_type": "stream",
     "text": [
      "3 + 4 = 7 "
     ]
    }
   ],
   "source": [
    "# on peut avoir un nombre d'argument variable en passant un pointeur sur toute la séquence des arguments\n",
    "def variable(*tous_les_args):\n",
    "    for x in tous_les_args:\n",
    "        print(x,end=\" \")\n",
    "        \n",
    "\n",
    "variable(3,\"+\",4,\"=\",3+4)\n",
    "\n",
    " "
   ]
  },
  {
   "cell_type": "code",
   "execution_count": 52,
   "metadata": {
    "slideshow": {
     "slide_type": "subslide"
    }
   },
   "outputs": [
    {
     "name": "stdout",
     "output_type": "stream",
     "text": [
      "('euh', 'comment', 'dire')\n",
      "{'point': 23, 'extra': 2, 'bonus': 'craquage'}\n"
     ]
    }
   ],
   "source": [
    "# on peut même récupérer les options; on verra plus tard à quoi ça sert\n",
    "def illisible(*args,**options):\n",
    "    print(args)\n",
    "    print(options)\n",
    "    \n",
    "    \n",
    "illisible(\"euh\",\"comment\",\"dire\",point=23,extra=2,bonus=\"craquage\")"
   ]
  },
  {
   "cell_type": "code",
   "execution_count": 53,
   "metadata": {
    "slideshow": {
     "slide_type": "subslide"
    }
   },
   "outputs": [
    {
     "name": "stdout",
     "output_type": "stream",
     "text": [
      "<function deux_f.<locals>.fbis at 0x000001F7592A0C18>\n",
      "<function deux_f.<locals>.fbis at 0x000001F7592A0E58>\n",
      "1.7551651237807455\n",
      "1.7551651237807455\n"
     ]
    }
   ],
   "source": [
    "# on peut définir des fonctions de fonctions\n",
    "def deux_f(f):\n",
    "    def fbis(x):\n",
    "        return 2*f(x)\n",
    "    return fbis\n",
    "\n",
    "from math import sin, cos\n",
    "f1 = deux_f(cos)\n",
    "f2 = deux_f(sin)\n",
    "print(f1) \n",
    "print(f2)\n",
    "print(f1(0.5))\n",
    "print(deux_f(cos)(0.5))\n",
    "\n",
    "#compliqué ... "
   ]
  },
  {
   "cell_type": "markdown",
   "metadata": {
    "slideshow": {
     "slide_type": "subslide"
    }
   },
   "source": [
    "Il est souvent utile de définir un objet fonction jetable comme suit (fonction \"anonyme\") :"
   ]
  },
  {
   "cell_type": "code",
   "execution_count": 54,
   "metadata": {
    "slideshow": {
     "slide_type": "fragment"
    }
   },
   "outputs": [
    {
     "data": {
      "text/plain": [
       "<function __main__.<lambda>(a, b)>"
      ]
     },
     "execution_count": 54,
     "metadata": {},
     "output_type": "execute_result"
    }
   ],
   "source": [
    "lambda a,b: a+b #  -> la fonction addition de deux variables"
   ]
  },
  {
   "cell_type": "code",
   "execution_count": 55,
   "metadata": {
    "slideshow": {
     "slide_type": "subslide"
    }
   },
   "outputs": [
    {
     "data": {
      "text/plain": [
       "2.7140162009891515"
      ]
     },
     "execution_count": 55,
     "metadata": {},
     "output_type": "execute_result"
    }
   ],
   "source": [
    "# on reprend l'exemple plus haut \n",
    "def deux_f(f):\n",
    "    return lambda x: 2*f(x)\n",
    "\n",
    "sin2 =  deux_f(lambda x:(sin(x)+cos(x)))\n",
    "sin2(0.5)"
   ]
  },
  {
   "cell_type": "code",
   "execution_count": 56,
   "metadata": {
    "slideshow": {
     "slide_type": "fragment"
    }
   },
   "outputs": [],
   "source": [
    "# pourquoi faire des fonctions retournant des fonctions ? opérations plus générales\n",
    "def plus(f,g):\n",
    "    return lambda x: f(x)+g(x)\n",
    " \n",
    "a = plus(cos,sin)\n",
    "a(0.5)\n",
    "\n",
    "def compo(f,g):\n",
    "    return lambda x: f(g(x))"
   ]
  },
  {
   "cell_type": "markdown",
   "metadata": {
    "slideshow": {
     "slide_type": "subslide"
    }
   },
   "source": [
    "## Passage des paramètres\n",
    "Il y a deux façons de passer des paramètres à une fonction: par **valeur** ou par **référence**\n",
    "* Si le paramètre transmis est une valeur (éventuellement contenue dans une variable): le contenu du paramètre est localement copié. \n",
    "* Si le paramètre est une variable, qui reste accessible dans le contexte de la fonction.  \n",
    "\n",
    "**En python, les fonctions passent toujours des références.**  \n",
    "Mais il faut bien comprendre comment marchent les affectations: le paramètre formel d'une fonction \"renomme\" la valeur.  \n",
    "Par exemple :"
   ]
  },
  {
   "cell_type": "code",
   "execution_count": 45,
   "metadata": {
    "slideshow": {
     "slide_type": "fragment"
    }
   },
   "outputs": [
    {
     "name": "stdout",
     "output_type": "stream",
     "text": [
      "3 aa\n",
      "\n",
      "2\n",
      "[0, 2, 3, 4]\n",
      "2\n"
     ]
    }
   ],
   "source": [
    "def test1(a):\n",
    "    a=\"aa\"\n",
    "    return a \n",
    "    \n",
    "b=\"zz\"\n",
    "c = test1(b)\n",
    "print(3, c)\n",
    "\n",
    "print(\"\")\n",
    "\n",
    "# Les types complexes sont passés aussi par référence mais on peut accéder à leurs éléments sans renommer quoi que ce soit. \n",
    "# Une fonction peut donc éventuellement avoir accès à la variable de l'appel\n",
    "\n",
    "def test2(l):\n",
    "    l[0]=0\n",
    "    return 2\n",
    "    \n",
    "l1 = [1,2,3,4]\n",
    "print(test2(l1))\n",
    "print(l1) \n",
    "print(test2([1,2]))\n",
    "\n",
    "# l1 et l réfèrent à la même liste de valeur [1,2,3,4]"
   ]
  },
  {
   "cell_type": "markdown",
   "metadata": {
    "slideshow": {
     "slide_type": "slide"
    }
   },
   "source": [
    "# Types structurés (suite): les ensembles\n",
    "\n",
    "\n",
    "Le type 'set' modélise l'équivalent d'un ensemble en mathématique: une collection d'items sans ordre spécifique.\n"
   ]
  },
  {
   "cell_type": "code",
   "execution_count": 43,
   "metadata": {
    "slideshow": {
     "slide_type": "subslide"
    }
   },
   "outputs": [
    {
     "name": "stdout",
     "output_type": "stream",
     "text": [
      "Initialisation et ajouts\n",
      "{1, 3, 4, 5}\n",
      "{4, 6}\n",
      "\n",
      "{1, 4, 5}\n",
      "\n",
      "Appartenance, intersection, union\n",
      "False\n",
      "{1, 4, 5} {4, 6}\n",
      "{4}\n",
      "{1, 4, 5, 6}\n",
      "{4}\n",
      "\n",
      "Cardinal, inclusion , différence\n",
      "3\n",
      "False\n",
      "{1, 5}\n",
      "{6}\n",
      "\n",
      "Supression\n",
      "{1, 5}\n",
      "set()\n"
     ]
    }
   ],
   "source": [
    "print(\"Initialisation et ajouts\")\n",
    "a = set([1,3,4,5,1,1,5])\n",
    "b = set()\n",
    "c = {1,2,3}\n",
    "b.add(4) \n",
    "b.add(6) \n",
    "print(a)\n",
    "print(b)\n",
    "\n",
    "print(\"\")\n",
    "\n",
    "set([1,2])==set([2,1])\n",
    "a.remove(3)\n",
    "print(a)\n",
    "\n",
    "print(\"\")\n",
    "\n",
    "print(\"Appartenance, intersection, union\")\n",
    "x = 3\n",
    "print(x in b)\n",
    "print(a,b)\n",
    "print(a & b)\n",
    "print(a | b )\n",
    "print(a.intersection(b))\n",
    "\n",
    "print(\"\")\n",
    "\n",
    "print(\"Cardinal, inclusion , différence\")\n",
    "print(len(a))\n",
    "print(set([1,3]) <= a)\n",
    "print(a - b)\n",
    "print(b - a)\n",
    "\n",
    "print(\"\")\n",
    "\n",
    "print(\"Supression\")\n",
    "a.add(4)\n",
    "a.remove(4)\n",
    "b.clear()\n",
    "print(a)\n",
    "print(b)\n",
    "a.add(4)"
   ]
  },
  {
   "cell_type": "markdown",
   "metadata": {
    "slideshow": {
     "slide_type": "slide"
    }
   },
   "source": [
    "## Exceptions\n",
    "  \n",
    " Python définit un ensemble d'exceptions, qui sont un type à part et qui peuvent être aussi étendues, \n",
    " et bien sûr levées et rattrapées. \n",
    " \n",
    " Quelques exemples:"
   ]
  },
  {
   "cell_type": "code",
   "execution_count": 72,
   "metadata": {
    "slideshow": {
     "slide_type": "fragment"
    }
   },
   "outputs": [
    {
     "ename": "ZeroDivisionError",
     "evalue": "float division by zero",
     "output_type": "error",
     "traceback": [
      "\u001b[0;31m---------------------------------------------------------------------------\u001b[0m",
      "\u001b[0;31mZeroDivisionError\u001b[0m                         Traceback (most recent call last)",
      "\u001b[0;32m<ipython-input-72-022aea3d6c79>\u001b[0m in \u001b[0;36m<module>\u001b[0;34m\u001b[0m\n\u001b[1;32m      1\u001b[0m \u001b[0ma\u001b[0m \u001b[0;34m=\u001b[0m \u001b[0;36m0.\u001b[0m\u001b[0;34m\u001b[0m\u001b[0;34m\u001b[0m\u001b[0m\n\u001b[1;32m      2\u001b[0m \u001b[0mb\u001b[0m \u001b[0;34m=\u001b[0m \u001b[0;36m15\u001b[0m\u001b[0;34m\u001b[0m\u001b[0;34m\u001b[0m\u001b[0m\n\u001b[0;32m----> 3\u001b[0;31m \u001b[0mprint\u001b[0m\u001b[0;34m(\u001b[0m\u001b[0mb\u001b[0m\u001b[0;34m/\u001b[0m\u001b[0ma\u001b[0m\u001b[0;34m)\u001b[0m\u001b[0;34m\u001b[0m\u001b[0;34m\u001b[0m\u001b[0m\n\u001b[0m",
      "\u001b[0;31mZeroDivisionError\u001b[0m: float division by zero"
     ]
    }
   ],
   "source": [
    "a = 0.\n",
    "b = 15\n",
    "print(b/a)"
   ]
  },
  {
   "cell_type": "code",
   "execution_count": 73,
   "metadata": {
    "slideshow": {
     "slide_type": "subslide"
    }
   },
   "outputs": [
    {
     "ename": "IndexError",
     "evalue": "list index out of range",
     "output_type": "error",
     "traceback": [
      "\u001b[0;31m---------------------------------------------------------------------------\u001b[0m",
      "\u001b[0;31mIndexError\u001b[0m                                Traceback (most recent call last)",
      "\u001b[0;32m<ipython-input-73-7985abb5df3c>\u001b[0m in \u001b[0;36m<module>\u001b[0;34m\u001b[0m\n\u001b[1;32m      1\u001b[0m \u001b[0ml\u001b[0m \u001b[0;34m=\u001b[0m \u001b[0;34m[\u001b[0m\u001b[0;34m]\u001b[0m\u001b[0;34m\u001b[0m\u001b[0;34m\u001b[0m\u001b[0m\n\u001b[0;32m----> 2\u001b[0;31m \u001b[0ml\u001b[0m\u001b[0;34m[\u001b[0m\u001b[0;36m0\u001b[0m\u001b[0;34m]\u001b[0m\u001b[0;34m\u001b[0m\u001b[0;34m\u001b[0m\u001b[0m\n\u001b[0m",
      "\u001b[0;31mIndexError\u001b[0m: list index out of range"
     ]
    }
   ],
   "source": [
    "l = []\n",
    "l[0]"
   ]
  },
  {
   "cell_type": "code",
   "execution_count": 74,
   "metadata": {
    "slideshow": {
     "slide_type": "subslide"
    }
   },
   "outputs": [
    {
     "name": "stdout",
     "output_type": "stream",
     "text": [
      "30.0\n",
      "?\n"
     ]
    }
   ],
   "source": [
    "a = 0.5\n",
    "b = 15\n",
    "try: \n",
    "    print(b/a)\n",
    "except ZeroDivisionError:\n",
    "    print(0)\n",
    "    \n",
    "l = []\n",
    "try:\n",
    "    print(l[0])\n",
    "except IndexError:\n",
    "    print(\"?\")"
   ]
  },
  {
   "cell_type": "code",
   "execution_count": 75,
   "metadata": {
    "slideshow": {
     "slide_type": "subslide"
    }
   },
   "outputs": [
    {
     "name": "stdout",
     "output_type": "stream",
     "text": [
      "[1]\n"
     ]
    },
    {
     "ename": "IndexError",
     "evalue": "m'enfin ?!?!!!",
     "output_type": "error",
     "traceback": [
      "\u001b[0;31m---------------------------------------------------------------------------\u001b[0m",
      "\u001b[0;31mIndexError\u001b[0m                                Traceback (most recent call last)",
      "\u001b[0;32m<ipython-input-75-8e951cb9800e>\u001b[0m in \u001b[0;36m<module>\u001b[0;34m\u001b[0m\n\u001b[1;32m      2\u001b[0m \u001b[0;32mtry\u001b[0m\u001b[0;34m:\u001b[0m\u001b[0;34m\u001b[0m\u001b[0;34m\u001b[0m\u001b[0m\n\u001b[0;32m----> 3\u001b[0;31m     \u001b[0mprint\u001b[0m\u001b[0;34m(\u001b[0m\u001b[0ml\u001b[0m\u001b[0;34m[\u001b[0m\u001b[0;36m0\u001b[0m\u001b[0;34m]\u001b[0m\u001b[0;34m)\u001b[0m\u001b[0;34m\u001b[0m\u001b[0;34m\u001b[0m\u001b[0m\n\u001b[0m\u001b[1;32m      4\u001b[0m \u001b[0;32mexcept\u001b[0m \u001b[0mIndexError\u001b[0m\u001b[0;34m:\u001b[0m\u001b[0;34m\u001b[0m\u001b[0;34m\u001b[0m\u001b[0m\n",
      "\u001b[0;31mIndexError\u001b[0m: list index out of range",
      "\nDuring handling of the above exception, another exception occurred:\n",
      "\u001b[0;31mIndexError\u001b[0m                                Traceback (most recent call last)",
      "\u001b[0;32m<ipython-input-75-8e951cb9800e>\u001b[0m in \u001b[0;36m<module>\u001b[0;34m\u001b[0m\n\u001b[1;32m      3\u001b[0m     \u001b[0mprint\u001b[0m\u001b[0;34m(\u001b[0m\u001b[0ml\u001b[0m\u001b[0;34m[\u001b[0m\u001b[0;36m0\u001b[0m\u001b[0;34m]\u001b[0m\u001b[0;34m)\u001b[0m\u001b[0;34m\u001b[0m\u001b[0;34m\u001b[0m\u001b[0m\n\u001b[1;32m      4\u001b[0m \u001b[0;32mexcept\u001b[0m \u001b[0mIndexError\u001b[0m\u001b[0;34m:\u001b[0m\u001b[0;34m\u001b[0m\u001b[0;34m\u001b[0m\u001b[0m\n\u001b[0;32m----> 5\u001b[0;31m     \u001b[0;32mraise\u001b[0m \u001b[0mIndexError\u001b[0m\u001b[0;34m(\u001b[0m\u001b[0;34m\"m'enfin ?!?!!!\"\u001b[0m\u001b[0;34m)\u001b[0m\u001b[0;34m\u001b[0m\u001b[0;34m\u001b[0m\u001b[0m\n\u001b[0m\u001b[1;32m      6\u001b[0m \u001b[0;32mexcept\u001b[0m\u001b[0;34m:\u001b[0m\u001b[0;34m\u001b[0m\u001b[0;34m\u001b[0m\u001b[0m\n\u001b[1;32m      7\u001b[0m     \u001b[0mprint\u001b[0m\u001b[0;34m(\u001b[0m\u001b[0;34m\"erreur inattendue !\"\u001b[0m\u001b[0;34m)\u001b[0m\u001b[0;34m\u001b[0m\u001b[0;34m\u001b[0m\u001b[0m\n",
      "\u001b[0;31mIndexError\u001b[0m: m'enfin ?!?!!!"
     ]
    }
   ],
   "source": [
    "l = []\n",
    "try:\n",
    "    print(l[0])\n",
    "except IndexError:\n",
    "    raise IndexError(\"m'enfin ?!?!!!\")\n",
    "except: \n",
    "    print(\"erreur inattendue !\")\n",
    "    raise\n",
    "finally:\n",
    "    l.append(1)\n",
    "    print(l)"
   ]
  },
  {
   "cell_type": "code",
   "execution_count": 76,
   "metadata": {
    "slideshow": {
     "slide_type": "subslide"
    }
   },
   "outputs": [
    {
     "name": "stdout",
     "output_type": "stream",
     "text": [
      "[1]\n"
     ]
    },
    {
     "ename": "IndexError",
     "evalue": "m'enfin ?!?!!!",
     "output_type": "error",
     "traceback": [
      "\u001b[0;31m---------------------------------------------------------------------------\u001b[0m",
      "\u001b[0;31mIndexError\u001b[0m                                Traceback (most recent call last)",
      "\u001b[0;32m<ipython-input-76-09596d5d2ded>\u001b[0m in \u001b[0;36m<module>\u001b[0;34m\u001b[0m\n\u001b[1;32m      2\u001b[0m \u001b[0;32mtry\u001b[0m\u001b[0;34m:\u001b[0m    \u001b[0;31m# passage risqué\u001b[0m\u001b[0;34m\u001b[0m\u001b[0;34m\u001b[0m\u001b[0m\n\u001b[0;32m----> 3\u001b[0;31m     \u001b[0mprint\u001b[0m\u001b[0;34m(\u001b[0m\u001b[0ml\u001b[0m\u001b[0;34m[\u001b[0m\u001b[0;36m0\u001b[0m\u001b[0;34m]\u001b[0m\u001b[0;34m)\u001b[0m\u001b[0;34m\u001b[0m\u001b[0;34m\u001b[0m\u001b[0m\n\u001b[0m\u001b[1;32m      4\u001b[0m \u001b[0;32mexcept\u001b[0m \u001b[0mIndexError\u001b[0m\u001b[0;34m:\u001b[0m  \u001b[0;31m# raté !\u001b[0m\u001b[0;34m\u001b[0m\u001b[0;34m\u001b[0m\u001b[0m\n",
      "\u001b[0;31mIndexError\u001b[0m: list index out of range",
      "\nDuring handling of the above exception, another exception occurred:\n",
      "\u001b[0;31mIndexError\u001b[0m                                Traceback (most recent call last)",
      "\u001b[0;32m<ipython-input-76-09596d5d2ded>\u001b[0m in \u001b[0;36m<module>\u001b[0;34m\u001b[0m\n\u001b[1;32m      3\u001b[0m     \u001b[0mprint\u001b[0m\u001b[0;34m(\u001b[0m\u001b[0ml\u001b[0m\u001b[0;34m[\u001b[0m\u001b[0;36m0\u001b[0m\u001b[0;34m]\u001b[0m\u001b[0;34m)\u001b[0m\u001b[0;34m\u001b[0m\u001b[0;34m\u001b[0m\u001b[0m\n\u001b[1;32m      4\u001b[0m \u001b[0;32mexcept\u001b[0m \u001b[0mIndexError\u001b[0m\u001b[0;34m:\u001b[0m  \u001b[0;31m# raté !\u001b[0m\u001b[0;34m\u001b[0m\u001b[0;34m\u001b[0m\u001b[0m\n\u001b[0;32m----> 5\u001b[0;31m     \u001b[0;32mraise\u001b[0m \u001b[0mIndexError\u001b[0m\u001b[0;34m(\u001b[0m\u001b[0;34m\"m'enfin ?!?!!!\"\u001b[0m\u001b[0;34m)\u001b[0m\u001b[0;34m\u001b[0m\u001b[0;34m\u001b[0m\u001b[0m\n\u001b[0m\u001b[1;32m      6\u001b[0m     \u001b[0;31m#raise IndexError\u001b[0m\u001b[0;34m\u001b[0m\u001b[0;34m\u001b[0m\u001b[0;34m\u001b[0m\u001b[0m\n\u001b[1;32m      7\u001b[0m \u001b[0;32melse\u001b[0m\u001b[0;34m:\u001b[0m \u001b[0;31m# si c'est bon on s'assure de ça (peut lever une erreur aussi !)\u001b[0m\u001b[0;34m\u001b[0m\u001b[0;34m\u001b[0m\u001b[0m\n",
      "\u001b[0;31mIndexError\u001b[0m: m'enfin ?!?!!!"
     ]
    }
   ],
   "source": [
    "l = []\n",
    "try:    # passage risqué\n",
    "    print(l[0])\n",
    "except IndexError:  # raté !\n",
    "    raise IndexError(\"m'enfin ?!?!!!\")\n",
    "    #raise IndexError\n",
    "else: # si c'est bon on s'assure de ça (peut lever une erreur aussi !)\n",
    "    print(1/l[0])\n",
    "finally: # dans tous les cas on veut faire ça\n",
    "    l.append(1)\n",
    "    print(l)"
   ]
  },
  {
   "cell_type": "markdown",
   "metadata": {
    "slideshow": {
     "slide_type": "slide"
    }
   },
   "source": [
    "## Index des exercices:\n",
    "\n",
    "**Ecrire des fonctions faisant les opérations suivantes**\n",
    "1. prendre une liste et enlever les doublons, dans un premier temps on supposera la liste triée, puis on considèrera le cas général\n",
    "2. prendre une liste de listes d'entiers, retourner la liste \"plate\" des éléments\n",
    "3. extraire d'une liste d'entiers les valeurs consécutives qui se suivent, \n",
    "   par exemple [3,8,9,10,15,16] -> [(8,9),(9,10),(15,16)]\n",
    "4.    Comptez (dans un dictionnaire) le nombre d'occurrence d'entiers contenus dans une liste. Par exemple [2,1,2,3,3] -> {1:1, 2:2, 3:2}\n",
    "5. Faire une table qui enregistre les combinaisons de deux dés à six faces, avec comme clefs la valeur de la somme des deux dés et comme valeurs les combinaisons de deux dés.\n",
    "6. Faire le crible d'Eratosthène, enregistré dans un dictionnaire : on commence avec comme clefs tous les entiers de 1 à n (fixé), et finalement on ne garde que les clefs qui sont des nombres premiers.\n",
    "7. Faire l'inversion (clefs/valeurs) d'une table\n",
    "8. Faire une fonction qui teste si deux mots ont les mêmes lettres; en faire une autre qui teste si ce sont des anagrammes (c'est-à-dire qu'ils ont les mêmes lettres le même nombre de fois). Tester si une phrase contient toutes les lettres de l'alphabet (pangrammes).\n",
    "9. Cryptage / décryptage \n",
    "\n",
    "**Problèmes**\n",
    "- définir un ensemble de fonctions pour manipuler des représentations de polynômes\n",
    "- définir un ensemble de fonctions manipulant des représentations de vecteurs \"creux\" de dimensions quelconque. Un vecteur creux est un vecteur dont beaucoup de coordonnées sont nulles, et pour lesquels on veut optimiser la place mémoire nécessaire. Ici on le fera avec des dictionnaires.  "
   ]
  },
  {
   "cell_type": "code",
   "execution_count": 46,
   "metadata": {
    "slideshow": {
     "slide_type": "skip"
    }
   },
   "outputs": [],
   "source": [
    "pangram = \"the quick brown fox jumps over the lazy dog\""
   ]
  }
 ],
 "metadata": {
  "celltoolbar": "Slideshow",
  "kernelspec": {
   "display_name": "Python 3",
   "language": "python",
   "name": "python3"
  },
  "language_info": {
   "codemirror_mode": {
    "name": "ipython",
    "version": 3
   },
   "file_extension": ".py",
   "mimetype": "text/x-python",
   "name": "python",
   "nbconvert_exporter": "python",
   "pygments_lexer": "ipython3",
   "version": "3.7.9"
  }
 },
 "nbformat": 4,
 "nbformat_minor": 1
}
