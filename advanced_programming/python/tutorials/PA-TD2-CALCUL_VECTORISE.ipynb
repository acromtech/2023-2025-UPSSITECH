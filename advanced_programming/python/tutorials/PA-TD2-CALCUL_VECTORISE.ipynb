{
 "cells": [
  {
   "cell_type": "markdown",
   "metadata": {
    "slideshow": {
     "slide_type": "slide"
    }
   },
   "source": [
    "\n",
    "## Exercice:\n",
    "\n",
    "Sans utiliser de boucles :\n",
    "\n",
    "  - Créer une matrice (5x6) aléatoire\n",
    "  - Remplacer une colonne sur deux (en partant de la première) par sa valeur moins le double de la colonne suivante\n",
    "  - Remplacer les valeurs négatives par 0 en utilisant un masque binaire\n",
    "  - Calculer l'approximation de $\\pi$ avec la formule de Wallis: (sum,prod)\n",
    "     $$ \\pi = 2\\prod_{i=1}^{\\infty} \\frac{4i^2}{4i^2-1}$$ \n",
    "  - Examen 2017: approximation de ln(1+x) et visualisation de l'écart (cumsum, cumprod)\n",
    "      $$ ln(1+x) = \\sum_{i=1}^{\\infty} \\frac{(-1)^{i+1}}{i}x^i$$\n",
    "  - Examen 2018: approximation Monte Carlo de $\\pi$\n"
   ]
  },
  {
   "cell_type": "code",
   "execution_count": 10,
   "metadata": {},
   "outputs": [],
   "source": [
    "import numpy as np"
   ]
  },
  {
   "cell_type": "code",
   "execution_count": 14,
   "metadata": {},
   "outputs": [
    {
     "data": {
      "text/plain": [
       "array([[ 0.72032166,  0.28124752, -1.02534892,  0.98565133,  1.11481577,\n",
       "         0.75965773],\n",
       "       [-0.70044338,  0.65408673,  1.41427641,  0.20471602, -2.04112148,\n",
       "        -0.7625032 ],\n",
       "       [-1.1420227 , -0.85244438, -0.41017898, -0.19727681,  0.44138329,\n",
       "        -0.04050907],\n",
       "       [-0.47421217,  0.153669  , -2.14939942,  0.45130714,  1.02065475,\n",
       "        -0.79608031],\n",
       "       [-0.36255533,  0.64596022,  0.70982014,  0.37472412,  1.20906468,\n",
       "        -0.57587325]])"
      ]
     },
     "execution_count": 14,
     "metadata": {},
     "output_type": "execute_result"
    }
   ],
   "source": [
    "a = np.random.normal(size=(5,6))\n",
    "a"
   ]
  },
  {
   "cell_type": "code",
   "execution_count": 15,
   "metadata": {},
   "outputs": [
    {
     "data": {
      "text/plain": [
       "array([[0.72032166, 0.28124752, 0.        , 0.98565133, 1.11481577,\n",
       "        0.75965773],\n",
       "       [0.        , 0.65408673, 1.41427641, 0.20471602, 0.        ,\n",
       "        0.        ],\n",
       "       [0.        , 0.        , 0.        , 0.        , 0.44138329,\n",
       "        0.        ],\n",
       "       [0.        , 0.153669  , 0.        , 0.45130714, 1.02065475,\n",
       "        0.        ],\n",
       "       [0.        , 0.64596022, 0.70982014, 0.37472412, 1.20906468,\n",
       "        0.        ]])"
      ]
     },
     "execution_count": 15,
     "metadata": {},
     "output_type": "execute_result"
    }
   ],
   "source": [
    "a[a<0] = 0\n",
    "a"
   ]
  },
  {
   "cell_type": "code",
   "execution_count": 19,
   "metadata": {},
   "outputs": [
    {
     "data": {
      "text/plain": [
       "array([-0.96716349,  0.28124752, -5.91390796,  0.98565133, -3.44313061,\n",
       "        0.75965773])"
      ]
     },
     "execution_count": 19,
     "metadata": {},
     "output_type": "execute_result"
    }
   ],
   "source": [
    "a[:,::2] = a[:,::2] - 2*a[:,1::2]\n",
    "a[0]"
   ]
  },
  {
   "cell_type": "code",
   "execution_count": 21,
   "metadata": {},
   "outputs": [],
   "source": [
    "vraipi = np.pi"
   ]
  },
  {
   "cell_type": "code",
   "execution_count": 33,
   "metadata": {},
   "outputs": [],
   "source": [
    "def wallis(n):\n",
    "    i = np.arange(n)+1\n",
    "    b = (4*i**2)\n",
    "    return 2*np.cumprod(b/(b-1))"
   ]
  },
  {
   "cell_type": "code",
   "execution_count": 46,
   "metadata": {},
   "outputs": [
    {
     "data": {
      "text/plain": [
       "array([0.47492599, 0.29714821, 0.21587837, 0.16943846, 0.1394167 ,\n",
       "       0.11842246, 0.10291902, 0.09100266, 0.08155811, 0.07388885,\n",
       "       0.06753749, 0.06219131, 0.05762923, 0.05369058, 0.05025576,\n",
       "       0.04723393, 0.04455483, 0.0421633 , 0.04001539, 0.03807569,\n",
       "       0.03631533, 0.03471054, 0.03324156, 0.03189186, 0.03064749,\n",
       "       0.02949656, 0.02842895, 0.02743591, 0.02650991, 0.02564437,\n",
       "       0.02483356, 0.02407244, 0.02335659, 0.02268209, 0.02204545,\n",
       "       0.02144357, 0.02087368, 0.02033329, 0.01982018, 0.01933233,\n",
       "       0.01886791, 0.01842529, 0.01800295, 0.01759954, 0.01721382,\n",
       "       0.01684464, 0.01649096, 0.01615183, 0.01582636, 0.01551375,\n",
       "       0.01521326, 0.01492418, 0.01464588, 0.01437777, 0.0141193 ,\n",
       "       0.01386996, 0.01362928, 0.0133968 , 0.01317212, 0.01295486,\n",
       "       0.01274464, 0.01254114, 0.01234403, 0.01215303, 0.01196784,\n",
       "       0.01178822, 0.0116139 , 0.01144467, 0.0112803 , 0.01112058,\n",
       "       0.01096532, 0.01081434, 0.01066745, 0.01052451, 0.01038535,\n",
       "       0.01024981, 0.01011777, 0.00998909, 0.00986364, 0.0097413 ,\n",
       "       0.00962196, 0.00950551, 0.00939184, 0.00928086, 0.00917247,\n",
       "       0.00906659, 0.00896312, 0.00886199, 0.00876311, 0.00866641,\n",
       "       0.00857183, 0.00847929, 0.00838872, 0.00830007, 0.00821327,\n",
       "       0.00812827, 0.00804501, 0.00796344, 0.00788351, 0.00780516,\n",
       "       0.00772836, 0.00765305, 0.0075792 , 0.00750676, 0.00743569,\n",
       "       0.00736595, 0.00729751, 0.00723033, 0.00716438, 0.00709962,\n",
       "       0.00703602, 0.00697354, 0.00691217, 0.00685187, 0.00679261,\n",
       "       0.00673437, 0.00667711, 0.00662083, 0.00656548, 0.00651105,\n",
       "       0.00645752, 0.00640486, 0.00635305, 0.00630207, 0.00625191,\n",
       "       0.00620253, 0.00615393, 0.00610609, 0.00605899, 0.0060126 ,\n",
       "       0.00596692, 0.00592193, 0.00587761, 0.00583395, 0.00579094,\n",
       "       0.00574855, 0.00570678, 0.00566562, 0.00562504, 0.00558504,\n",
       "       0.00554561, 0.00550672, 0.00546838, 0.00543057, 0.00539328,\n",
       "       0.0053565 , 0.00532021, 0.00528442, 0.0052491 , 0.00521425,\n",
       "       0.00517986, 0.00514592, 0.00511243, 0.00507936, 0.00504673,\n",
       "       0.0050145 , 0.00498269, 0.00495128, 0.00492026, 0.00488963,\n",
       "       0.00485938, 0.0048295 , 0.00479998, 0.00477082, 0.00474202,\n",
       "       0.00471356, 0.00468544, 0.00465765, 0.0046302 , 0.00460306,\n",
       "       0.00457624, 0.00454973, 0.00452352, 0.00449762, 0.00447201,\n",
       "       0.00444669, 0.00442166, 0.0043969 , 0.00437243, 0.00434822,\n",
       "       0.00432428, 0.0043006 , 0.00427718, 0.00425401, 0.0042311 ,\n",
       "       0.00420842, 0.00418599, 0.0041638 , 0.00414184, 0.00412012,\n",
       "       0.00409862, 0.00407734, 0.00405628, 0.00403544, 0.00401481,\n",
       "       0.00399439, 0.00397418, 0.00395417, 0.00393436, 0.00391475,\n",
       "       0.00389534, 0.00387611, 0.00385708, 0.00383823, 0.00381956,\n",
       "       0.00380108, 0.00378277, 0.00376464, 0.00374668, 0.00372889,\n",
       "       0.00371127, 0.00369381, 0.00367652, 0.00365939, 0.00364242,\n",
       "       0.00362561, 0.00360895, 0.00359244, 0.00357608, 0.00355987,\n",
       "       0.00354381, 0.00352789, 0.00351212, 0.00349648, 0.00348099,\n",
       "       0.00346563, 0.0034504 , 0.00343531, 0.00342035, 0.00340552,\n",
       "       0.00339081, 0.00337624, 0.00336179, 0.00334746, 0.00333325,\n",
       "       0.00331917, 0.0033052 , 0.00329135, 0.00327761, 0.00326399,\n",
       "       0.00325048, 0.00323708, 0.0032238 , 0.00321062, 0.00319755,\n",
       "       0.00318458, 0.00317172, 0.00315896, 0.00314631, 0.00313376,\n",
       "       0.0031213 , 0.00310895, 0.00309669, 0.00308453, 0.00307246,\n",
       "       0.00306049, 0.00304861, 0.00303682, 0.00302512, 0.00301352,\n",
       "       0.003002  , 0.00299057, 0.00297922, 0.00296796, 0.00295679,\n",
       "       0.0029457 , 0.00293469, 0.00292377, 0.00291293, 0.00290216,\n",
       "       0.00289148, 0.00288087, 0.00287034, 0.00285989, 0.00284952,\n",
       "       0.00283921, 0.00282899, 0.00281883, 0.00280875, 0.00279874,\n",
       "       0.00278881, 0.00277894, 0.00276914, 0.00275941, 0.00274975,\n",
       "       0.00274016, 0.00273063, 0.00272117, 0.00271177, 0.00270244,\n",
       "       0.00269318, 0.00268397, 0.00267483, 0.00266575, 0.00265674,\n",
       "       0.00264778, 0.00263888, 0.00263005, 0.00262127, 0.00261255,\n",
       "       0.00260389, 0.00259528, 0.00258674, 0.00257824, 0.00256981,\n",
       "       0.00256143, 0.0025531 , 0.00254483, 0.00253661, 0.00252844,\n",
       "       0.00252033, 0.00251227, 0.00250426, 0.0024963 , 0.00248839,\n",
       "       0.00248053, 0.00247272, 0.00246496, 0.00245725, 0.00244958,\n",
       "       0.00244197, 0.0024344 , 0.00242688, 0.0024194 , 0.00241197,\n",
       "       0.00240459, 0.00239725, 0.00238995, 0.0023827 , 0.00237549,\n",
       "       0.00236833, 0.00236121, 0.00235413, 0.0023471 , 0.00234011,\n",
       "       0.00233315, 0.00232624, 0.00231937, 0.00231254, 0.00230576,\n",
       "       0.00229901, 0.0022923 , 0.00228562, 0.00227899, 0.0022724 ,\n",
       "       0.00226584, 0.00225933, 0.00225284, 0.0022464 , 0.00223999,\n",
       "       0.00223362, 0.00222729, 0.00222099, 0.00221473, 0.0022085 ,\n",
       "       0.00220231, 0.00219615, 0.00219003, 0.00218394, 0.00217788,\n",
       "       0.00217186, 0.00216587, 0.00215991, 0.00215399, 0.0021481 ,\n",
       "       0.00214224, 0.00213641, 0.00213061, 0.00212485, 0.00211912,\n",
       "       0.00211342, 0.00210774, 0.0021021 , 0.00209649, 0.00209091,\n",
       "       0.00208536, 0.00207984, 0.00207434, 0.00206888, 0.00206344,\n",
       "       0.00205804, 0.00205266, 0.00204731, 0.00204198, 0.00203669,\n",
       "       0.00203142, 0.00202618, 0.00202097, 0.00201578, 0.00201062,\n",
       "       0.00200548, 0.00200038, 0.00199529, 0.00199024, 0.00198521,\n",
       "       0.0019802 , 0.00197522, 0.00197027, 0.00196534, 0.00196043,\n",
       "       0.00195555, 0.00195069, 0.00194586, 0.00194105, 0.00193627,\n",
       "       0.0019315 , 0.00192677, 0.00192205, 0.00191736, 0.00191269,\n",
       "       0.00190804, 0.00190342, 0.00189882, 0.00189424, 0.00188968,\n",
       "       0.00188514, 0.00188063, 0.00187614, 0.00187167, 0.00186722,\n",
       "       0.00186279, 0.00185838, 0.00185399, 0.00184963, 0.00184528,\n",
       "       0.00184096, 0.00183665, 0.00183237, 0.0018281 , 0.00182386,\n",
       "       0.00181963, 0.00181542, 0.00181124, 0.00180707, 0.00180292,\n",
       "       0.00179879, 0.00179468, 0.00179059, 0.00178652, 0.00178246,\n",
       "       0.00177843, 0.00177441, 0.00177041, 0.00176643, 0.00176246,\n",
       "       0.00175852, 0.00175459, 0.00175068, 0.00174678, 0.00174291,\n",
       "       0.00173905, 0.00173521, 0.00173138, 0.00172757, 0.00172378,\n",
       "       0.00172001, 0.00171625, 0.00171251, 0.00170878, 0.00170507,\n",
       "       0.00170138, 0.0016977 , 0.00169404, 0.00169039, 0.00168676,\n",
       "       0.00168315, 0.00167955, 0.00167596, 0.00167239, 0.00166884,\n",
       "       0.0016653 , 0.00166178, 0.00165827, 0.00165478, 0.0016513 ,\n",
       "       0.00164783, 0.00164438, 0.00164095, 0.00163753, 0.00163412,\n",
       "       0.00163073, 0.00162735, 0.00162398, 0.00162063, 0.00161729,\n",
       "       0.00161397, 0.00161066, 0.00160736, 0.00160408, 0.00160081,\n",
       "       0.00159756, 0.00159431, 0.00159108, 0.00158787, 0.00158466,\n",
       "       0.00158147, 0.00157829, 0.00157513, 0.00157198, 0.00156883,\n",
       "       0.00156571, 0.00156259, 0.00155949, 0.0015564 , 0.00155332,\n",
       "       0.00155026, 0.0015472 , 0.00154416, 0.00154113, 0.00153811,\n",
       "       0.0015351 , 0.00153211, 0.00152913, 0.00152616, 0.0015232 ,\n",
       "       0.00152025, 0.00151731, 0.00151439, 0.00151147, 0.00150857,\n",
       "       0.00150568, 0.00150279, 0.00149992, 0.00149707, 0.00149422,\n",
       "       0.00149138, 0.00148855, 0.00148574, 0.00148293, 0.00148014,\n",
       "       0.00147735, 0.00147458, 0.00147182, 0.00146906, 0.00146632,\n",
       "       0.00146359, 0.00146087, 0.00145815, 0.00145545, 0.00145276,\n",
       "       0.00145008, 0.0014474 , 0.00144474, 0.00144209, 0.00143945,\n",
       "       0.00143681, 0.00143419, 0.00143158, 0.00142897, 0.00142638,\n",
       "       0.00142379, 0.00142121, 0.00141865, 0.00141609, 0.00141354,\n",
       "       0.001411  , 0.00140847, 0.00140595, 0.00140344, 0.00140093,\n",
       "       0.00139844, 0.00139595, 0.00139348, 0.00139101, 0.00138855,\n",
       "       0.0013861 , 0.00138366, 0.00138122, 0.0013788 , 0.00137638,\n",
       "       0.00137397, 0.00137157, 0.00136918, 0.0013668 , 0.00136443,\n",
       "       0.00136206, 0.0013597 , 0.00135735, 0.00135501, 0.00135268,\n",
       "       0.00135035, 0.00134803, 0.00134572, 0.00134342, 0.00134113,\n",
       "       0.00133884, 0.00133656, 0.00133429, 0.00133203, 0.00132977,\n",
       "       0.00132753, 0.00132529, 0.00132305, 0.00132083, 0.00131861,\n",
       "       0.0013164 , 0.0013142 , 0.001312  , 0.00130982, 0.00130763,\n",
       "       0.00130546, 0.00130329, 0.00130114, 0.00129898, 0.00129684,\n",
       "       0.0012947 , 0.00129257, 0.00129045, 0.00128833, 0.00128622,\n",
       "       0.00128412, 0.00128202, 0.00127993, 0.00127785, 0.00127577,\n",
       "       0.0012737 , 0.00127164, 0.00126959, 0.00126754, 0.0012655 ,\n",
       "       0.00126346, 0.00126143, 0.00125941, 0.00125739, 0.00125538,\n",
       "       0.00125338, 0.00125138, 0.00124939, 0.00124741, 0.00124543,\n",
       "       0.00124346, 0.00124149, 0.00123953, 0.00123758, 0.00123563,\n",
       "       0.00123369, 0.00123176, 0.00122983, 0.0012279 , 0.00122599,\n",
       "       0.00122408, 0.00122217, 0.00122027, 0.00121838, 0.00121649,\n",
       "       0.00121461, 0.00121274, 0.00121087, 0.001209  , 0.00120714,\n",
       "       0.00120529, 0.00120344, 0.0012016 , 0.00119977, 0.00119794,\n",
       "       0.00119611, 0.00119429, 0.00119248, 0.00119067, 0.00118887,\n",
       "       0.00118707, 0.00118528, 0.0011835 , 0.00118172, 0.00117994,\n",
       "       0.00117817, 0.00117641, 0.00117465, 0.00117289, 0.00117114,\n",
       "       0.0011694 , 0.00116766, 0.00116593, 0.0011642 , 0.00116248,\n",
       "       0.00116076, 0.00115905, 0.00115734, 0.00115563, 0.00115394,\n",
       "       0.00115224, 0.00115056, 0.00114887, 0.00114719, 0.00114552,\n",
       "       0.00114385, 0.00114219, 0.00114053, 0.00113888, 0.00113723,\n",
       "       0.00113558, 0.00113394, 0.00113231, 0.00113068, 0.00112905,\n",
       "       0.00112743, 0.00112582, 0.00112421, 0.0011226 , 0.001121  ,\n",
       "       0.0011194 , 0.00111781, 0.00111622, 0.00111463, 0.00111305,\n",
       "       0.00111148, 0.00110991, 0.00110834, 0.00110678, 0.00110522,\n",
       "       0.00110367, 0.00110212, 0.00110058, 0.00109904, 0.0010975 ,\n",
       "       0.00109597, 0.00109444, 0.00109292, 0.0010914 , 0.00108988,\n",
       "       0.00108837, 0.00108687, 0.00108537, 0.00108387, 0.00108237,\n",
       "       0.00108089, 0.0010794 , 0.00107792, 0.00107644, 0.00107497,\n",
       "       0.0010735 , 0.00107203, 0.00107057, 0.00106911, 0.00106766,\n",
       "       0.00106621, 0.00106477, 0.00106332, 0.00106189, 0.00106045,\n",
       "       0.00105902, 0.0010576 , 0.00105617, 0.00105476, 0.00105334,\n",
       "       0.00105193, 0.00105052, 0.00104912, 0.00104772, 0.00104633,\n",
       "       0.00104493, 0.00104355, 0.00104216, 0.00104078, 0.0010394 ,\n",
       "       0.00103803, 0.00103666, 0.00103529, 0.00103393, 0.00103257,\n",
       "       0.00103121, 0.00102986, 0.00102851, 0.00102717, 0.00102583,\n",
       "       0.00102449, 0.00102315, 0.00102182, 0.00102049, 0.00101917,\n",
       "       0.00101785, 0.00101653, 0.00101522, 0.00101391, 0.0010126 ,\n",
       "       0.0010113 , 0.00101   , 0.0010087 , 0.0010074 , 0.00100611,\n",
       "       0.00100483, 0.00100354, 0.00100226, 0.00100099, 0.00099971,\n",
       "       0.00099844, 0.00099717, 0.00099591, 0.00099465, 0.00099339,\n",
       "       0.00099213, 0.00099088, 0.00098963, 0.00098839, 0.00098715,\n",
       "       0.00098591, 0.00098467, 0.00098344, 0.00098221, 0.00098098,\n",
       "       0.00097976, 0.00097854, 0.00097732, 0.0009761 , 0.00097489,\n",
       "       0.00097368, 0.00097248, 0.00097128, 0.00097008, 0.00096888,\n",
       "       0.00096769, 0.0009665 , 0.00096531, 0.00096412, 0.00096294,\n",
       "       0.00096176, 0.00096058, 0.00095941, 0.00095824, 0.00095707,\n",
       "       0.00095591, 0.00095475, 0.00095359, 0.00095243, 0.00095128,\n",
       "       0.00095013, 0.00094898, 0.00094783, 0.00094669, 0.00094555,\n",
       "       0.00094441, 0.00094328, 0.00094215, 0.00094102, 0.00093989,\n",
       "       0.00093877, 0.00093765, 0.00093653, 0.00093542, 0.0009343 ,\n",
       "       0.00093319, 0.00093208, 0.00093098, 0.00092988, 0.00092878,\n",
       "       0.00092768, 0.00092659, 0.00092549, 0.00092441, 0.00092332,\n",
       "       0.00092223, 0.00092115, 0.00092007, 0.000919  , 0.00091792,\n",
       "       0.00091685, 0.00091578, 0.00091472, 0.00091365, 0.00091259,\n",
       "       0.00091153, 0.00091047, 0.00090942, 0.00090837, 0.00090732,\n",
       "       0.00090627, 0.00090523, 0.00090419, 0.00090315, 0.00090211,\n",
       "       0.00090107, 0.00090004, 0.00089901, 0.00089798, 0.00089696,\n",
       "       0.00089593, 0.00089491, 0.00089389, 0.00089288, 0.00089186,\n",
       "       0.00089085, 0.00088984, 0.00088884, 0.00088783, 0.00088683,\n",
       "       0.00088583, 0.00088483, 0.00088384, 0.00088284, 0.00088185,\n",
       "       0.00088086, 0.00087987, 0.00087889, 0.00087791, 0.00087693,\n",
       "       0.00087595, 0.00087497, 0.000874  , 0.00087303, 0.00087206,\n",
       "       0.00087109, 0.00087013, 0.00086916, 0.0008682 , 0.00086724,\n",
       "       0.00086629, 0.00086533, 0.00086438, 0.00086343, 0.00086248,\n",
       "       0.00086154, 0.00086059, 0.00085965, 0.00085871, 0.00085777,\n",
       "       0.00085684, 0.0008559 , 0.00085497, 0.00085404, 0.00085311,\n",
       "       0.00085219, 0.00085126, 0.00085034, 0.00084942, 0.00084851,\n",
       "       0.00084759, 0.00084668, 0.00084576, 0.00084485, 0.00084395,\n",
       "       0.00084304, 0.00084214, 0.00084124, 0.00084034, 0.00083944,\n",
       "       0.00083854, 0.00083765, 0.00083675, 0.00083586, 0.00083497,\n",
       "       0.00083409, 0.0008332 , 0.00083232, 0.00083144, 0.00083056,\n",
       "       0.00082968, 0.00082881, 0.00082793, 0.00082706, 0.00082619,\n",
       "       0.00082532, 0.00082446, 0.00082359, 0.00082273, 0.00082187,\n",
       "       0.00082101, 0.00082015, 0.0008193 , 0.00081844, 0.00081759,\n",
       "       0.00081674, 0.00081589, 0.00081505, 0.0008142 , 0.00081336,\n",
       "       0.00081252, 0.00081168, 0.00081084, 0.00081   , 0.00080917,\n",
       "       0.00080833, 0.0008075 , 0.00080667, 0.00080585, 0.00080502,\n",
       "       0.0008042 , 0.00080337, 0.00080255, 0.00080173, 0.00080092,\n",
       "       0.0008001 , 0.00079929, 0.00079847, 0.00079766, 0.00079685,\n",
       "       0.00079605, 0.00079524, 0.00079443, 0.00079363, 0.00079283,\n",
       "       0.00079203, 0.00079123, 0.00079044, 0.00078964, 0.00078885,\n",
       "       0.00078806, 0.00078727, 0.00078648, 0.00078569, 0.00078491])"
      ]
     },
     "execution_count": 46,
     "metadata": {},
     "output_type": "execute_result"
    }
   ],
   "source": [
    "res = vraipi-wallis(1000)\n",
    "res"
   ]
  },
  {
   "cell_type": "code",
   "execution_count": 50,
   "metadata": {},
   "outputs": [
    {
     "data": {
      "text/plain": [
       "[<matplotlib.lines.Line2D at 0x7fd830b75b20>]"
      ]
     },
     "execution_count": 50,
     "metadata": {},
     "output_type": "execute_result"
    },
    {
     "data": {
      "image/png": "[encoded data removed]",
      "text/plain": [
       "<Figure size 432x288 with 1 Axes>"
      ]
     },
     "metadata": {
      "needs_background": "light"
     },
     "output_type": "display_data"
    }
   ],
   "source": [
    "import pylab\n",
    "pylab.plot(res)"
   ]
  },
  {
   "cell_type": "code",
   "execution_count": 64,
   "metadata": {},
   "outputs": [],
   "source": [
    "def ln1(x,n):\n",
    "    i = np.arange(n)+1\n",
    "    return np.cumsum((-1)**(i+1)/i*x**i)"
   ]
  },
  {
   "cell_type": "code",
   "execution_count": 68,
   "metadata": {},
   "outputs": [
    {
     "data": {
      "text/plain": [
       "<ufunc 'log'>"
      ]
     },
     "execution_count": 68,
     "metadata": {},
     "output_type": "execute_result"
    }
   ],
   "source": [
    "np.log"
   ]
  },
  {
   "cell_type": "code",
   "execution_count": 71,
   "metadata": {},
   "outputs": [],
   "source": [
    "erreur = ln1(0.5,1000)-log(1.5)"
   ]
  },
  {
   "cell_type": "code",
   "execution_count": 75,
   "metadata": {},
   "outputs": [
    {
     "data": {
      "text/plain": [
       "[<matplotlib.lines.Line2D at 0x7fd82ff8b250>]"
      ]
     },
     "execution_count": 75,
     "metadata": {},
     "output_type": "execute_result"
    },
    {
     "data": {
      "image/png": "[encoded data removed]",
      "text/plain": [
       "<Figure size 432x288 with 1 Axes>"
      ]
     },
     "metadata": {
      "needs_background": "light"
     },
     "output_type": "display_data"
    }
   ],
   "source": [
    "pylab.plot(erreur[:10])"
   ]
  },
  {
   "cell_type": "code",
   "execution_count": 2,
   "metadata": {},
   "outputs": [
    {
     "name": "stdout",
     "output_type": "stream",
     "text": [
      "[[ 0.50485298 -0.17107857 -0.28123392  0.35814051  0.69610554  0.50489116]\n",
      " [ 0.44373168  0.07596192 -0.20399471  0.33903878 -0.19292254  0.58443296]\n",
      " [ 0.48532706  0.48003498  0.27984522  0.1055935  -0.28457136  0.07994493]\n",
      " [ 0.00612722  0.61169589  0.48739643  0.27762633 -0.02709878  0.2701364 ]\n",
      " [ 0.29065567 -0.2938163   0.21355553  0.24834878  0.37500439 -0.12840343]]\n"
     ]
    }
   ],
   "source": [
    "import numpy as np\n",
    "\n",
    "a = np.random.random((5,6))-0.3\n",
    "print(a)"
   ]
  },
  {
   "cell_type": "code",
   "execution_count": 3,
   "metadata": {},
   "outputs": [],
   "source": [
    "a[a<0] = 0"
   ]
  },
  {
   "cell_type": "code",
   "execution_count": 4,
   "metadata": {},
   "outputs": [
    {
     "name": "stdout",
     "output_type": "stream",
     "text": [
      "3.141591868192149\n"
     ]
    }
   ],
   "source": [
    "NMAX = 1000000\n",
    "i = 1+np.arange(NMAX)\n",
    "b = 4*i**2\n",
    "terms = (b/(b-1))\n",
    "monpi = 2*terms.prod()\n",
    "print(monpi)\n",
    "\n",
    "from math import pi"
   ]
  },
  {
   "cell_type": "code",
   "execution_count": 8,
   "metadata": {},
   "outputs": [
    {
     "data": {
      "text/plain": [
       "[<matplotlib.lines.Line2D at 0x7fe07dff3c10>]"
      ]
     },
     "execution_count": 8,
     "metadata": {},
     "output_type": "execute_result"
    },
    {
     "data": {
      "image/png": "[encoded data removed]",
      "text/plain": [
       "<Figure size 432x288 with 1 Axes>"
      ]
     },
     "metadata": {
      "needs_background": "light"
     },
     "output_type": "display_data"
    }
   ],
   "source": [
    "approx = pi-2*terms.cumprod()\n",
    "import pylab\n",
    "pylab.plot(approx)\n",
    "#pylab.loglog(approx)"
   ]
  },
  {
   "cell_type": "code",
   "execution_count": 6,
   "metadata": {},
   "outputs": [
    {
     "data": {
      "text/plain": [
       "-0.4054651081081643"
      ]
     },
     "execution_count": 6,
     "metadata": {},
     "output_type": "execute_result"
    }
   ],
   "source": [
    "sum((-1)**i/i*0.5**i)"
   ]
  },
  {
   "cell_type": "code",
   "execution_count": null,
   "metadata": {},
   "outputs": [],
   "source": []
  },
  {
   "cell_type": "code",
   "execution_count": 17,
   "metadata": {},
   "outputs": [
    {
     "name": "stdout",
     "output_type": "stream",
     "text": [
      "[[ 0.63411735  0.16536403  0.80742389  0.1574255   0.35702313  0.19395452]\n",
      " [-0.70286642 -0.28842266  0.73098293  0.46961312  0.18839013 -0.17198078]\n",
      " [ 1.1061183   0.48610162  0.60592265  0.34178927  0.54333648 -0.0325966 ]\n",
      " [ 0.97544705  0.22409427  0.64364054  0.41853895  0.64526916  0.36192776]\n",
      " [-0.00272042 -0.20047771  1.02696332  0.47784272  1.83459281  0.67370658]]\n"
     ]
    }
   ],
   "source": [
    "a[:,::2] = a[:,::2] + 2*a[:,1::2]\n",
    "print(a)"
   ]
  },
  {
   "cell_type": "code",
   "execution_count": 31,
   "metadata": {},
   "outputs": [
    {
     "data": {
      "text/plain": [
       "array([-0.23301698, -0.13279102, -0.26187959, -0.07231389, -0.06201684,\n",
       "       -0.14125872, -0.04817814])"
      ]
     },
     "execution_count": 31,
     "metadata": {},
     "output_type": "execute_result"
    }
   ],
   "source": [
    "a[(a<0)] = 0"
   ]
  },
  {
   "cell_type": "code",
   "execution_count": 23,
   "metadata": {},
   "outputs": [
    {
     "name": "stdout",
     "output_type": "stream",
     "text": [
      "[[0.63411735 0.16536403 0.80742389 0.1574255  0.35702313 0.19395452]\n",
      " [0.         0.         0.73098293 0.46961312 0.18839013 0.        ]\n",
      " [1.1061183  0.48610162 0.60592265 0.34178927 0.54333648 0.        ]\n",
      " [0.97544705 0.22409427 0.64364054 0.41853895 0.64526916 0.36192776]\n",
      " [0.         0.         1.02696332 0.47784272 1.83459281 0.67370658]]\n"
     ]
    }
   ],
   "source": [
    "print(a)"
   ]
  },
  {
   "cell_type": "code",
   "execution_count": 4,
   "metadata": {},
   "outputs": [
    {
     "name": "stdout",
     "output_type": "stream",
     "text": [
      "[[0.65064807 0.55031481 0.12193933 0.23659625 0.41359663 0.26513948]\n",
      " [0.         0.         0.62183885 0.         0.         0.01971086]\n",
      " [0.10584085 0.         0.57611705 0.66397284 0.36930593 0.02355765]\n",
      " [0.         0.         0.57341865 0.19488033 0.27488565 0.        ]\n",
      " [0.32949501 0.18343629 0.29262966 0.         0.44038484 0.51826797]]\n"
     ]
    }
   ],
   "source": [
    "b = np.zeros(a.shape)\n",
    "b[...] = a\n",
    "b[b<0] = 0\n",
    "print(b)"
   ]
  },
  {
   "cell_type": "code",
   "execution_count": 5,
   "metadata": {},
   "outputs": [
    {
     "name": "stdout",
     "output_type": "stream",
     "text": [
      "[[-0.44998156  0.55031481 -0.35125317  0.23659625 -0.11668233  0.26513948]\n",
      " [-0.0461634  -0.08718648  1.09942519 -0.23879317 -0.31688683  0.01971086]\n",
      " [ 0.29096268 -0.09256091 -0.75182862  0.66397284  0.32219063  0.02355765]\n",
      " [ 0.01578636 -0.10033475  0.18365799  0.19488033  0.70318363 -0.21414899]\n",
      " [-0.03737757  0.18343629  0.46828044 -0.08782539 -0.59615109  0.51826797]]\n"
     ]
    }
   ],
   "source": [
    "a[:,::2] = a[:,::2] - 2* a[:,1::2]\n",
    "print(a)"
   ]
  },
  {
   "cell_type": "code",
   "execution_count": 52,
   "metadata": {},
   "outputs": [],
   "source": [
    "from math import pi\n",
    "\n",
    "MAXN = 1000000\n",
    "\n"
   ]
  },
  {
   "cell_type": "code",
   "execution_count": 60,
   "metadata": {},
   "outputs": [
    {
     "data": {
      "text/plain": [
       "[<matplotlib.lines.Line2D at 0x1219044c0>]"
      ]
     },
     "execution_count": 60,
     "metadata": {},
     "output_type": "execute_result"
    },
    {
     "data": {
      "image/png": "[encoded data removed]",
      "text/plain": [
       "<Figure size 432x288 with 1 Axes>"
      ]
     },
     "metadata": {
      "needs_background": "light"
     },
     "output_type": "display_data"
    }
   ],
   "source": [
    "import pylab\n",
    "pylab.plot(y[-100000:])"
   ]
  },
  {
   "cell_type": "code",
   "execution_count": 61,
   "metadata": {},
   "outputs": [],
   "source": [
    "#Exam 2017 approximation de ln(1+x) = sum ((-1)**(i+1)/i*x**i)\n",
    "\n",
    "def ln_approx(x,n=1000):\n",
    "    i = np.arange(1,n+1)\n",
    "    v = (-1)**(i+1)/i*(x**i)\n",
    "    return v.sum()"
   ]
  },
  {
   "cell_type": "code",
   "execution_count": 65,
   "metadata": {},
   "outputs": [
    {
     "data": {
      "text/plain": [
       "-5.551115123125783e-17"
      ]
     },
     "execution_count": 65,
     "metadata": {},
     "output_type": "execute_result"
    }
   ],
   "source": [
    "ln_approx(0.5,n=100)-np.log(1.5)"
   ]
  },
  {
   "cell_type": "code",
   "execution_count": 66,
   "metadata": {},
   "outputs": [],
   "source": [
    "def error_ln(x,n=1000):\n",
    "    i = np.arange(1,n+1)\n",
    "    v = (-1)**(i+1)/i*(x**i)\n",
    "    return v.cumsum()-np.log(1+x)"
   ]
  },
  {
   "cell_type": "code",
   "execution_count": 73,
   "metadata": {},
   "outputs": [
    {
     "data": {
      "text/plain": [
       "[<matplotlib.lines.Line2D at 0x14d78d280>]"
      ]
     },
     "execution_count": 73,
     "metadata": {},
     "output_type": "execute_result"
    },
    {
     "data": {
      "image/png": "[encoded data removed]",
      "text/plain": [
       "<Figure size 432x288 with 1 Axes>"
      ]
     },
     "metadata": {
      "needs_background": "light"
     },
     "output_type": "display_data"
    }
   ],
   "source": [
    "import pylab\n",
    "\n",
    "pylab.plot(error_ln(0.5,30))"
   ]
  },
  {
   "cell_type": "code",
   "execution_count": 76,
   "metadata": {},
   "outputs": [
    {
     "data": {
      "text/plain": [
       "4"
      ]
     },
     "execution_count": 76,
     "metadata": {},
     "output_type": "execute_result"
    }
   ],
   "source": [
    "a = np.arange(10)\n",
    "sum(a>5)"
   ]
  },
  {
   "cell_type": "code",
   "execution_count": 86,
   "metadata": {},
   "outputs": [
    {
     "name": "stdout",
     "output_type": "stream",
     "text": [
      "3.1404\n"
     ]
    }
   ],
   "source": [
    "# Exam 2018\n",
    "def montecarlo_pi(n):\n",
    "    x = np.random.uniform(size=n)\n",
    "    y = np.random.uniform(size=n)\n",
    "    res = 4*sum(x**2+y**2<=1)/n\n",
    "    return res\n",
    "\n",
    "print(montecarlo_pi(10000))"
   ]
  }
 ],
 "metadata": {
  "celltoolbar": "Slideshow",
  "kernelspec": {
   "display_name": "Python 3",
   "language": "python",
   "name": "python3"
  },
  "language_info": {
   "codemirror_mode": {
    "name": "ipython",
    "version": 3
   },
   "file_extension": ".py",
   "mimetype": "text/x-python",
   "name": "python",
   "nbconvert_exporter": "python",
   "pygments_lexer": "ipython3",
   "version": "3.8.10"
  }
 },
 "nbformat": 4,
 "nbformat_minor": 1
}
